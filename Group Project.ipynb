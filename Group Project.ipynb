{
 "cells": [
  {
   "cell_type": "markdown",
   "id": "bf510007-4385-4343-89ec-bf3afa9976ed",
   "metadata": {},
   "source": [
    "# Phishing URL Detection"
   ]
  },
  {
   "cell_type": "markdown",
   "id": "07e97e01-8c50-4737-bb6a-942cb26f1d7f",
   "metadata": {},
   "source": [
    "## Introduction"
   ]
  },
  {
   "cell_type": "markdown",
   "id": "7cd9723a-3f15-4d92-82e5-22892e160acc",
   "metadata": {},
   "source": [
    "### Relevant Background Information"
   ]
  },
  {
   "cell_type": "markdown",
   "id": "77d3942f-9b06-4c41-ac63-d2c40ff72490",
   "metadata": {},
   "source": [
    "Phishing is a cybercrime that baits unknowing victims into clicking on URLs. This is done by acting like an authentic institution while contacting the victim through emails, texts, or other social media. Phishing assaults nowadays are advanced and progressively more troublesome to spot; additionally, as we rely more on our online profiles, phishing emails that take our sensitive information become more and more dangerous. Not only are phishing assaults dangerous to individuals, but they are also dangerous to huge corporations. For instance, one of the most extraordinary Phishing attacks includes the Colonial Pipeline scam, where over 3.4 billion euros were scammed out of the company. The attack was constructed by a simple email that gained access to passwords and planted malicious software onto the company network system. This caused the company to shut down and the oil prices to skyrocket. The seriousness and dangers of phishing can lead to extreme damage and have tragic consequences, so more sophisticated methods of systems are required to prevent phishing. To counteract the dangers of phishing, our group will classify URLs as 'phishing' or 'legitimate' to warn victims before the attackers steal their sensitive information."
   ]
  },
  {
   "cell_type": "markdown",
   "id": "517da523-290a-46b1-97a8-e81e19978cb4",
   "metadata": {},
   "source": [
    "### Predictive Question"
   ]
  },
  {
   "cell_type": "markdown",
   "id": "c611cbdb-173d-4299-b539-df6c33924e4e",
   "metadata": {},
   "source": [
    "Can we classify an URL as phishing or legitimate?"
   ]
  },
  {
   "cell_type": "markdown",
   "id": "15feb7a1-5c57-485e-b6dd-0bcf45047fd2",
   "metadata": {},
   "source": [
    "### Dataset used to answer the Question"
   ]
  },
  {
   "cell_type": "markdown",
   "id": "c849d010-7551-45f2-a24b-9b42dffc6b07",
   "metadata": {},
   "source": [
    "The dataset used in this project comes from: https://data.mendeley.com/datasets/c2gw7fy2j4/3/files/575316f4-ee1d-453e-a04f-7b950915b61b\n",
    "\n",
    "The dataset is used by the article <a href=\"https://www.sciencedirect.com/science/article/pii/S0952197621001950#\">Towards benchmark datasets for machine learning based website phishing detection: An experimental study</a> which can be found in the <a href=\"https://www.sciencedirect.com/journal/engineering-applications-of-artificial-intelligence\">Engineering Applications of Artificial Intelligence journal</a>."
   ]
  },
  {
   "cell_type": "markdown",
   "id": "9dbdabf7-f3c8-4940-bd48-fd2fb623bcfe",
   "metadata": {},
   "source": [
    "## Methods & Results"
   ]
  },
  {
   "cell_type": "markdown",
   "id": "79061d81-fcb8-4ad6-9d30-e7e5cb3d7989",
   "metadata": {},
   "source": [
    "### Overview"
   ]
  },
  {
   "cell_type": "markdown",
   "id": "4f7d5bc9-3db4-4b2d-a658-40d33f339334",
   "metadata": {},
   "source": [
    "To successfully classify an URL as phishing or legitimate, we will be using the K-Nearest Neighbors Classification Algorithm. To perform this algorithm successfully, we will use Forward Selection to choose the relevant predictors, splitting the data into training and testing sets, and using Cross-fold validation to choose the optimal K value. Finally, we will test our model on the testing set. "
   ]
  },
  {
   "cell_type": "markdown",
   "id": "76d61c34-6a40-4133-af7a-762e1e43857a",
   "metadata": {},
   "source": [
    "### Housekeeping"
   ]
  },
  {
   "cell_type": "markdown",
   "id": "bf9e5c0d-2f05-4f3e-bed7-7e0ec5576062",
   "metadata": {},
   "source": [
    "We start by loading the required libraries into R to allow us to perform data analysis."
   ]
  },
  {
   "cell_type": "code",
   "execution_count": 229,
   "id": "3cfff906-ae4e-4e2a-92cf-cece543f87cf",
   "metadata": {},
   "outputs": [],
   "source": [
    "library(plyr)\n",
    "library(tidyverse)\n",
    "library(repr)\n",
    "library(tidymodels)\n",
    "require(gridExtra)"
   ]
  },
  {
   "cell_type": "markdown",
   "id": "3cc9a5f6-9c45-40a3-bd0a-8b58a53d18c6",
   "metadata": {},
   "source": [
    "### Gathering Data"
   ]
  },
  {
   "cell_type": "markdown",
   "id": "ac737b3c-47c7-4aed-bb32-2302458e21b4",
   "metadata": {},
   "source": [
    "Next, we use ```read_csv``` to read the data into R. (Notably, the CSV file is not hosted for use on data.mendeley.com; therefore, I am hosting the CSV file on my own server.)"
   ]
  },
  {
   "cell_type": "code",
   "execution_count": 230,
   "id": "65e5e2b2-ee0a-45c6-a023-94c87ebeebbc",
   "metadata": {},
   "outputs": [
    {
     "name": "stderr",
     "output_type": "stream",
     "text": [
      "\u001b[1mRows: \u001b[22m\u001b[34m11430\u001b[39m \u001b[1mColumns: \u001b[22m\u001b[34m89\u001b[39m\n",
      "\u001b[36m──\u001b[39m \u001b[1mColumn specification\u001b[22m \u001b[36m────────────────────────────────────────────────────────\u001b[39m\n",
      "\u001b[1mDelimiter:\u001b[22m \",\"\n",
      "\u001b[31mchr\u001b[39m  (2): url, status\n",
      "\u001b[32mdbl\u001b[39m (87): length_url, length_hostname, ip, nb_dots, nb_hyphens, nb_at, nb_qm...\n",
      "\n",
      "\u001b[36mℹ\u001b[39m Use `spec()` to retrieve the full column specification for this data.\n",
      "\u001b[36mℹ\u001b[39m Specify the column types or set `show_col_types = FALSE` to quiet this message.\n"
     ]
    }
   ],
   "source": [
    "options(repr.matrix.max.rows = 5)\n",
    "phishing_data <- read_csv(\"https://brianhan.tech/media/dsci/dataset_phishing.csv\")"
   ]
  },
  {
   "cell_type": "markdown",
   "id": "31b4212a-9906-40b5-a7ca-0f8442063b53",
   "metadata": {},
   "source": [
    "### Forward Selection"
   ]
  },
  {
   "cell_type": "markdown",
   "id": "1a9f3428-30c6-4e10-8057-b2ce3e4ab533",
   "metadata": {},
   "source": [
    "This data contains a lot of predictors:"
   ]
  },
  {
   "cell_type": "code",
   "execution_count": 231,
   "id": "c71aa943-edc6-4e7e-b811-df0a4f1c0c2c",
   "metadata": {},
   "outputs": [
    {
     "data": {
      "text/html": [
       "<style>\n",
       ".list-inline {list-style: none; margin:0; padding: 0}\n",
       ".list-inline>li {display: inline-block}\n",
       ".list-inline>li:not(:last-child)::after {content: \"\\00b7\"; padding: 0 .5ex}\n",
       "</style>\n",
       "<ol class=list-inline><li>'url'</li><li>'length_url'</li><li>'length_hostname'</li><li>'ip'</li><li>'nb_dots'</li><li>'nb_hyphens'</li><li>'nb_at'</li><li>'nb_qm'</li><li>'nb_and'</li><li>'nb_or'</li><li>'nb_eq'</li><li>'nb_underscore'</li><li>'nb_tilde'</li><li>'nb_percent'</li><li>'nb_slash'</li><li>'nb_star'</li><li>'nb_colon'</li><li>'nb_comma'</li><li>'nb_semicolumn'</li><li>'nb_dollar'</li><li>'nb_space'</li><li>'nb_www'</li><li>'nb_com'</li><li>'nb_dslash'</li><li>'http_in_path'</li><li>'https_token'</li><li>'ratio_digits_url'</li><li>'ratio_digits_host'</li><li>'punycode'</li><li>'port'</li><li>'tld_in_path'</li><li>'tld_in_subdomain'</li><li>'abnormal_subdomain'</li><li>'nb_subdomains'</li><li>'prefix_suffix'</li><li>'random_domain'</li><li>'shortening_service'</li><li>'path_extension'</li><li>'nb_redirection'</li><li>'nb_external_redirection'</li><li>'length_words_raw'</li><li>'char_repeat'</li><li>'shortest_words_raw'</li><li>'shortest_word_host'</li><li>'shortest_word_path'</li><li>'longest_words_raw'</li><li>'longest_word_host'</li><li>'longest_word_path'</li><li>'avg_words_raw'</li><li>'avg_word_host'</li><li>'avg_word_path'</li><li>'phish_hints'</li><li>'domain_in_brand'</li><li>'brand_in_subdomain'</li><li>'brand_in_path'</li><li>'suspecious_tld'</li><li>'statistical_report'</li><li>'nb_hyperlinks'</li><li>'ratio_intHyperlinks'</li><li>'ratio_extHyperlinks'</li><li>'ratio_nullHyperlinks'</li><li>'nb_extCSS'</li><li>'ratio_intRedirection'</li><li>'ratio_extRedirection'</li><li>'ratio_intErrors'</li><li>'ratio_extErrors'</li><li>'login_form'</li><li>'external_favicon'</li><li>'links_in_tags'</li><li>'submit_email'</li><li>'ratio_intMedia'</li><li>'ratio_extMedia'</li><li>'sfh'</li><li>'iframe'</li><li>'popup_window'</li><li>'safe_anchor'</li><li>'onmouseover'</li><li>'right_clic'</li><li>'empty_title'</li><li>'domain_in_title'</li><li>'domain_with_copyright'</li><li>'whois_registered_domain'</li><li>'domain_registration_length'</li><li>'domain_age'</li><li>'web_traffic'</li><li>'dns_record'</li><li>'google_index'</li><li>'page_rank'</li><li>'status'</li></ol>\n"
      ],
      "text/latex": [
       "\\begin{enumerate*}\n",
       "\\item 'url'\n",
       "\\item 'length\\_url'\n",
       "\\item 'length\\_hostname'\n",
       "\\item 'ip'\n",
       "\\item 'nb\\_dots'\n",
       "\\item 'nb\\_hyphens'\n",
       "\\item 'nb\\_at'\n",
       "\\item 'nb\\_qm'\n",
       "\\item 'nb\\_and'\n",
       "\\item 'nb\\_or'\n",
       "\\item 'nb\\_eq'\n",
       "\\item 'nb\\_underscore'\n",
       "\\item 'nb\\_tilde'\n",
       "\\item 'nb\\_percent'\n",
       "\\item 'nb\\_slash'\n",
       "\\item 'nb\\_star'\n",
       "\\item 'nb\\_colon'\n",
       "\\item 'nb\\_comma'\n",
       "\\item 'nb\\_semicolumn'\n",
       "\\item 'nb\\_dollar'\n",
       "\\item 'nb\\_space'\n",
       "\\item 'nb\\_www'\n",
       "\\item 'nb\\_com'\n",
       "\\item 'nb\\_dslash'\n",
       "\\item 'http\\_in\\_path'\n",
       "\\item 'https\\_token'\n",
       "\\item 'ratio\\_digits\\_url'\n",
       "\\item 'ratio\\_digits\\_host'\n",
       "\\item 'punycode'\n",
       "\\item 'port'\n",
       "\\item 'tld\\_in\\_path'\n",
       "\\item 'tld\\_in\\_subdomain'\n",
       "\\item 'abnormal\\_subdomain'\n",
       "\\item 'nb\\_subdomains'\n",
       "\\item 'prefix\\_suffix'\n",
       "\\item 'random\\_domain'\n",
       "\\item 'shortening\\_service'\n",
       "\\item 'path\\_extension'\n",
       "\\item 'nb\\_redirection'\n",
       "\\item 'nb\\_external\\_redirection'\n",
       "\\item 'length\\_words\\_raw'\n",
       "\\item 'char\\_repeat'\n",
       "\\item 'shortest\\_words\\_raw'\n",
       "\\item 'shortest\\_word\\_host'\n",
       "\\item 'shortest\\_word\\_path'\n",
       "\\item 'longest\\_words\\_raw'\n",
       "\\item 'longest\\_word\\_host'\n",
       "\\item 'longest\\_word\\_path'\n",
       "\\item 'avg\\_words\\_raw'\n",
       "\\item 'avg\\_word\\_host'\n",
       "\\item 'avg\\_word\\_path'\n",
       "\\item 'phish\\_hints'\n",
       "\\item 'domain\\_in\\_brand'\n",
       "\\item 'brand\\_in\\_subdomain'\n",
       "\\item 'brand\\_in\\_path'\n",
       "\\item 'suspecious\\_tld'\n",
       "\\item 'statistical\\_report'\n",
       "\\item 'nb\\_hyperlinks'\n",
       "\\item 'ratio\\_intHyperlinks'\n",
       "\\item 'ratio\\_extHyperlinks'\n",
       "\\item 'ratio\\_nullHyperlinks'\n",
       "\\item 'nb\\_extCSS'\n",
       "\\item 'ratio\\_intRedirection'\n",
       "\\item 'ratio\\_extRedirection'\n",
       "\\item 'ratio\\_intErrors'\n",
       "\\item 'ratio\\_extErrors'\n",
       "\\item 'login\\_form'\n",
       "\\item 'external\\_favicon'\n",
       "\\item 'links\\_in\\_tags'\n",
       "\\item 'submit\\_email'\n",
       "\\item 'ratio\\_intMedia'\n",
       "\\item 'ratio\\_extMedia'\n",
       "\\item 'sfh'\n",
       "\\item 'iframe'\n",
       "\\item 'popup\\_window'\n",
       "\\item 'safe\\_anchor'\n",
       "\\item 'onmouseover'\n",
       "\\item 'right\\_clic'\n",
       "\\item 'empty\\_title'\n",
       "\\item 'domain\\_in\\_title'\n",
       "\\item 'domain\\_with\\_copyright'\n",
       "\\item 'whois\\_registered\\_domain'\n",
       "\\item 'domain\\_registration\\_length'\n",
       "\\item 'domain\\_age'\n",
       "\\item 'web\\_traffic'\n",
       "\\item 'dns\\_record'\n",
       "\\item 'google\\_index'\n",
       "\\item 'page\\_rank'\n",
       "\\item 'status'\n",
       "\\end{enumerate*}\n"
      ],
      "text/markdown": [
       "1. 'url'\n",
       "2. 'length_url'\n",
       "3. 'length_hostname'\n",
       "4. 'ip'\n",
       "5. 'nb_dots'\n",
       "6. 'nb_hyphens'\n",
       "7. 'nb_at'\n",
       "8. 'nb_qm'\n",
       "9. 'nb_and'\n",
       "10. 'nb_or'\n",
       "11. 'nb_eq'\n",
       "12. 'nb_underscore'\n",
       "13. 'nb_tilde'\n",
       "14. 'nb_percent'\n",
       "15. 'nb_slash'\n",
       "16. 'nb_star'\n",
       "17. 'nb_colon'\n",
       "18. 'nb_comma'\n",
       "19. 'nb_semicolumn'\n",
       "20. 'nb_dollar'\n",
       "21. 'nb_space'\n",
       "22. 'nb_www'\n",
       "23. 'nb_com'\n",
       "24. 'nb_dslash'\n",
       "25. 'http_in_path'\n",
       "26. 'https_token'\n",
       "27. 'ratio_digits_url'\n",
       "28. 'ratio_digits_host'\n",
       "29. 'punycode'\n",
       "30. 'port'\n",
       "31. 'tld_in_path'\n",
       "32. 'tld_in_subdomain'\n",
       "33. 'abnormal_subdomain'\n",
       "34. 'nb_subdomains'\n",
       "35. 'prefix_suffix'\n",
       "36. 'random_domain'\n",
       "37. 'shortening_service'\n",
       "38. 'path_extension'\n",
       "39. 'nb_redirection'\n",
       "40. 'nb_external_redirection'\n",
       "41. 'length_words_raw'\n",
       "42. 'char_repeat'\n",
       "43. 'shortest_words_raw'\n",
       "44. 'shortest_word_host'\n",
       "45. 'shortest_word_path'\n",
       "46. 'longest_words_raw'\n",
       "47. 'longest_word_host'\n",
       "48. 'longest_word_path'\n",
       "49. 'avg_words_raw'\n",
       "50. 'avg_word_host'\n",
       "51. 'avg_word_path'\n",
       "52. 'phish_hints'\n",
       "53. 'domain_in_brand'\n",
       "54. 'brand_in_subdomain'\n",
       "55. 'brand_in_path'\n",
       "56. 'suspecious_tld'\n",
       "57. 'statistical_report'\n",
       "58. 'nb_hyperlinks'\n",
       "59. 'ratio_intHyperlinks'\n",
       "60. 'ratio_extHyperlinks'\n",
       "61. 'ratio_nullHyperlinks'\n",
       "62. 'nb_extCSS'\n",
       "63. 'ratio_intRedirection'\n",
       "64. 'ratio_extRedirection'\n",
       "65. 'ratio_intErrors'\n",
       "66. 'ratio_extErrors'\n",
       "67. 'login_form'\n",
       "68. 'external_favicon'\n",
       "69. 'links_in_tags'\n",
       "70. 'submit_email'\n",
       "71. 'ratio_intMedia'\n",
       "72. 'ratio_extMedia'\n",
       "73. 'sfh'\n",
       "74. 'iframe'\n",
       "75. 'popup_window'\n",
       "76. 'safe_anchor'\n",
       "77. 'onmouseover'\n",
       "78. 'right_clic'\n",
       "79. 'empty_title'\n",
       "80. 'domain_in_title'\n",
       "81. 'domain_with_copyright'\n",
       "82. 'whois_registered_domain'\n",
       "83. 'domain_registration_length'\n",
       "84. 'domain_age'\n",
       "85. 'web_traffic'\n",
       "86. 'dns_record'\n",
       "87. 'google_index'\n",
       "88. 'page_rank'\n",
       "89. 'status'\n",
       "\n",
       "\n"
      ],
      "text/plain": [
       " [1] \"url\"                        \"length_url\"                \n",
       " [3] \"length_hostname\"            \"ip\"                        \n",
       " [5] \"nb_dots\"                    \"nb_hyphens\"                \n",
       " [7] \"nb_at\"                      \"nb_qm\"                     \n",
       " [9] \"nb_and\"                     \"nb_or\"                     \n",
       "[11] \"nb_eq\"                      \"nb_underscore\"             \n",
       "[13] \"nb_tilde\"                   \"nb_percent\"                \n",
       "[15] \"nb_slash\"                   \"nb_star\"                   \n",
       "[17] \"nb_colon\"                   \"nb_comma\"                  \n",
       "[19] \"nb_semicolumn\"              \"nb_dollar\"                 \n",
       "[21] \"nb_space\"                   \"nb_www\"                    \n",
       "[23] \"nb_com\"                     \"nb_dslash\"                 \n",
       "[25] \"http_in_path\"               \"https_token\"               \n",
       "[27] \"ratio_digits_url\"           \"ratio_digits_host\"         \n",
       "[29] \"punycode\"                   \"port\"                      \n",
       "[31] \"tld_in_path\"                \"tld_in_subdomain\"          \n",
       "[33] \"abnormal_subdomain\"         \"nb_subdomains\"             \n",
       "[35] \"prefix_suffix\"              \"random_domain\"             \n",
       "[37] \"shortening_service\"         \"path_extension\"            \n",
       "[39] \"nb_redirection\"             \"nb_external_redirection\"   \n",
       "[41] \"length_words_raw\"           \"char_repeat\"               \n",
       "[43] \"shortest_words_raw\"         \"shortest_word_host\"        \n",
       "[45] \"shortest_word_path\"         \"longest_words_raw\"         \n",
       "[47] \"longest_word_host\"          \"longest_word_path\"         \n",
       "[49] \"avg_words_raw\"              \"avg_word_host\"             \n",
       "[51] \"avg_word_path\"              \"phish_hints\"               \n",
       "[53] \"domain_in_brand\"            \"brand_in_subdomain\"        \n",
       "[55] \"brand_in_path\"              \"suspecious_tld\"            \n",
       "[57] \"statistical_report\"         \"nb_hyperlinks\"             \n",
       "[59] \"ratio_intHyperlinks\"        \"ratio_extHyperlinks\"       \n",
       "[61] \"ratio_nullHyperlinks\"       \"nb_extCSS\"                 \n",
       "[63] \"ratio_intRedirection\"       \"ratio_extRedirection\"      \n",
       "[65] \"ratio_intErrors\"            \"ratio_extErrors\"           \n",
       "[67] \"login_form\"                 \"external_favicon\"          \n",
       "[69] \"links_in_tags\"              \"submit_email\"              \n",
       "[71] \"ratio_intMedia\"             \"ratio_extMedia\"            \n",
       "[73] \"sfh\"                        \"iframe\"                    \n",
       "[75] \"popup_window\"               \"safe_anchor\"               \n",
       "[77] \"onmouseover\"                \"right_clic\"                \n",
       "[79] \"empty_title\"                \"domain_in_title\"           \n",
       "[81] \"domain_with_copyright\"      \"whois_registered_domain\"   \n",
       "[83] \"domain_registration_length\" \"domain_age\"                \n",
       "[85] \"web_traffic\"                \"dns_record\"                \n",
       "[87] \"google_index\"               \"page_rank\"                 \n",
       "[89] \"status\"                    "
      ]
     },
     "metadata": {},
     "output_type": "display_data"
    },
    {
     "data": {
      "text/html": [
       "89"
      ],
      "text/latex": [
       "89"
      ],
      "text/markdown": [
       "89"
      ],
      "text/plain": [
       "[1] 89"
      ]
     },
     "metadata": {},
     "output_type": "display_data"
    }
   ],
   "source": [
    "colnames(phishing_data)\n",
    "ncol(phishing_data)"
   ]
  },
  {
   "cell_type": "markdown",
   "id": "3bf7df2e-b82f-424d-b0f6-45b60bebfec3",
   "metadata": {},
   "source": [
    "Notably, a lot of predictors are not attainable through the URL alone. For instance, we can't know the ```google_index``` through the phishing URL alone (we would need another service). To answer the question: \"Can we classify an URL as phishing or legitimate?\" we will only select the predictors that can be directly obtained from the URL.\n",
    "\n",
    "After filtering for predictors that are directly obtained from the URL, we will select the ones that we find important (Note: Ideally, we will perform forward selection on all of these variables; however, that would take ***way*** too long)."
   ]
  },
  {
   "cell_type": "code",
   "execution_count": 232,
   "id": "846beefa-abcc-4996-a4c3-c7813a139ff6",
   "metadata": {},
   "outputs": [
    {
     "data": {
      "text/html": [
       "30"
      ],
      "text/latex": [
       "30"
      ],
      "text/markdown": [
       "30"
      ],
      "text/plain": [
       "[1] 30"
      ]
     },
     "metadata": {},
     "output_type": "display_data"
    }
   ],
   "source": [
    "phishing_subset <- phishing_data |>\n",
    "                   select(status, length_url, length_hostname, nb_dots, nb_hyphens, nb_at, nb_qm, nb_and, nb_or, nb_eq, nb_underscore, nb_tilde,\n",
    "                          nb_percent, nb_slash, nb_star, nb_colon, nb_comma, nb_semicolumn, nb_dollar, nb_space, http_in_path, https_token, \n",
    "                          ratio_digits_url, ratio_digits_host, nb_subdomains,longest_word_host, longest_word_path, avg_words_raw, avg_word_host, \n",
    "                          domain_registration_length)\n",
    "ncol(phishing_subset)"
   ]
  },
  {
   "cell_type": "markdown",
   "id": "ed471ade-87c7-4497-8a4b-239a76bae3dc",
   "metadata": {},
   "source": [
    "After selecting for slimming down the dataset to 30 columns, we will be performing forward selection. Credit for the code goes to <a href=\"https://datasciencebook.ca/classification2.html#forward-selection-in-r\">datasciencebook.ca, Classification II: evaluation & tuning, 6.8.3 Forward Selection in R</a>.\n",
    "\n",
    "```r\n",
    "phishing_subset <- phishing_data |>\n",
    "                   select(status, length_url, length_hostname, nb_dots, nb_hyphens, nb_at, nb_qm, nb_and, nb_or, nb_eq, nb_underscore, nb_tilde,\n",
    "                          nb_percent, nb_slash, nb_star, nb_colon, nb_comma, nb_semicolumn, nb_dollar, nb_space, http_in_path, https_token, \n",
    "                          ratio_digits_url, ratio_digits_host, nb_subdomains,longest_word_host, longest_word_path, avg_words_raw, avg_word_host, \n",
    "                          domain_registration_length) %>%\n",
    "                   mutate(https_token = as_factor(https_token))\n",
    "\n",
    "names <- colnames(phishing_subset |> select(-status))\n",
    "\n",
    "# create an empty tibble to store the results\n",
    "accuracies <- tibble(size = integer(), \n",
    "                     model_string = character(), \n",
    "                     accuracy = numeric())\n",
    "\n",
    "# create a model specification\n",
    "knn_spec <- nearest_neighbor(weight_func = \"rectangular\", \n",
    "                             neighbors = tune()) |>\n",
    "     set_engine(\"kknn\") |>\n",
    "     set_mode(\"classification\")\n",
    "\n",
    "# create a 5-fold cross-validation object\n",
    "phishing_vfold <- vfold_cv(phishing_subset, v = 5, strata = status)\n",
    "\n",
    "# store the total number of predictors\n",
    "n_total <- length(names)\n",
    "\n",
    "# stores selected predictors\n",
    "selected <- c()\n",
    "\n",
    "# for every size from 1 to the total number of predictors\n",
    "for (i in 1:n_total) {\n",
    "    # for every predictor still not added yet\n",
    "    accs <- list()\n",
    "    models <- list()\n",
    "    for (j in 1:length(names)) {\n",
    "        # create a model string for this combination of predictors\n",
    "        preds_new <- c(selected, names[[j]])\n",
    "        model_string <- paste(\"status\", \"~\", paste(preds_new, collapse=\"+\"))\n",
    "\n",
    "        # create a recipe from the model string\n",
    "        phishing_recipe <- recipe(as.formula(model_string), \n",
    "                                  data = phishing_subset) |>\n",
    "                          step_scale(all_numeric_predictors()) |>\n",
    "                          step_center(all_numeric_predictors())\n",
    "\n",
    "        # tune the KNN classifier with these predictors, \n",
    "        # and collect the accuracy for the best K\n",
    "        acc <- workflow() |>\n",
    "               add_recipe(phishing_recipe) |>\n",
    "               add_model(knn_spec) |>\n",
    "               tune_grid(resamples = phishing_vfold, grid = 10) |>\n",
    "               collect_metrics() |>\n",
    "               filter(.metric == \"accuracy\") |>\n",
    "               summarize(mx = max(mean))\n",
    "        acc <- acc$mx |> unlist()\n",
    "\n",
    "        # add this result to the dataframe\n",
    "        accs[[j]] <- acc\n",
    "        models[[j]] <- model_string\n",
    "    }\n",
    "    jstar <- which.max(unlist(accs))\n",
    "    accuracies <- accuracies |> \n",
    "      add_row(size = i, \n",
    "              model_string = models[[jstar]], \n",
    "              accuracy = accs[[jstar]])\n",
    "    selected <- c(selected, names[[jstar]])\n",
    "    names <- names[-jstar]\n",
    "}\n",
    "```"
   ]
  },
  {
   "cell_type": "markdown",
   "id": "11caf441-fb17-43fa-97e3-05e1c1d26e20",
   "metadata": {},
   "source": [
    "As the code takes a very long time to run, we have not included it in this file. The running of the code can be seen in the ```Topic Proposal.ipynb``` file, and we will load the results from the ```accuracies.csv``` file."
   ]
  },
  {
   "cell_type": "code",
   "execution_count": 233,
   "id": "60b313bf-5162-4b08-99ca-34981e73413c",
   "metadata": {},
   "outputs": [
    {
     "name": "stderr",
     "output_type": "stream",
     "text": [
      "\u001b[1mRows: \u001b[22m\u001b[34m29\u001b[39m \u001b[1mColumns: \u001b[22m\u001b[34m3\u001b[39m\n",
      "\u001b[36m──\u001b[39m \u001b[1mColumn specification\u001b[22m \u001b[36m────────────────────────────────────────────────────────\u001b[39m\n",
      "\u001b[1mDelimiter:\u001b[22m \",\"\n",
      "\u001b[31mchr\u001b[39m (1): model_string\n",
      "\u001b[32mdbl\u001b[39m (2): size, accuracy\n",
      "\n",
      "\u001b[36mℹ\u001b[39m Use `spec()` to retrieve the full column specification for this data.\n",
      "\u001b[36mℹ\u001b[39m Specify the column types or set `show_col_types = FALSE` to quiet this message.\n"
     ]
    },
    {
     "data": {
      "text/html": [
       "<table class=\"dataframe\">\n",
       "<caption>A tibble: 2 × 3</caption>\n",
       "<thead>\n",
       "\t<tr><th scope=col>size</th><th scope=col>model_string</th><th scope=col>accuracy</th></tr>\n",
       "\t<tr><th scope=col>&lt;dbl&gt;</th><th scope=col>&lt;chr&gt;</th><th scope=col>&lt;dbl&gt;</th></tr>\n",
       "</thead>\n",
       "<tbody>\n",
       "\t<tr><td>1</td><td>status ~ longest_word_path                           </td><td>0.6675416</td></tr>\n",
       "\t<tr><td>2</td><td>status ~ longest_word_path+domain_registration_length</td><td>0.7453193</td></tr>\n",
       "</tbody>\n",
       "</table>\n"
      ],
      "text/latex": [
       "A tibble: 2 × 3\n",
       "\\begin{tabular}{lll}\n",
       " size & model\\_string & accuracy\\\\\n",
       " <dbl> & <chr> & <dbl>\\\\\n",
       "\\hline\n",
       "\t 1 & status \\textasciitilde{} longest\\_word\\_path                            & 0.6675416\\\\\n",
       "\t 2 & status \\textasciitilde{} longest\\_word\\_path+domain\\_registration\\_length & 0.7453193\\\\\n",
       "\\end{tabular}\n"
      ],
      "text/markdown": [
       "\n",
       "A tibble: 2 × 3\n",
       "\n",
       "| size &lt;dbl&gt; | model_string &lt;chr&gt; | accuracy &lt;dbl&gt; |\n",
       "|---|---|---|\n",
       "| 1 | status ~ longest_word_path                            | 0.6675416 |\n",
       "| 2 | status ~ longest_word_path+domain_registration_length | 0.7453193 |\n",
       "\n"
      ],
      "text/plain": [
       "  size model_string                                          accuracy \n",
       "1 1    status ~ longest_word_path                            0.6675416\n",
       "2 2    status ~ longest_word_path+domain_registration_length 0.7453193"
      ]
     },
     "metadata": {},
     "output_type": "display_data"
    }
   ],
   "source": [
    "accuracies <- read_csv(\"accuracies.csv\")\n",
    "head(accuracies, 2)"
   ]
  },
  {
   "cell_type": "markdown",
   "id": "fc44fe34-d6d1-45fe-af17-ae92ccaa166a",
   "metadata": {},
   "source": [
    "By organizing the output from forward selection, we would find the predictors that are most useful in classifying an URL as phishing or legitimate. "
   ]
  },
  {
   "cell_type": "code",
   "execution_count": 234,
   "id": "0c7f2ea2-1ff1-476b-be6e-6e7134abad36",
   "metadata": {},
   "outputs": [
    {
     "data": {
      "text/html": [
       "<table class=\"dataframe\">\n",
       "<caption>A tibble: 4 × 3</caption>\n",
       "<thead>\n",
       "\t<tr><th scope=col>size</th><th scope=col>model_string</th><th scope=col>accuracy</th></tr>\n",
       "\t<tr><th scope=col>&lt;dbl&gt;</th><th scope=col>&lt;chr&gt;</th><th scope=col>&lt;dbl&gt;</th></tr>\n",
       "</thead>\n",
       "<tbody>\n",
       "\t<tr><td>16</td><td>status ~ longest_word_path+domain_registration_length+nb_hyphens+nb_slash+nb_dots+ratio_digits_url+length_hostname+avg_word_host+longest_word_host+length_url+nb_underscore+nb_at+ratio_digits_host+http_in_path+nb_semicolumn+nb_tilde                        </td><td>0.8597550</td></tr>\n",
       "\t<tr><td>17</td><td>status ~ longest_word_path+domain_registration_length+nb_hyphens+nb_slash+nb_dots+ratio_digits_url+length_hostname+avg_word_host+longest_word_host+length_url+nb_underscore+nb_at+ratio_digits_host+http_in_path+nb_semicolumn+nb_tilde+nb_or                  </td><td>0.8597550</td></tr>\n",
       "\t<tr><td>18</td><td>status ~ longest_word_path+domain_registration_length+nb_hyphens+nb_slash+nb_dots+ratio_digits_url+length_hostname+avg_word_host+longest_word_host+length_url+nb_underscore+nb_at+ratio_digits_host+http_in_path+nb_semicolumn+nb_tilde+nb_or+nb_dollar        </td><td>0.8596675</td></tr>\n",
       "\t<tr><td>19</td><td>status ~ longest_word_path+domain_registration_length+nb_hyphens+nb_slash+nb_dots+ratio_digits_url+length_hostname+avg_word_host+longest_word_host+length_url+nb_underscore+nb_at+ratio_digits_host+http_in_path+nb_semicolumn+nb_tilde+nb_or+nb_dollar+nb_star</td><td>0.8596675</td></tr>\n",
       "</tbody>\n",
       "</table>\n"
      ],
      "text/latex": [
       "A tibble: 4 × 3\n",
       "\\begin{tabular}{lll}\n",
       " size & model\\_string & accuracy\\\\\n",
       " <dbl> & <chr> & <dbl>\\\\\n",
       "\\hline\n",
       "\t 16 & status \\textasciitilde{} longest\\_word\\_path+domain\\_registration\\_length+nb\\_hyphens+nb\\_slash+nb\\_dots+ratio\\_digits\\_url+length\\_hostname+avg\\_word\\_host+longest\\_word\\_host+length\\_url+nb\\_underscore+nb\\_at+ratio\\_digits\\_host+http\\_in\\_path+nb\\_semicolumn+nb\\_tilde                         & 0.8597550\\\\\n",
       "\t 17 & status \\textasciitilde{} longest\\_word\\_path+domain\\_registration\\_length+nb\\_hyphens+nb\\_slash+nb\\_dots+ratio\\_digits\\_url+length\\_hostname+avg\\_word\\_host+longest\\_word\\_host+length\\_url+nb\\_underscore+nb\\_at+ratio\\_digits\\_host+http\\_in\\_path+nb\\_semicolumn+nb\\_tilde+nb\\_or                   & 0.8597550\\\\\n",
       "\t 18 & status \\textasciitilde{} longest\\_word\\_path+domain\\_registration\\_length+nb\\_hyphens+nb\\_slash+nb\\_dots+ratio\\_digits\\_url+length\\_hostname+avg\\_word\\_host+longest\\_word\\_host+length\\_url+nb\\_underscore+nb\\_at+ratio\\_digits\\_host+http\\_in\\_path+nb\\_semicolumn+nb\\_tilde+nb\\_or+nb\\_dollar         & 0.8596675\\\\\n",
       "\t 19 & status \\textasciitilde{} longest\\_word\\_path+domain\\_registration\\_length+nb\\_hyphens+nb\\_slash+nb\\_dots+ratio\\_digits\\_url+length\\_hostname+avg\\_word\\_host+longest\\_word\\_host+length\\_url+nb\\_underscore+nb\\_at+ratio\\_digits\\_host+http\\_in\\_path+nb\\_semicolumn+nb\\_tilde+nb\\_or+nb\\_dollar+nb\\_star & 0.8596675\\\\\n",
       "\\end{tabular}\n"
      ],
      "text/markdown": [
       "\n",
       "A tibble: 4 × 3\n",
       "\n",
       "| size &lt;dbl&gt; | model_string &lt;chr&gt; | accuracy &lt;dbl&gt; |\n",
       "|---|---|---|\n",
       "| 16 | status ~ longest_word_path+domain_registration_length+nb_hyphens+nb_slash+nb_dots+ratio_digits_url+length_hostname+avg_word_host+longest_word_host+length_url+nb_underscore+nb_at+ratio_digits_host+http_in_path+nb_semicolumn+nb_tilde                         | 0.8597550 |\n",
       "| 17 | status ~ longest_word_path+domain_registration_length+nb_hyphens+nb_slash+nb_dots+ratio_digits_url+length_hostname+avg_word_host+longest_word_host+length_url+nb_underscore+nb_at+ratio_digits_host+http_in_path+nb_semicolumn+nb_tilde+nb_or                   | 0.8597550 |\n",
       "| 18 | status ~ longest_word_path+domain_registration_length+nb_hyphens+nb_slash+nb_dots+ratio_digits_url+length_hostname+avg_word_host+longest_word_host+length_url+nb_underscore+nb_at+ratio_digits_host+http_in_path+nb_semicolumn+nb_tilde+nb_or+nb_dollar         | 0.8596675 |\n",
       "| 19 | status ~ longest_word_path+domain_registration_length+nb_hyphens+nb_slash+nb_dots+ratio_digits_url+length_hostname+avg_word_host+longest_word_host+length_url+nb_underscore+nb_at+ratio_digits_host+http_in_path+nb_semicolumn+nb_tilde+nb_or+nb_dollar+nb_star | 0.8596675 |\n",
       "\n"
      ],
      "text/plain": [
       "  size\n",
       "1 16  \n",
       "2 17  \n",
       "3 18  \n",
       "4 19  \n",
       "  model_string                                                                                                                                                                                                                                                   \n",
       "1 status ~ longest_word_path+domain_registration_length+nb_hyphens+nb_slash+nb_dots+ratio_digits_url+length_hostname+avg_word_host+longest_word_host+length_url+nb_underscore+nb_at+ratio_digits_host+http_in_path+nb_semicolumn+nb_tilde                        \n",
       "2 status ~ longest_word_path+domain_registration_length+nb_hyphens+nb_slash+nb_dots+ratio_digits_url+length_hostname+avg_word_host+longest_word_host+length_url+nb_underscore+nb_at+ratio_digits_host+http_in_path+nb_semicolumn+nb_tilde+nb_or                  \n",
       "3 status ~ longest_word_path+domain_registration_length+nb_hyphens+nb_slash+nb_dots+ratio_digits_url+length_hostname+avg_word_host+longest_word_host+length_url+nb_underscore+nb_at+ratio_digits_host+http_in_path+nb_semicolumn+nb_tilde+nb_or+nb_dollar        \n",
       "4 status ~ longest_word_path+domain_registration_length+nb_hyphens+nb_slash+nb_dots+ratio_digits_url+length_hostname+avg_word_host+longest_word_host+length_url+nb_underscore+nb_at+ratio_digits_host+http_in_path+nb_semicolumn+nb_tilde+nb_or+nb_dollar+nb_star\n",
       "  accuracy \n",
       "1 0.8597550\n",
       "2 0.8597550\n",
       "3 0.8596675\n",
       "4 0.8596675"
      ]
     },
     "metadata": {},
     "output_type": "display_data"
    }
   ],
   "source": [
    "accuracies <- accuracies %>%\n",
    "              arrange(desc(accuracy))\n",
    "head(accuracies, 4)"
   ]
  },
  {
   "cell_type": "markdown",
   "id": "d1a9754c-3aef-4779-91b5-21a3cdff5590",
   "metadata": {},
   "source": [
    "Notably, the highest accuracy is a tie for 0.8597550. We chose to have fewer predictors (16) to decrease the number of computations our model requires (multicollinearity does not apply to Knn Neighbors)."
   ]
  },
  {
   "cell_type": "markdown",
   "id": "4d3c29a6-716f-4630-9d7d-bec741709356",
   "metadata": {},
   "source": [
    "### Clean Up and Splitting the Data"
   ]
  },
  {
   "cell_type": "markdown",
   "id": "c480fa4d-c49f-417b-acbd-d17b473b54b5",
   "metadata": {},
   "source": [
    "Now, we will clean up our data set by only selecting the relevant variables, which we found by performing the forward selection algorithm."
   ]
  },
  {
   "cell_type": "code",
   "execution_count": 235,
   "id": "1179a5bd-a5e0-4ca0-9ca7-b7c7db9d757e",
   "metadata": {},
   "outputs": [],
   "source": [
    "cleaned_phishing_data <- phishing_data %>%\n",
    "                         select(status, longest_word_path, domain_registration_length, nb_hyphens, nb_slash, nb_dots, ratio_digits_url,\n",
    "                                length_hostname, avg_word_host, longest_word_host, length_url, nb_underscore, nb_at, ratio_digits_host, http_in_path,\n",
    "                                nb_semicolumn, nb_tilde) %>%\n",
    "                         mutate(status = as_factor(status))"
   ]
  },
  {
   "cell_type": "markdown",
   "id": "bd0d2be0-f06e-462d-bb7a-f4f426a37692",
   "metadata": {},
   "source": [
    "Continuing on, we will split the data into training and testing data sets with the proportion of 75% of the data for training and 25% of the data for testing. This allows us to get metrics on how well our model will do in the real world. Because ```initial_split``` uses randomization, we will set a seed to ensure that the results are reproducible."
   ]
  },
  {
   "cell_type": "code",
   "execution_count": 236,
   "id": "07728d5a-f118-4744-bf51-b979931ec845",
   "metadata": {},
   "outputs": [],
   "source": [
    "set.seed(0717)\n",
    "cleaned_phishing_data_split <- initial_split(cleaned_phishing_data, prop = 3/4, strata = status)\n",
    "phishing_train <- training(cleaned_phishing_data_split)\n",
    "phishing_test <- testing(cleaned_phishing_data_split)"
   ]
  },
  {
   "cell_type": "markdown",
   "id": "b8df9dd1-6a8d-438a-aa4e-8e13e7fcbf50",
   "metadata": {},
   "source": [
    "### Checking for imbalance (exploring the training data)"
   ]
  },
  {
   "cell_type": "markdown",
   "id": "2438fce4-7538-445d-9567-d5b2e2951cb2",
   "metadata": {},
   "source": [
    "To explore the training set, we will be making a bar graph to compare the number of rows with legitimate and phishing data. We are doing this to ensure that there is no data imbalance."
   ]
  },
  {
   "cell_type": "code",
   "execution_count": 274,
   "id": "dfe83a58-fb8f-4b1f-90b1-83db99a709f6",
   "metadata": {},
   "outputs": [
    {
     "data": {
      "image/png": "[encoded data removed]",
      "text/plain": [
       "plot without title"
      ]
     },
     "metadata": {
      "image/png": {
       "height": 360,
       "width": 300
      }
     },
     "output_type": "display_data"
    }
   ],
   "source": [
    "options(repr.plot.width = 5, repr.plot.height = 6) \n",
    "\n",
    "phishing_status_count <- phishing_train %>%\n",
    "                         select(status) %>%\n",
    "                         group_by(status) %>%\n",
    "                         dplyr::summarize(n = n())\n",
    "\n",
    "phishing_data_exploration <- phishing_status_count %>%\n",
    "                             ggplot(aes(x = status, y = n)) +\n",
    "                                 geom_bar(stat = \"identity\") +\n",
    "                                 labs(x = \"URL Status\", y = \"Count\") +\n",
    "                                 theme(axis.title = element_text(size = 20))\n",
    "\n",
    "phishing_data_exploration"
   ]
  },
  {
   "cell_type": "markdown",
   "id": "f3742af4-6eac-4b31-a868-afc608a6e0e8",
   "metadata": {},
   "source": [
    "As our bar graph shows, the bars of phishing and legitimate URLs are equal lengths. This ensures that our trianing data is balanced."
   ]
  },
  {
   "cell_type": "markdown",
   "id": "9c5529f4-2642-4a76-a3ae-1dba39ccafca",
   "metadata": {},
   "source": [
    "### Using 5-Fold Cross-Validation to get the Optimal Value of K (number of nearest neighbors)"
   ]
  },
  {
   "cell_type": "markdown",
   "id": "b4240bd1-b712-4e1e-a09a-c002f731a61c",
   "metadata": {},
   "source": [
    "Continuing on, we will scale "
   ]
  },
  {
   "cell_type": "code",
   "execution_count": 238,
   "id": "48944d48-0f61-423d-a306-d1404d90c341",
   "metadata": {},
   "outputs": [],
   "source": [
    "phishing_recipe <- recipe(status ~ ., data = phishing_train) %>%\n",
    "                   step_scale(all_predictors()) %>%\n",
    "                   step_center(all_predictors())"
   ]
  },
  {
   "cell_type": "markdown",
   "id": "33a5376e-a217-4381-8823-0118584d8905",
   "metadata": {},
   "source": [
    "Then, we use ```vfold_cv``` to splits our training data into 5 folds automatically, and because ```vfold``` uses randomization, we will be setting a seed to ensure that the result is reproducible."
   ]
  },
  {
   "cell_type": "code",
   "execution_count": 239,
   "id": "bb0cfa9a-1743-4959-99dc-32f196ac914b",
   "metadata": {},
   "outputs": [],
   "source": [
    "set.seed(931)\n",
    "phishing_vfold <- vfold_cv(phishing_train, v = 5, strata = status)"
   ]
  },
  {
   "cell_type": "markdown",
   "id": "3b99ec83-187f-4135-a268-88a018eafc09",
   "metadata": {},
   "source": [
    "Using ```tune()```, R allows us to specify that we want to tune the parameter ```neighbors```."
   ]
  },
  {
   "cell_type": "code",
   "execution_count": 240,
   "id": "19899407-db40-443d-8588-1e5bdb625358",
   "metadata": {},
   "outputs": [],
   "source": [
    "knn_spec <- nearest_neighbor(weight_func = \"rectangular\", \n",
    "                             neighbors = tune()) %>%\n",
    "            set_engine(\"kknn\") %>%\n",
    "            set_mode(\"classification\")"
   ]
  },
  {
   "cell_type": "markdown",
   "id": "7b592818-b0d3-4588-9228-262ebfba48d0",
   "metadata": {},
   "source": [
    "We find the values of K we want to try by using ```seq()```."
   ]
  },
  {
   "cell_type": "code",
   "execution_count": 241,
   "id": "69610a10-d11d-4be8-ba99-3a5a653337d7",
   "metadata": {},
   "outputs": [],
   "source": [
    "k_vals <- tibble(neighbors = seq(from = 1, to = 5, by = 1))"
   ]
  },
  {
   "cell_type": "markdown",
   "id": "8ff95e5b-b787-4e20-bce0-d6ad650a3a53",
   "metadata": {},
   "source": [
    "Finally, we create a workflow to find the optimal value of K using the recipe, model, and our cross-validation settings we have created above."
   ]
  },
  {
   "cell_type": "code",
   "execution_count": 242,
   "id": "7381c45a-831b-4284-adac-b35883281733",
   "metadata": {},
   "outputs": [],
   "source": [
    "knn_results <- workflow() %>%\n",
    "               add_recipe(phishing_recipe) %>%\n",
    "               add_model(knn_spec) %>%\n",
    "               tune_grid(resamples = phishing_vfold, grid = k_vals) %>%\n",
    "               collect_metrics()"
   ]
  },
  {
   "cell_type": "markdown",
   "id": "2da0c0f4-609f-4ff4-a93b-0c989b6179e3",
   "metadata": {},
   "source": [
    "By creating a plot of neighbors vs. accuracy estimate, we can find the optimal value of K (the number of neighbors with the highest accuracy estimate)."
   ]
  },
  {
   "cell_type": "code",
   "execution_count": 243,
   "id": "60e2bf90-82b9-4992-8fe7-53c4f623e46d",
   "metadata": {},
   "outputs": [
    {
     "data": {
      "image/png": "[encoded data removed]",
      "text/plain": [
       "plot without title"
      ]
     },
     "metadata": {
      "image/png": {
       "height": 360,
       "width": 360
      }
     },
     "output_type": "display_data"
    }
   ],
   "source": [
    "options(repr.plot.width = 6, repr.plot.height = 6)\n",
    "\n",
    "k_accuracies <- knn_results |>\n",
    "                filter(.metric == \"accuracy\")\n",
    "\n",
    "accuracy_vs_k <- ggplot(k_accuracies, aes(x = neighbors, y = mean)) +\n",
    "                     geom_point() +\n",
    "                     geom_line() +\n",
    "                     labs(x = \"Neighbors\", y = \"Accuracy Estimate\") + \n",
    "                     theme(axis.title = element_text(size = 20),\n",
    "                           text = element_text(size = 12))\n",
    "\n",
    "accuracy_vs_k"
   ]
  },
  {
   "cell_type": "markdown",
   "id": "3b9fb94f-25d8-43fb-94b7-be2e441b8984",
   "metadata": {},
   "source": [
    "Looking at the graph, we can conclude that ```K``` is equal to 3 or 4. In fear of overfitting the model, we will choose ```K = 4```.\n",
    "\n",
    "*Notably, we tried K from 1 to 100; however, as it would take too long to compute, we watered it down for the group project.*"
   ]
  },
  {
   "cell_type": "markdown",
   "id": "582e486f-b91a-4535-8aa1-9578afa4ebbf",
   "metadata": {},
   "source": [
    "### Creating the Actual Model"
   ]
  },
  {
   "cell_type": "markdown",
   "id": "21a1bb73-cd43-449c-895f-644c584c7d7d",
   "metadata": {},
   "source": [
    "Now that we have organized the data and found the optimal value of ```K```, we can start creating the actual model.\n",
    "\n",
    "To create the model, we start by creating a new model specification. This time, we will use the value of ```K``` we found through cross-validation instead of ```tune()```."
   ]
  },
  {
   "cell_type": "code",
   "execution_count": 244,
   "id": "a5313cf8-5891-4d2d-b843-6426b415256e",
   "metadata": {},
   "outputs": [],
   "source": [
    "actual_knn_spec <- nearest_neighbor(weight_func = \"rectangular\", neighbors = 4) %>%\n",
    "                   set_engine(\"kknn\") %>%\n",
    "                   set_mode(\"classification\")"
   ]
  },
  {
   "cell_type": "markdown",
   "id": "fac86134-2703-4b91-856d-cb21d6ea8c3a",
   "metadata": {},
   "source": [
    "Then, we will create a new workflow, fitted for the model, by utilizing the recipe we had built in the cross-validation step, and the new model specification we built using the optimal value of ```K``` found in the cross-validation step."
   ]
  },
  {
   "cell_type": "code",
   "execution_count": 245,
   "id": "7979f539-13b2-4073-b3a7-48b809733b07",
   "metadata": {},
   "outputs": [],
   "source": [
    "knn_fit <- workflow() %>%\n",
    "           add_recipe(phishing_recipe) %>%\n",
    "           add_model(actual_knn_spec) %>%\n",
    "           fit(data = phishing_train)"
   ]
  },
  {
   "cell_type": "markdown",
   "id": "0865fbbc-06bf-4d88-9b69-2d160f106bc5",
   "metadata": {},
   "source": [
    "### Testing the model and Analysis"
   ]
  },
  {
   "cell_type": "markdown",
   "id": "1951b39c-b1fb-42df-9c66-cd014a1abab4",
   "metadata": {},
   "source": [
    "To understand how well our model performs, we will be testing the model by using ```predict()``` and the testing data set we have set up during ‘Clean Up and Splitting the Data.’ We also use ```bind_cols``` to compare the predicted value and the actual value."
   ]
  },
  {
   "cell_type": "code",
   "execution_count": 246,
   "id": "3fea9d68-f6b7-4033-90d6-923a57c10e6d",
   "metadata": {},
   "outputs": [],
   "source": [
    "knn_predict <- knn_fit %>%\n",
    "               predict(phishing_test) %>%\n",
    "               bind_cols(phishing_test)"
   ]
  },
  {
   "cell_type": "markdown",
   "id": "53cb0cc0-7fc1-4e35-9ef6-c0bfd203d6a3",
   "metadata": {},
   "source": [
    "To see how well the model performs, we will get our model's accuracy by filtering ```.metric``` and selecting the ```.estimate``` column."
   ]
  },
  {
   "cell_type": "code",
   "execution_count": 247,
   "id": "d3ecd926-4853-49ea-854f-46d66325d09f",
   "metadata": {},
   "outputs": [
    {
     "data": {
      "text/html": [
       "<table class=\"dataframe\">\n",
       "<caption>A tibble: 1 × 3</caption>\n",
       "<thead>\n",
       "\t<tr><th scope=col>.metric</th><th scope=col>.estimator</th><th scope=col>.estimate</th></tr>\n",
       "\t<tr><th scope=col>&lt;chr&gt;</th><th scope=col>&lt;chr&gt;</th><th scope=col>&lt;dbl&gt;</th></tr>\n",
       "</thead>\n",
       "<tbody>\n",
       "\t<tr><td>accuracy</td><td>binary</td><td>0.8607418</td></tr>\n",
       "</tbody>\n",
       "</table>\n"
      ],
      "text/latex": [
       "A tibble: 1 × 3\n",
       "\\begin{tabular}{lll}\n",
       " .metric & .estimator & .estimate\\\\\n",
       " <chr> & <chr> & <dbl>\\\\\n",
       "\\hline\n",
       "\t accuracy & binary & 0.8607418\\\\\n",
       "\\end{tabular}\n"
      ],
      "text/markdown": [
       "\n",
       "A tibble: 1 × 3\n",
       "\n",
       "| .metric &lt;chr&gt; | .estimator &lt;chr&gt; | .estimate &lt;dbl&gt; |\n",
       "|---|---|---|\n",
       "| accuracy | binary | 0.8607418 |\n",
       "\n"
      ],
      "text/plain": [
       "  .metric  .estimator .estimate\n",
       "1 accuracy binary     0.8607418"
      ]
     },
     "metadata": {},
     "output_type": "display_data"
    }
   ],
   "source": [
    "knn_rmpse <- knn_predict %>%\n",
    "             metrics(truth = status, estimate = .pred_class) %>%\n",
    "             filter(.metric == \"accuracy\")\n",
    "\n",
    "knn_rmpse"
   ]
  },
  {
   "cell_type": "markdown",
   "id": "955fa5b6-b399-4478-94ba-d2f342964b82",
   "metadata": {},
   "source": [
    "Looking at the accuracy of the classifier on the test data, we understand that the estimated accuracy of the classifier on the test data was 86%."
   ]
  },
  {
   "cell_type": "markdown",
   "id": "5f8aea5a-78e2-4fea-8e2c-239e621d8818",
   "metadata": {},
   "source": [
    "To better understand what this '86%' implies, we will create a confusion matrix."
   ]
  },
  {
   "cell_type": "code",
   "execution_count": 276,
   "id": "960a35de-69f6-4540-84e1-21d584f7ba43",
   "metadata": {},
   "outputs": [
    {
     "data": {
      "text/plain": [
       "            Truth\n",
       "Prediction   legitimate phishing\n",
       "  legitimate       1255      224\n",
       "  phishing          174     1205"
      ]
     },
     "metadata": {},
     "output_type": "display_data"
    }
   ],
   "source": [
    "# Create Confusion matrix\n",
    "confusion_matrix <- knn_predict %>%\n",
    "                    conf_mat(truth = status, estimate = .pred_class)\n",
    "\n",
    "confusion_matrix"
   ]
  },
  {
   "cell_type": "markdown",
   "id": "8785919e-8b50-489d-8922-871e81ebd32b",
   "metadata": {},
   "source": [
    "And to visually interpret the confusion matrix, we created visuals showing the distribution of righ tand wrong predictions."
   ]
  },
  {
   "cell_type": "code",
   "execution_count": 277,
   "id": "983c786a-807e-4e69-8aa8-56a9fd5d5d5f",
   "metadata": {},
   "outputs": [
    {
     "data": {
      "image/png": "[encoded data removed]",
      "text/plain": [
       "plot without title"
      ]
     },
     "metadata": {
      "image/png": {
       "height": 480,
       "width": 960
      }
     },
     "output_type": "display_data"
    }
   ],
   "source": [
    "options(repr.plot.width = 16, repr.plot.height = 8) \n",
    "\n",
    "# Adding column for Prediction != Truth, then it is wrong.\n",
    "confusion_matrix_tibble <- confusion_matrix$table %>%\n",
    "                           as_tibble() %>%\n",
    "                           add_column(validity = c(\"Predicted Correctly\", \n",
    "                                                   \"Predicted Incorrectly\", \n",
    "                                                   \"Predicted Incorrectly\", \n",
    "                                                   \"Predicted Correctly\"))\n",
    "\n",
    "# Reordered tibble\n",
    "confusion_matrix_tibble <- confusion_matrix_tibble[c(1,2,4,3), ]\n",
    "\n",
    "# Arranged column \"W' and \"C\" to display properly on segmented bar graph.\n",
    "confusion_matrix_tibble$validity <- factor(confusion_matrix_tibble$validity, \n",
    "                                           levels = c(\"Predicted Incorrectly\", \n",
    "                                                      \"Predicted Correctly\"))\n",
    "\n",
    "# Create Bar Graph\n",
    "confusion_matrix_bar_graph <- confusion_matrix_tibble %>%\n",
    "                              ggplot(aes(x = Truth, y = n, fill = validity)) +\n",
    "                                  geom_bar(stat = \"identity\", position = \"dodge\") +\n",
    "                                  geom_text(aes(label = n), vjust = 2, \n",
    "                                            position = position_dodge(0.9), size=5) +\n",
    "                                  labs(x = \"Status of the URL\", \n",
    "                                       y = \"Number of Predictions\", \n",
    "                                       fill = \"Prediction Validity\") +\n",
    "                                  theme(axis.title = element_text(size = 15),\n",
    "                                        text = element_text(size = 15),\n",
    "                                        plot.margin = unit(c(1,1,1,1), \"cm\"))\n",
    "\n",
    "# Getting position for y-axis label\n",
    "confusion_matrix_cumsum <- ddply(confusion_matrix_tibble, \n",
    "                                 \"Truth\", \n",
    "                                 transform, \n",
    "                                 label_ypos=cumsum(n) - 0.5*n)\n",
    "\n",
    "# Create segmented bar graph\n",
    "confusion_matrix_segmented_bar_graph <- confusion_matrix_cumsum %>%\n",
    "                                        ggplot(aes(x = Truth, y = n, fill = validity)) +\n",
    "                                            geom_bar(stat = \"identity\") + \n",
    "                                            geom_text(aes(y=label_ypos, label = n), \n",
    "                                                      vjust = 1.6, \n",
    "                                                      size=5) +\n",
    "                                            labs(x = \"Status of the URL\", \n",
    "                                                 y = \"Number of Predictions\", \n",
    "                                                 fill = \"Prediction Validity\") +\n",
    "                                            theme(axis.title = element_text(size = 15),\n",
    "                                                  text = element_text(size = 15),\n",
    "                                                  plot.margin = unit(c(1,1,1,1), \"cm\"))\n",
    "\n",
    "# arrange grid\n",
    "grid.arrange(confusion_matrix_segmented_bar_graph, confusion_matrix_bar_graph, ncol = 2)"
   ]
  },
  {
   "cell_type": "markdown",
   "id": "8f8e2cfa-a6f3-469d-b05b-0e5237f7063d",
   "metadata": {},
   "source": [
    "The confusion matrix and its subsequent visualizations tell us the distribution of predictions created by our model. Out of the 2858 data points in our test data, our model predicted 2473 points correctly and 385 points incorrectly. This includes 176 legitimate URLs classified as phishing (False Negative) and 227 phishing URLs classified as legitimate (False Positive).\n",
    "\n",
    "Our model predicts False Positives a lot more than False Negatives. This is a problem as the case for a False Positive is much direr than a False Negative. This is because a False Positive classification can mean a user losing his/her data and getting their identity stolen. In contrast, a False Negative could mean the user is warned about going to a malicious URL. This should be addressed in future iterations of the model, where uncertainty should lead to False Negatives (the more cautious prediction) rather than False Positives."
   ]
  },
  {
   "cell_type": "markdown",
   "id": "fe23b924-c1bf-4e96-b339-ef7e7ec49399",
   "metadata": {},
   "source": [
    "## Discussion"
   ]
  },
  {
   "cell_type": "markdown",
   "id": "1ed2fe6b-74c2-47f2-9b60-4bdfa7014855",
   "metadata": {},
   "source": []
  },
  {
   "cell_type": "markdown",
   "id": "251f9696-892c-4558-877f-6de0b7c84473",
   "metadata": {},
   "source": [
    "## Works Cited"
   ]
  },
  {
   "cell_type": "code",
   "execution_count": null,
   "id": "98f685d5-3fba-41a2-97f8-3397d7ae6ad1",
   "metadata": {},
   "outputs": [],
   "source": []
  }
 ],
 "metadata": {
  "kernelspec": {
   "display_name": "R",
   "language": "R",
   "name": "ir"
  },
  "language_info": {
   "codemirror_mode": "r",
   "file_extension": ".r",
   "mimetype": "text/x-r-source",
   "name": "R",
   "pygments_lexer": "r",
   "version": "4.1.3"
  }
 },
 "nbformat": 4,
 "nbformat_minor": 5
}
