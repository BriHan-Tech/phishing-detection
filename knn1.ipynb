{
 "cells": [
  {
   "cell_type": "code",
   "execution_count": 1,
   "id": "1fdf35a5-d3ed-472b-868a-1b4ea2ccf17c",
   "metadata": {},
   "outputs": [
    {
     "name": "stderr",
     "output_type": "stream",
     "text": [
      "── \u001b[1mAttaching packages\u001b[22m ─────────────────────────────────────── tidyverse 1.3.1 ──\n",
      "\n",
      "\u001b[32m✔\u001b[39m \u001b[34mggplot2\u001b[39m 3.3.6     \u001b[32m✔\u001b[39m \u001b[34mpurrr  \u001b[39m 0.3.4\n",
      "\u001b[32m✔\u001b[39m \u001b[34mtibble \u001b[39m 3.1.7     \u001b[32m✔\u001b[39m \u001b[34mdplyr  \u001b[39m 1.0.9\n",
      "\u001b[32m✔\u001b[39m \u001b[34mtidyr  \u001b[39m 1.2.0     \u001b[32m✔\u001b[39m \u001b[34mstringr\u001b[39m 1.4.0\n",
      "\u001b[32m✔\u001b[39m \u001b[34mreadr  \u001b[39m 2.1.2     \u001b[32m✔\u001b[39m \u001b[34mforcats\u001b[39m 0.5.1\n",
      "\n",
      "── \u001b[1mConflicts\u001b[22m ────────────────────────────────────────── tidyverse_conflicts() ──\n",
      "\u001b[31m✖\u001b[39m \u001b[34mdplyr\u001b[39m::\u001b[32mfilter()\u001b[39m masks \u001b[34mstats\u001b[39m::filter()\n",
      "\u001b[31m✖\u001b[39m \u001b[34mdplyr\u001b[39m::\u001b[32mlag()\u001b[39m    masks \u001b[34mstats\u001b[39m::lag()\n",
      "\n",
      "\n",
      "Attaching package: ‘testthat’\n",
      "\n",
      "\n",
      "The following object is masked from ‘package:dplyr’:\n",
      "\n",
      "    matches\n",
      "\n",
      "\n",
      "The following object is masked from ‘package:purrr’:\n",
      "\n",
      "    is_null\n",
      "\n",
      "\n",
      "The following objects are masked from ‘package:readr’:\n",
      "\n",
      "    edition_get, local_edition\n",
      "\n",
      "\n",
      "The following object is masked from ‘package:tidyr’:\n",
      "\n",
      "    matches\n",
      "\n",
      "\n",
      "── \u001b[1mAttaching packages\u001b[22m ────────────────────────────────────── tidymodels 1.0.0 ──\n",
      "\n",
      "\u001b[32m✔\u001b[39m \u001b[34mbroom       \u001b[39m 1.0.0     \u001b[32m✔\u001b[39m \u001b[34mrsample     \u001b[39m 1.0.0\n",
      "\u001b[32m✔\u001b[39m \u001b[34mdials       \u001b[39m 1.0.0     \u001b[32m✔\u001b[39m \u001b[34mtune        \u001b[39m 1.0.0\n",
      "\u001b[32m✔\u001b[39m \u001b[34minfer       \u001b[39m 1.0.2     \u001b[32m✔\u001b[39m \u001b[34mworkflows   \u001b[39m 1.0.0\n",
      "\u001b[32m✔\u001b[39m \u001b[34mmodeldata   \u001b[39m 1.0.0     \u001b[32m✔\u001b[39m \u001b[34mworkflowsets\u001b[39m 1.0.0\n",
      "\u001b[32m✔\u001b[39m \u001b[34mparsnip     \u001b[39m 1.0.0     \u001b[32m✔\u001b[39m \u001b[34myardstick   \u001b[39m 1.0.0\n",
      "\u001b[32m✔\u001b[39m \u001b[34mrecipes     \u001b[39m 1.0.1     \n",
      "\n",
      "── \u001b[1mConflicts\u001b[22m ───────────────────────────────────────── tidymodels_conflicts() ──\n",
      "\u001b[31m✖\u001b[39m \u001b[34mscales\u001b[39m::\u001b[32mdiscard()\u001b[39m   masks \u001b[34mpurrr\u001b[39m::discard()\n",
      "\u001b[31m✖\u001b[39m \u001b[34mdplyr\u001b[39m::\u001b[32mfilter()\u001b[39m     masks \u001b[34mstats\u001b[39m::filter()\n",
      "\u001b[31m✖\u001b[39m \u001b[34mrecipes\u001b[39m::\u001b[32mfixed()\u001b[39m    masks \u001b[34mstringr\u001b[39m::fixed()\n",
      "\u001b[31m✖\u001b[39m \u001b[34mtestthat\u001b[39m::\u001b[32mis_null()\u001b[39m masks \u001b[34mpurrr\u001b[39m::is_null()\n",
      "\u001b[31m✖\u001b[39m \u001b[34mdplyr\u001b[39m::\u001b[32mlag()\u001b[39m        masks \u001b[34mstats\u001b[39m::lag()\n",
      "\u001b[31m✖\u001b[39m \u001b[34mrsample\u001b[39m::\u001b[32mmatches()\u001b[39m  masks \u001b[34mtestthat\u001b[39m::matches(), \u001b[34mdplyr\u001b[39m::matches(), \u001b[34mtidyr\u001b[39m::matches()\n",
      "\u001b[31m✖\u001b[39m \u001b[34myardstick\u001b[39m::\u001b[32mspec()\u001b[39m   masks \u001b[34mreadr\u001b[39m::spec()\n",
      "\u001b[31m✖\u001b[39m \u001b[34mrecipes\u001b[39m::\u001b[32mstep()\u001b[39m     masks \u001b[34mstats\u001b[39m::step()\n",
      "\u001b[34m•\u001b[39m Use suppressPackageStartupMessages() to eliminate package startup messages\n",
      "\n",
      "Warning message in file(filename, \"r\", encoding = encoding):\n",
      "“cannot open file 'tests.R': No such file or directory”\n"
     ]
    },
    {
     "ename": "ERROR",
     "evalue": "Error in file(filename, \"r\", encoding = encoding): cannot open the connection\n",
     "output_type": "error",
     "traceback": [
      "Error in file(filename, \"r\", encoding = encoding): cannot open the connection\nTraceback:\n",
      "1. source(\"tests.R\")",
      "2. file(filename, \"r\", encoding = encoding)"
     ]
    }
   ],
   "source": [
    "library(tidyverse)\n",
    "library(testthat)\n",
    "library(digest)\n",
    "library(repr)\n",
    "library(tidymodels)\n",
    "options(repr.matrix.max.rows = 6)\n",
    "source(\"tests.R\")\n",
    "source('cleanup.R')"
   ]
  },
  {
   "cell_type": "code",
   "execution_count": 2,
   "id": "51d5cbef-9e2d-4283-a498-9c9b44f24d95",
   "metadata": {},
   "outputs": [
    {
     "name": "stderr",
     "output_type": "stream",
     "text": [
      "\u001b[1mRows: \u001b[22m\u001b[34m11430\u001b[39m \u001b[1mColumns: \u001b[22m\u001b[34m89\u001b[39m\n",
      "\u001b[36m──\u001b[39m \u001b[1mColumn specification\u001b[22m \u001b[36m────────────────────────────────────────────────────────\u001b[39m\n",
      "\u001b[1mDelimiter:\u001b[22m \",\"\n",
      "\u001b[31mchr\u001b[39m  (2): url, status\n",
      "\u001b[32mdbl\u001b[39m (87): length_url, length_hostname, ip, nb_dots, nb_hyphens, nb_at, nb_qm...\n",
      "\n",
      "\u001b[36mℹ\u001b[39m Use `spec()` to retrieve the full column specification for this data.\n",
      "\u001b[36mℹ\u001b[39m Specify the column types or set `show_col_types = FALSE` to quiet this message.\n"
     ]
    },
    {
     "data": {
      "text/html": [
       "<table class=\"dataframe\">\n",
       "<caption>A spec_tbl_df: 11430 × 89</caption>\n",
       "<thead>\n",
       "\t<tr><th scope=col>url</th><th scope=col>length_url</th><th scope=col>length_hostname</th><th scope=col>ip</th><th scope=col>nb_dots</th><th scope=col>nb_hyphens</th><th scope=col>nb_at</th><th scope=col>nb_qm</th><th scope=col>nb_and</th><th scope=col>nb_or</th><th scope=col>⋯</th><th scope=col>domain_in_title</th><th scope=col>domain_with_copyright</th><th scope=col>whois_registered_domain</th><th scope=col>domain_registration_length</th><th scope=col>domain_age</th><th scope=col>web_traffic</th><th scope=col>dns_record</th><th scope=col>google_index</th><th scope=col>page_rank</th><th scope=col>status</th></tr>\n",
       "\t<tr><th scope=col>&lt;chr&gt;</th><th scope=col>&lt;dbl&gt;</th><th scope=col>&lt;dbl&gt;</th><th scope=col>&lt;dbl&gt;</th><th scope=col>&lt;dbl&gt;</th><th scope=col>&lt;dbl&gt;</th><th scope=col>&lt;dbl&gt;</th><th scope=col>&lt;dbl&gt;</th><th scope=col>&lt;dbl&gt;</th><th scope=col>&lt;dbl&gt;</th><th scope=col>⋯</th><th scope=col>&lt;dbl&gt;</th><th scope=col>&lt;dbl&gt;</th><th scope=col>&lt;dbl&gt;</th><th scope=col>&lt;dbl&gt;</th><th scope=col>&lt;dbl&gt;</th><th scope=col>&lt;dbl&gt;</th><th scope=col>&lt;dbl&gt;</th><th scope=col>&lt;dbl&gt;</th><th scope=col>&lt;dbl&gt;</th><th scope=col>&lt;chr&gt;</th></tr>\n",
       "</thead>\n",
       "<tbody>\n",
       "\t<tr><td>http://www.crestonwood.com/router.php                                                                                         </td><td> 37</td><td>19</td><td>0</td><td>3</td><td>0</td><td>0</td><td>0</td><td>0</td><td>0</td><td>⋯</td><td>0</td><td>1</td><td>0</td><td>45</td><td>  -1</td><td>      0</td><td>1</td><td>1</td><td>4</td><td>legitimate</td></tr>\n",
       "\t<tr><td>http://shadetreetechnology.com/V4/validation/a111aedc8ae390eabcfa130e041a10a4                                                 </td><td> 77</td><td>23</td><td>1</td><td>1</td><td>0</td><td>0</td><td>0</td><td>0</td><td>0</td><td>⋯</td><td>1</td><td>0</td><td>0</td><td>77</td><td>5767</td><td>      0</td><td>0</td><td>1</td><td>2</td><td>phishing  </td></tr>\n",
       "\t<tr><td>https://support-appleld.com.secureupdate.duilawyeryork.com/ap/89e6a3b4b063b8d/?cmd=_update&amp;dispatch=89e6a3b4b063b8d1b&amp;locale=_</td><td>126</td><td>50</td><td>1</td><td>4</td><td>1</td><td>0</td><td>1</td><td>2</td><td>0</td><td>⋯</td><td>1</td><td>0</td><td>0</td><td>14</td><td>4004</td><td>5828815</td><td>0</td><td>1</td><td>0</td><td><span style=white-space:pre-wrap>phishing  </span></td></tr>\n",
       "\t<tr><td>⋮</td><td>⋮</td><td>⋮</td><td>⋮</td><td>⋮</td><td>⋮</td><td>⋮</td><td>⋮</td><td>⋮</td><td>⋮</td><td>⋱</td><td>⋮</td><td>⋮</td><td>⋮</td><td>⋮</td><td>⋮</td><td>⋮</td><td>⋮</td><td>⋮</td><td>⋮</td><td>⋮</td></tr>\n",
       "\t<tr><td>https://www.facebook.com/Interactive-Television-Pvt-Ltd-Group-M-100230523435650/photos/?ref=page_internal                                                                                                                                                                                                                                                                                                                                                                                    </td><td>105</td><td>16</td><td>1</td><td> 2</td><td>6</td><td>0</td><td>1</td><td>0</td><td>0</td><td>⋯</td><td>0</td><td>0</td><td>0</td><td>2809</td><td>8515</td><td>      8</td><td>0</td><td>1</td><td>10</td><td>legitimate</td></tr>\n",
       "\t<tr><td>http://www.mypublicdomainpictures.com/                                                                                                                                                                                                                                                                                                                                                                                                                                                       </td><td> 38</td><td>30</td><td>0</td><td> 2</td><td>0</td><td>0</td><td>0</td><td>0</td><td>0</td><td>⋯</td><td>1</td><td>0</td><td>0</td><td>  85</td><td>2836</td><td>2455493</td><td>0</td><td>0</td><td> 4</td><td>legitimate</td></tr>\n",
       "\t<tr><td>http://174.139.46.123/ap/signin?openid.pape.max_auth_age=0&amp;amp;openid.return_to=https%3A%2F%2Fwww.amazon.co.jp%2F%3Fref_%3Dnav_em_hd_re_signin&amp;amp;openid.identity=http%3A%2F%2Fspecs.openid.net%2Fauth%2F2.0%2Fidentifier_select&amp;amp;openid.assoc_handle=jpflex&amp;amp;openid.mode=checkid_setup&amp;amp;key=a@b.c&amp;amp;openid.claimed_id=http%3A%2F%2Fspecs.openid.net%2Fauth%2F2.0%2Fidentifier_select&amp;amp;openid.ns=http%3A%2F%2Fspecs.openid.net%2Fauth%2F2.0&amp;amp;&amp;amp;ref_=nav_em_hd_clc_signin</td><td>477</td><td>14</td><td>1</td><td>24</td><td>0</td><td>1</td><td>1</td><td>9</td><td>0</td><td>⋯</td><td>1</td><td>1</td><td>1</td><td><span style=white-space:pre-wrap>   0</span></td><td><span style=white-space:pre-wrap>  -1</span></td><td><span style=white-space:pre-wrap>      0</span></td><td>1</td><td>1</td><td> 0</td><td><span style=white-space:pre-wrap>phishing  </span></td></tr>\n",
       "</tbody>\n",
       "</table>\n"
      ],
      "text/latex": [
       "A spec\\_tbl\\_df: 11430 × 89\n",
       "\\begin{tabular}{lllllllllllllllllllll}\n",
       " url & length\\_url & length\\_hostname & ip & nb\\_dots & nb\\_hyphens & nb\\_at & nb\\_qm & nb\\_and & nb\\_or & ⋯ & domain\\_in\\_title & domain\\_with\\_copyright & whois\\_registered\\_domain & domain\\_registration\\_length & domain\\_age & web\\_traffic & dns\\_record & google\\_index & page\\_rank & status\\\\\n",
       " <chr> & <dbl> & <dbl> & <dbl> & <dbl> & <dbl> & <dbl> & <dbl> & <dbl> & <dbl> & ⋯ & <dbl> & <dbl> & <dbl> & <dbl> & <dbl> & <dbl> & <dbl> & <dbl> & <dbl> & <chr>\\\\\n",
       "\\hline\n",
       "\t http://www.crestonwood.com/router.php                                                                                          &  37 & 19 & 0 & 3 & 0 & 0 & 0 & 0 & 0 & ⋯ & 0 & 1 & 0 & 45 &   -1 &       0 & 1 & 1 & 4 & legitimate\\\\\n",
       "\t http://shadetreetechnology.com/V4/validation/a111aedc8ae390eabcfa130e041a10a4                                                  &  77 & 23 & 1 & 1 & 0 & 0 & 0 & 0 & 0 & ⋯ & 1 & 0 & 0 & 77 & 5767 &       0 & 0 & 1 & 2 & phishing  \\\\\n",
       "\t https://support-appleld.com.secureupdate.duilawyeryork.com/ap/89e6a3b4b063b8d/?cmd=\\_update\\&dispatch=89e6a3b4b063b8d1b\\&locale=\\_ & 126 & 50 & 1 & 4 & 1 & 0 & 1 & 2 & 0 & ⋯ & 1 & 0 & 0 & 14 & 4004 & 5828815 & 0 & 1 & 0 & phishing  \\\\\n",
       "\t ⋮ & ⋮ & ⋮ & ⋮ & ⋮ & ⋮ & ⋮ & ⋮ & ⋮ & ⋮ & ⋱ & ⋮ & ⋮ & ⋮ & ⋮ & ⋮ & ⋮ & ⋮ & ⋮ & ⋮ & ⋮\\\\\n",
       "\t https://www.facebook.com/Interactive-Television-Pvt-Ltd-Group-M-100230523435650/photos/?ref=page\\_internal                                                                                                                                                                                                                                                                                                                                                                                     & 105 & 16 & 1 &  2 & 6 & 0 & 1 & 0 & 0 & ⋯ & 0 & 0 & 0 & 2809 & 8515 &       8 & 0 & 1 & 10 & legitimate\\\\\n",
       "\t http://www.mypublicdomainpictures.com/                                                                                                                                                                                                                                                                                                                                                                                                                                                        &  38 & 30 & 0 &  2 & 0 & 0 & 0 & 0 & 0 & ⋯ & 1 & 0 & 0 &   85 & 2836 & 2455493 & 0 & 0 &  4 & legitimate\\\\\n",
       "\t http://174.139.46.123/ap/signin?openid.pape.max\\_auth\\_age=0\\&amp;openid.return\\_to=https\\%3A\\%2F\\%2Fwww.amazon.co.jp\\%2F\\%3Fref\\_\\%3Dnav\\_em\\_hd\\_re\\_signin\\&amp;openid.identity=http\\%3A\\%2F\\%2Fspecs.openid.net\\%2Fauth\\%2F2.0\\%2Fidentifier\\_select\\&amp;openid.assoc\\_handle=jpflex\\&amp;openid.mode=checkid\\_setup\\&amp;key=a@b.c\\&amp;openid.claimed\\_id=http\\%3A\\%2F\\%2Fspecs.openid.net\\%2Fauth\\%2F2.0\\%2Fidentifier\\_select\\&amp;openid.ns=http\\%3A\\%2F\\%2Fspecs.openid.net\\%2Fauth\\%2F2.0\\&amp;\\&amp;ref\\_=nav\\_em\\_hd\\_clc\\_signin & 477 & 14 & 1 & 24 & 0 & 1 & 1 & 9 & 0 & ⋯ & 1 & 1 & 1 &    0 &   -1 &       0 & 1 & 1 &  0 & phishing  \\\\\n",
       "\\end{tabular}\n"
      ],
      "text/markdown": [
       "\n",
       "A spec_tbl_df: 11430 × 89\n",
       "\n",
       "| url &lt;chr&gt; | length_url &lt;dbl&gt; | length_hostname &lt;dbl&gt; | ip &lt;dbl&gt; | nb_dots &lt;dbl&gt; | nb_hyphens &lt;dbl&gt; | nb_at &lt;dbl&gt; | nb_qm &lt;dbl&gt; | nb_and &lt;dbl&gt; | nb_or &lt;dbl&gt; | ⋯ ⋯ | domain_in_title &lt;dbl&gt; | domain_with_copyright &lt;dbl&gt; | whois_registered_domain &lt;dbl&gt; | domain_registration_length &lt;dbl&gt; | domain_age &lt;dbl&gt; | web_traffic &lt;dbl&gt; | dns_record &lt;dbl&gt; | google_index &lt;dbl&gt; | page_rank &lt;dbl&gt; | status &lt;chr&gt; |\n",
       "|---|---|---|---|---|---|---|---|---|---|---|---|---|---|---|---|---|---|---|---|---|\n",
       "| http://www.crestonwood.com/router.php                                                                                          |  37 | 19 | 0 | 3 | 0 | 0 | 0 | 0 | 0 | ⋯ | 0 | 1 | 0 | 45 |   -1 |       0 | 1 | 1 | 4 | legitimate |\n",
       "| http://shadetreetechnology.com/V4/validation/a111aedc8ae390eabcfa130e041a10a4                                                  |  77 | 23 | 1 | 1 | 0 | 0 | 0 | 0 | 0 | ⋯ | 1 | 0 | 0 | 77 | 5767 |       0 | 0 | 1 | 2 | phishing   |\n",
       "| https://support-appleld.com.secureupdate.duilawyeryork.com/ap/89e6a3b4b063b8d/?cmd=_update&amp;dispatch=89e6a3b4b063b8d1b&amp;locale=_ | 126 | 50 | 1 | 4 | 1 | 0 | 1 | 2 | 0 | ⋯ | 1 | 0 | 0 | 14 | 4004 | 5828815 | 0 | 1 | 0 | phishing   |\n",
       "| ⋮ | ⋮ | ⋮ | ⋮ | ⋮ | ⋮ | ⋮ | ⋮ | ⋮ | ⋮ | ⋱ | ⋮ | ⋮ | ⋮ | ⋮ | ⋮ | ⋮ | ⋮ | ⋮ | ⋮ | ⋮ |\n",
       "| https://www.facebook.com/Interactive-Television-Pvt-Ltd-Group-M-100230523435650/photos/?ref=page_internal                                                                                                                                                                                                                                                                                                                                                                                     | 105 | 16 | 1 |  2 | 6 | 0 | 1 | 0 | 0 | ⋯ | 0 | 0 | 0 | 2809 | 8515 |       8 | 0 | 1 | 10 | legitimate |\n",
       "| http://www.mypublicdomainpictures.com/                                                                                                                                                                                                                                                                                                                                                                                                                                                        |  38 | 30 | 0 |  2 | 0 | 0 | 0 | 0 | 0 | ⋯ | 1 | 0 | 0 |   85 | 2836 | 2455493 | 0 | 0 |  4 | legitimate |\n",
       "| http://174.139.46.123/ap/signin?openid.pape.max_auth_age=0&amp;amp;openid.return_to=https%3A%2F%2Fwww.amazon.co.jp%2F%3Fref_%3Dnav_em_hd_re_signin&amp;amp;openid.identity=http%3A%2F%2Fspecs.openid.net%2Fauth%2F2.0%2Fidentifier_select&amp;amp;openid.assoc_handle=jpflex&amp;amp;openid.mode=checkid_setup&amp;amp;key=a@b.c&amp;amp;openid.claimed_id=http%3A%2F%2Fspecs.openid.net%2Fauth%2F2.0%2Fidentifier_select&amp;amp;openid.ns=http%3A%2F%2Fspecs.openid.net%2Fauth%2F2.0&amp;amp;&amp;amp;ref_=nav_em_hd_clc_signin | 477 | 14 | 1 | 24 | 0 | 1 | 1 | 9 | 0 | ⋯ | 1 | 1 | 1 |    0 |   -1 |       0 | 1 | 1 |  0 | phishing   |\n",
       "\n"
      ],
      "text/plain": [
       "      url                                                                                                                                                                                                                                                                                                                                                                                                                                                                                          \n",
       "1     http://www.crestonwood.com/router.php                                                                                                                                                                                                                                                                                                                                                                                                                                                        \n",
       "2     http://shadetreetechnology.com/V4/validation/a111aedc8ae390eabcfa130e041a10a4                                                                                                                                                                                                                                                                                                                                                                                                                \n",
       "3     https://support-appleld.com.secureupdate.duilawyeryork.com/ap/89e6a3b4b063b8d/?cmd=_update&dispatch=89e6a3b4b063b8d1b&locale=_                                                                                                                                                                                                                                                                                                                                                               \n",
       "⋮     ⋮                                                                                                                                                                                                                                                                                                                                                                                                                                                                                            \n",
       "11428 https://www.facebook.com/Interactive-Television-Pvt-Ltd-Group-M-100230523435650/photos/?ref=page_internal                                                                                                                                                                                                                                                                                                                                                                                    \n",
       "11429 http://www.mypublicdomainpictures.com/                                                                                                                                                                                                                                                                                                                                                                                                                                                       \n",
       "11430 http://174.139.46.123/ap/signin?openid.pape.max_auth_age=0&amp;openid.return_to=https%3A%2F%2Fwww.amazon.co.jp%2F%3Fref_%3Dnav_em_hd_re_signin&amp;openid.identity=http%3A%2F%2Fspecs.openid.net%2Fauth%2F2.0%2Fidentifier_select&amp;openid.assoc_handle=jpflex&amp;openid.mode=checkid_setup&amp;key=a@b.c&amp;openid.claimed_id=http%3A%2F%2Fspecs.openid.net%2Fauth%2F2.0%2Fidentifier_select&amp;openid.ns=http%3A%2F%2Fspecs.openid.net%2Fauth%2F2.0&amp;&amp;ref_=nav_em_hd_clc_signin\n",
       "      length_url length_hostname ip nb_dots nb_hyphens nb_at nb_qm nb_and nb_or\n",
       "1      37        19              0  3       0          0     0     0      0    \n",
       "2      77        23              1  1       0          0     0     0      0    \n",
       "3     126        50              1  4       1          0     1     2      0    \n",
       "⋮     ⋮          ⋮               ⋮  ⋮       ⋮          ⋮     ⋮     ⋮      ⋮    \n",
       "11428 105        16              1   2      6          0     1     0      0    \n",
       "11429  38        30              0   2      0          0     0     0      0    \n",
       "11430 477        14              1  24      0          1     1     9      0    \n",
       "      ⋯ domain_in_title domain_with_copyright whois_registered_domain\n",
       "1     ⋯ 0               1                     0                      \n",
       "2     ⋯ 1               0                     0                      \n",
       "3     ⋯ 1               0                     0                      \n",
       "⋮     ⋱ ⋮               ⋮                     ⋮                      \n",
       "11428 ⋯ 0               0                     0                      \n",
       "11429 ⋯ 1               0                     0                      \n",
       "11430 ⋯ 1               1                     1                      \n",
       "      domain_registration_length domain_age web_traffic dns_record google_index\n",
       "1     45                           -1             0     1          1           \n",
       "2     77                         5767             0     0          1           \n",
       "3     14                         4004       5828815     0          1           \n",
       "⋮     ⋮                          ⋮          ⋮           ⋮          ⋮           \n",
       "11428 2809                       8515             8     0          1           \n",
       "11429   85                       2836       2455493     0          0           \n",
       "11430    0                         -1             0     1          1           \n",
       "      page_rank status    \n",
       "1     4         legitimate\n",
       "2     2         phishing  \n",
       "3     0         phishing  \n",
       "⋮     ⋮         ⋮         \n",
       "11428 10        legitimate\n",
       "11429  4        legitimate\n",
       "11430  0        phishing  "
      ]
     },
     "metadata": {},
     "output_type": "display_data"
    }
   ],
   "source": [
    "phishing_data <- read_csv (\"data/dataset_phishing.csv\")\n",
    "phishing_data"
   ]
  },
  {
   "cell_type": "markdown",
   "id": "a95d84a2-b7bf-482f-bf86-d3e62955f485",
   "metadata": {},
   "source": [
    "This data is already tidy because each row is a single observation, each column is a single variable, and each value is a single cell. "
   ]
  }
 ],
 "metadata": {
  "kernelspec": {
   "display_name": "R",
   "language": "R",
   "name": "ir"
  },
  "language_info": {
   "codemirror_mode": "r",
   "file_extension": ".r",
   "mimetype": "text/x-r-source",
   "name": "R",
   "pygments_lexer": "r",
   "version": "4.1.3"
  }
 },
 "nbformat": 4,
 "nbformat_minor": 5
}
