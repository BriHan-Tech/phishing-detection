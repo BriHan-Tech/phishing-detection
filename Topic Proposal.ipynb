{
 "cells": [
  {
   "cell_type": "markdown",
   "id": "140c8607-eeb7-4fba-9c94-e1b8e543ed9c",
   "metadata": {},
   "source": [
    "# Phishing URL Detection"
   ]
  },
  {
   "cell_type": "markdown",
   "id": "6e224a38-0610-4c4a-ba3f-7639b254f701",
   "metadata": {},
   "source": [
    "## Introduction"
   ]
  },
  {
   "cell_type": "markdown",
   "id": "80ac367a-e870-4ac3-bed5-20ad847c029c",
   "metadata": {},
   "source": [
    "### Relevant Background Info"
   ]
  },
  {
   "cell_type": "markdown",
   "id": "f40d7141-f9af-451e-82d1-13f42f225c7e",
   "metadata": {},
   "source": [
    "Phishing is a cybercrime that baits unknowing victims into clicking on URLs. This is done by acting like an authentic institution while contacting the victim through emails, texts, or other social media. Phishing assaults nowadays are advanced and progressively more troublesome to spot; additionally, as we rely more on our online profiles, phishing emails that take our sensitive information become more and more dangerous. Not only are phishing assaults dangerous to individuals, but they are also dangerous to huge corporations. For instance, one of the most extraordinary Phishing attacks includes the Colonial Pipeline scam, where over 3.4 billion euros were scammed out of the company. The attack was constructed by a simple email which gained access to passwords and planted malicious software onto the company network system. This caused the company to shut down and the oil prices to skyrocket. The seriousness and dangers of phishing can lead to extreme damage and have tragic consequences, so more sophisticated methods of systems are required to prevent phishing. To counteract the dangers of phishing, our group will classify URLs as 'phishing' or 'legitimate' to warn victims before the attackers steal their sensitive information."
   ]
  },
  {
   "cell_type": "markdown",
   "id": "b1a8ce1c-5b93-4139-bf49-1cb706641960",
   "metadata": {},
   "source": [
    "### Predictive Question"
   ]
  },
  {
   "cell_type": "markdown",
   "id": "bb51bfb0-2c3c-42e7-9bc1-69664459b494",
   "metadata": {},
   "source": [
    "What attributes are the most important in classifying whether an URL is phishing or legitimate?"
   ]
  },
  {
   "cell_type": "markdown",
   "id": "f121c10a-bf56-4089-9992-3b50c6d49cd9",
   "metadata": {},
   "source": [
    "### Dataset"
   ]
  },
  {
   "cell_type": "markdown",
   "id": "164abd36-2112-430b-83c2-6212fef06f96",
   "metadata": {},
   "source": [
    "The dataset used in this project comes from: https://data.mendeley.com/datasets/c2gw7fy2j4/3/files/575316f4-ee1d-453e-a04f-7b950915b61b <br>\n",
    "The dataset is used by the article <i><a href=\"https://www.sciencedirect.com/science/article/pii/S0952197621001950#\">Towards benchmark datasets for machine learning based website phishing detection: An experimental study</a></i> which can be found on the <i><a href=\"https://www.sciencedirect.com/journal/engineering-applications-of-artificial-intelligence\">Engineering Applications of Artificial Intelligence journal</a></i>."
   ]
  },
  {
   "cell_type": "markdown",
   "id": "9a47830d-b1e5-46c1-afdd-936a86239b29",
   "metadata": {},
   "source": [
    "## Preliminary Exploratory Data Analysis"
   ]
  },
  {
   "cell_type": "markdown",
   "id": "d51d4301-72d1-4680-8b28-76915fdb05c7",
   "metadata": {},
   "source": [
    "Loading necessary libraries."
   ]
  },
  {
   "cell_type": "code",
   "execution_count": 3,
   "id": "b3f2ee8c-60ad-401e-b130-6e65347a2aa8",
   "metadata": {},
   "outputs": [
    {
     "name": "stderr",
     "output_type": "stream",
     "text": [
      "── \u001b[1mAttaching packages\u001b[22m ─────────────────────────────────────── tidyverse 1.3.1 ──\n",
      "\n",
      "\u001b[32m✔\u001b[39m \u001b[34mggplot2\u001b[39m 3.3.6     \u001b[32m✔\u001b[39m \u001b[34mpurrr  \u001b[39m 0.3.4\n",
      "\u001b[32m✔\u001b[39m \u001b[34mtibble \u001b[39m 3.1.7     \u001b[32m✔\u001b[39m \u001b[34mdplyr  \u001b[39m 1.0.9\n",
      "\u001b[32m✔\u001b[39m \u001b[34mtidyr  \u001b[39m 1.2.0     \u001b[32m✔\u001b[39m \u001b[34mstringr\u001b[39m 1.4.0\n",
      "\u001b[32m✔\u001b[39m \u001b[34mreadr  \u001b[39m 2.1.2     \u001b[32m✔\u001b[39m \u001b[34mforcats\u001b[39m 0.5.1\n",
      "\n",
      "── \u001b[1mConflicts\u001b[22m ────────────────────────────────────────── tidyverse_conflicts() ──\n",
      "\u001b[31m✖\u001b[39m \u001b[34mdplyr\u001b[39m::\u001b[32mfilter()\u001b[39m masks \u001b[34mstats\u001b[39m::filter()\n",
      "\u001b[31m✖\u001b[39m \u001b[34mdplyr\u001b[39m::\u001b[32mlag()\u001b[39m    masks \u001b[34mstats\u001b[39m::lag()\n",
      "\n",
      "── \u001b[1mAttaching packages\u001b[22m ────────────────────────────────────── tidymodels 1.0.0 ──\n",
      "\n",
      "\u001b[32m✔\u001b[39m \u001b[34mbroom       \u001b[39m 1.0.0     \u001b[32m✔\u001b[39m \u001b[34mrsample     \u001b[39m 1.0.0\n",
      "\u001b[32m✔\u001b[39m \u001b[34mdials       \u001b[39m 1.0.0     \u001b[32m✔\u001b[39m \u001b[34mtune        \u001b[39m 1.0.0\n",
      "\u001b[32m✔\u001b[39m \u001b[34minfer       \u001b[39m 1.0.2     \u001b[32m✔\u001b[39m \u001b[34mworkflows   \u001b[39m 1.0.0\n",
      "\u001b[32m✔\u001b[39m \u001b[34mmodeldata   \u001b[39m 1.0.0     \u001b[32m✔\u001b[39m \u001b[34mworkflowsets\u001b[39m 1.0.0\n",
      "\u001b[32m✔\u001b[39m \u001b[34mparsnip     \u001b[39m 1.0.0     \u001b[32m✔\u001b[39m \u001b[34myardstick   \u001b[39m 1.0.0\n",
      "\u001b[32m✔\u001b[39m \u001b[34mrecipes     \u001b[39m 1.0.1     \n",
      "\n",
      "── \u001b[1mConflicts\u001b[22m ───────────────────────────────────────── tidymodels_conflicts() ──\n",
      "\u001b[31m✖\u001b[39m \u001b[34mscales\u001b[39m::\u001b[32mdiscard()\u001b[39m masks \u001b[34mpurrr\u001b[39m::discard()\n",
      "\u001b[31m✖\u001b[39m \u001b[34mdplyr\u001b[39m::\u001b[32mfilter()\u001b[39m   masks \u001b[34mstats\u001b[39m::filter()\n",
      "\u001b[31m✖\u001b[39m \u001b[34mrecipes\u001b[39m::\u001b[32mfixed()\u001b[39m  masks \u001b[34mstringr\u001b[39m::fixed()\n",
      "\u001b[31m✖\u001b[39m \u001b[34mdplyr\u001b[39m::\u001b[32mlag()\u001b[39m      masks \u001b[34mstats\u001b[39m::lag()\n",
      "\u001b[31m✖\u001b[39m \u001b[34myardstick\u001b[39m::\u001b[32mspec()\u001b[39m masks \u001b[34mreadr\u001b[39m::spec()\n",
      "\u001b[31m✖\u001b[39m \u001b[34mrecipes\u001b[39m::\u001b[32mstep()\u001b[39m   masks \u001b[34mstats\u001b[39m::step()\n",
      "\u001b[34m•\u001b[39m Use \u001b[32mtidymodels_prefer()\u001b[39m to resolve common conflicts.\n",
      "\n"
     ]
    }
   ],
   "source": [
    "library(tidyverse)\n",
    "library(repr)\n",
    "library(tidymodels)"
   ]
  },
  {
   "cell_type": "markdown",
   "id": "0d299a50-2e43-4357-b523-a72f4667e18e",
   "metadata": {},
   "source": [
    "### Reading the Data"
   ]
  },
  {
   "cell_type": "markdown",
   "id": "9df1206c-5ec5-4bed-810e-688e691cfffc",
   "metadata": {},
   "source": [
    "As there is no host that allows us to read the dataset online, we have downloaded the data set, and will be reading it locally (in the Jupyter server).  The credibility of the data above, in the *Dataset* section of this proposal."
   ]
  },
  {
   "cell_type": "code",
   "execution_count": 4,
   "id": "4de257b6-23b1-493b-aef0-a06df11d5e5a",
   "metadata": {},
   "outputs": [
    {
     "name": "stderr",
     "output_type": "stream",
     "text": [
      "\u001b[1mRows: \u001b[22m\u001b[34m11430\u001b[39m \u001b[1mColumns: \u001b[22m\u001b[34m89\u001b[39m\n",
      "\u001b[36m──\u001b[39m \u001b[1mColumn specification\u001b[22m \u001b[36m────────────────────────────────────────────────────────\u001b[39m\n",
      "\u001b[1mDelimiter:\u001b[22m \",\"\n",
      "\u001b[31mchr\u001b[39m  (2): url, status\n",
      "\u001b[32mdbl\u001b[39m (87): length_url, length_hostname, ip, nb_dots, nb_hyphens, nb_at, nb_qm...\n",
      "\n",
      "\u001b[36mℹ\u001b[39m Use `spec()` to retrieve the full column specification for this data.\n",
      "\u001b[36mℹ\u001b[39m Specify the column types or set `show_col_types = FALSE` to quiet this message.\n"
     ]
    },
    {
     "data": {
      "text/html": [
       "<table class=\"dataframe\">\n",
       "<caption>A spec_tbl_df: 11430 × 89</caption>\n",
       "<thead>\n",
       "\t<tr><th scope=col>url</th><th scope=col>length_url</th><th scope=col>length_hostname</th><th scope=col>ip</th><th scope=col>nb_dots</th><th scope=col>nb_hyphens</th><th scope=col>nb_at</th><th scope=col>nb_qm</th><th scope=col>nb_and</th><th scope=col>nb_or</th><th scope=col>⋯</th><th scope=col>domain_in_title</th><th scope=col>domain_with_copyright</th><th scope=col>whois_registered_domain</th><th scope=col>domain_registration_length</th><th scope=col>domain_age</th><th scope=col>web_traffic</th><th scope=col>dns_record</th><th scope=col>google_index</th><th scope=col>page_rank</th><th scope=col>status</th></tr>\n",
       "\t<tr><th scope=col>&lt;chr&gt;</th><th scope=col>&lt;dbl&gt;</th><th scope=col>&lt;dbl&gt;</th><th scope=col>&lt;dbl&gt;</th><th scope=col>&lt;dbl&gt;</th><th scope=col>&lt;dbl&gt;</th><th scope=col>&lt;dbl&gt;</th><th scope=col>&lt;dbl&gt;</th><th scope=col>&lt;dbl&gt;</th><th scope=col>&lt;dbl&gt;</th><th scope=col>⋯</th><th scope=col>&lt;dbl&gt;</th><th scope=col>&lt;dbl&gt;</th><th scope=col>&lt;dbl&gt;</th><th scope=col>&lt;dbl&gt;</th><th scope=col>&lt;dbl&gt;</th><th scope=col>&lt;dbl&gt;</th><th scope=col>&lt;dbl&gt;</th><th scope=col>&lt;dbl&gt;</th><th scope=col>&lt;dbl&gt;</th><th scope=col>&lt;chr&gt;</th></tr>\n",
       "</thead>\n",
       "<tbody>\n",
       "\t<tr><td>http://www.crestonwood.com/router.php                                                                                         </td><td> 37</td><td>19</td><td>0</td><td>3</td><td>0</td><td>0</td><td>0</td><td>0</td><td>0</td><td>⋯</td><td>0</td><td>1</td><td>0</td><td>45</td><td>  -1</td><td>      0</td><td>1</td><td>1</td><td>4</td><td>legitimate</td></tr>\n",
       "\t<tr><td>http://shadetreetechnology.com/V4/validation/a111aedc8ae390eabcfa130e041a10a4                                                 </td><td> 77</td><td>23</td><td>1</td><td>1</td><td>0</td><td>0</td><td>0</td><td>0</td><td>0</td><td>⋯</td><td>1</td><td>0</td><td>0</td><td>77</td><td>5767</td><td>      0</td><td>0</td><td>1</td><td>2</td><td>phishing  </td></tr>\n",
       "\t<tr><td>https://support-appleld.com.secureupdate.duilawyeryork.com/ap/89e6a3b4b063b8d/?cmd=_update&amp;dispatch=89e6a3b4b063b8d1b&amp;locale=_</td><td>126</td><td>50</td><td>1</td><td>4</td><td>1</td><td>0</td><td>1</td><td>2</td><td>0</td><td>⋯</td><td>1</td><td>0</td><td>0</td><td>14</td><td>4004</td><td>5828815</td><td>0</td><td>1</td><td>0</td><td><span style=white-space:pre-wrap>phishing  </span></td></tr>\n",
       "\t<tr><td>⋮</td><td>⋮</td><td>⋮</td><td>⋮</td><td>⋮</td><td>⋮</td><td>⋮</td><td>⋮</td><td>⋮</td><td>⋮</td><td>⋱</td><td>⋮</td><td>⋮</td><td>⋮</td><td>⋮</td><td>⋮</td><td>⋮</td><td>⋮</td><td>⋮</td><td>⋮</td><td>⋮</td></tr>\n",
       "\t<tr><td>http://www.mypublicdomainpictures.com/                                                                                                                                                                                                                                                                                                                                                                                                                                                       </td><td> 38</td><td>30</td><td>0</td><td> 2</td><td>0</td><td>0</td><td>0</td><td>0</td><td>0</td><td>⋯</td><td>1</td><td>0</td><td>0</td><td>85</td><td>2836</td><td>2455493</td><td>0</td><td>0</td><td>4</td><td>legitimate</td></tr>\n",
       "\t<tr><td>http://174.139.46.123/ap/signin?openid.pape.max_auth_age=0&amp;amp;openid.return_to=https%3A%2F%2Fwww.amazon.co.jp%2F%3Fref_%3Dnav_em_hd_re_signin&amp;amp;openid.identity=http%3A%2F%2Fspecs.openid.net%2Fauth%2F2.0%2Fidentifier_select&amp;amp;openid.assoc_handle=jpflex&amp;amp;openid.mode=checkid_setup&amp;amp;key=a@b.c&amp;amp;openid.claimed_id=http%3A%2F%2Fspecs.openid.net%2Fauth%2F2.0%2Fidentifier_select&amp;amp;openid.ns=http%3A%2F%2Fspecs.openid.net%2Fauth%2F2.0&amp;amp;&amp;amp;ref_=nav_em_hd_clc_signin</td><td>477</td><td>14</td><td>1</td><td>24</td><td>0</td><td>1</td><td>1</td><td>9</td><td>0</td><td>⋯</td><td>1</td><td>1</td><td>1</td><td> 0</td><td><span style=white-space:pre-wrap>  -1</span></td><td><span style=white-space:pre-wrap>      0</span></td><td>1</td><td>1</td><td>0</td><td><span style=white-space:pre-wrap>phishing  </span></td></tr>\n",
       "</tbody>\n",
       "</table>\n"
      ],
      "text/latex": [
       "A spec\\_tbl\\_df: 11430 × 89\n",
       "\\begin{tabular}{lllllllllllllllllllll}\n",
       " url & length\\_url & length\\_hostname & ip & nb\\_dots & nb\\_hyphens & nb\\_at & nb\\_qm & nb\\_and & nb\\_or & ⋯ & domain\\_in\\_title & domain\\_with\\_copyright & whois\\_registered\\_domain & domain\\_registration\\_length & domain\\_age & web\\_traffic & dns\\_record & google\\_index & page\\_rank & status\\\\\n",
       " <chr> & <dbl> & <dbl> & <dbl> & <dbl> & <dbl> & <dbl> & <dbl> & <dbl> & <dbl> & ⋯ & <dbl> & <dbl> & <dbl> & <dbl> & <dbl> & <dbl> & <dbl> & <dbl> & <dbl> & <chr>\\\\\n",
       "\\hline\n",
       "\t http://www.crestonwood.com/router.php                                                                                          &  37 & 19 & 0 & 3 & 0 & 0 & 0 & 0 & 0 & ⋯ & 0 & 1 & 0 & 45 &   -1 &       0 & 1 & 1 & 4 & legitimate\\\\\n",
       "\t http://shadetreetechnology.com/V4/validation/a111aedc8ae390eabcfa130e041a10a4                                                  &  77 & 23 & 1 & 1 & 0 & 0 & 0 & 0 & 0 & ⋯ & 1 & 0 & 0 & 77 & 5767 &       0 & 0 & 1 & 2 & phishing  \\\\\n",
       "\t https://support-appleld.com.secureupdate.duilawyeryork.com/ap/89e6a3b4b063b8d/?cmd=\\_update\\&dispatch=89e6a3b4b063b8d1b\\&locale=\\_ & 126 & 50 & 1 & 4 & 1 & 0 & 1 & 2 & 0 & ⋯ & 1 & 0 & 0 & 14 & 4004 & 5828815 & 0 & 1 & 0 & phishing  \\\\\n",
       "\t ⋮ & ⋮ & ⋮ & ⋮ & ⋮ & ⋮ & ⋮ & ⋮ & ⋮ & ⋮ & ⋱ & ⋮ & ⋮ & ⋮ & ⋮ & ⋮ & ⋮ & ⋮ & ⋮ & ⋮ & ⋮\\\\\n",
       "\t http://www.mypublicdomainpictures.com/                                                                                                                                                                                                                                                                                                                                                                                                                                                        &  38 & 30 & 0 &  2 & 0 & 0 & 0 & 0 & 0 & ⋯ & 1 & 0 & 0 & 85 & 2836 & 2455493 & 0 & 0 & 4 & legitimate\\\\\n",
       "\t http://174.139.46.123/ap/signin?openid.pape.max\\_auth\\_age=0\\&amp;openid.return\\_to=https\\%3A\\%2F\\%2Fwww.amazon.co.jp\\%2F\\%3Fref\\_\\%3Dnav\\_em\\_hd\\_re\\_signin\\&amp;openid.identity=http\\%3A\\%2F\\%2Fspecs.openid.net\\%2Fauth\\%2F2.0\\%2Fidentifier\\_select\\&amp;openid.assoc\\_handle=jpflex\\&amp;openid.mode=checkid\\_setup\\&amp;key=a@b.c\\&amp;openid.claimed\\_id=http\\%3A\\%2F\\%2Fspecs.openid.net\\%2Fauth\\%2F2.0\\%2Fidentifier\\_select\\&amp;openid.ns=http\\%3A\\%2F\\%2Fspecs.openid.net\\%2Fauth\\%2F2.0\\&amp;\\&amp;ref\\_=nav\\_em\\_hd\\_clc\\_signin & 477 & 14 & 1 & 24 & 0 & 1 & 1 & 9 & 0 & ⋯ & 1 & 1 & 1 &  0 &   -1 &       0 & 1 & 1 & 0 & phishing  \\\\\n",
       "\\end{tabular}\n"
      ],
      "text/markdown": [
       "\n",
       "A spec_tbl_df: 11430 × 89\n",
       "\n",
       "| url &lt;chr&gt; | length_url &lt;dbl&gt; | length_hostname &lt;dbl&gt; | ip &lt;dbl&gt; | nb_dots &lt;dbl&gt; | nb_hyphens &lt;dbl&gt; | nb_at &lt;dbl&gt; | nb_qm &lt;dbl&gt; | nb_and &lt;dbl&gt; | nb_or &lt;dbl&gt; | ⋯ ⋯ | domain_in_title &lt;dbl&gt; | domain_with_copyright &lt;dbl&gt; | whois_registered_domain &lt;dbl&gt; | domain_registration_length &lt;dbl&gt; | domain_age &lt;dbl&gt; | web_traffic &lt;dbl&gt; | dns_record &lt;dbl&gt; | google_index &lt;dbl&gt; | page_rank &lt;dbl&gt; | status &lt;chr&gt; |\n",
       "|---|---|---|---|---|---|---|---|---|---|---|---|---|---|---|---|---|---|---|---|---|\n",
       "| http://www.crestonwood.com/router.php                                                                                          |  37 | 19 | 0 | 3 | 0 | 0 | 0 | 0 | 0 | ⋯ | 0 | 1 | 0 | 45 |   -1 |       0 | 1 | 1 | 4 | legitimate |\n",
       "| http://shadetreetechnology.com/V4/validation/a111aedc8ae390eabcfa130e041a10a4                                                  |  77 | 23 | 1 | 1 | 0 | 0 | 0 | 0 | 0 | ⋯ | 1 | 0 | 0 | 77 | 5767 |       0 | 0 | 1 | 2 | phishing   |\n",
       "| https://support-appleld.com.secureupdate.duilawyeryork.com/ap/89e6a3b4b063b8d/?cmd=_update&amp;dispatch=89e6a3b4b063b8d1b&amp;locale=_ | 126 | 50 | 1 | 4 | 1 | 0 | 1 | 2 | 0 | ⋯ | 1 | 0 | 0 | 14 | 4004 | 5828815 | 0 | 1 | 0 | phishing   |\n",
       "| ⋮ | ⋮ | ⋮ | ⋮ | ⋮ | ⋮ | ⋮ | ⋮ | ⋮ | ⋮ | ⋱ | ⋮ | ⋮ | ⋮ | ⋮ | ⋮ | ⋮ | ⋮ | ⋮ | ⋮ | ⋮ |\n",
       "| http://www.mypublicdomainpictures.com/                                                                                                                                                                                                                                                                                                                                                                                                                                                        |  38 | 30 | 0 |  2 | 0 | 0 | 0 | 0 | 0 | ⋯ | 1 | 0 | 0 | 85 | 2836 | 2455493 | 0 | 0 | 4 | legitimate |\n",
       "| http://174.139.46.123/ap/signin?openid.pape.max_auth_age=0&amp;amp;openid.return_to=https%3A%2F%2Fwww.amazon.co.jp%2F%3Fref_%3Dnav_em_hd_re_signin&amp;amp;openid.identity=http%3A%2F%2Fspecs.openid.net%2Fauth%2F2.0%2Fidentifier_select&amp;amp;openid.assoc_handle=jpflex&amp;amp;openid.mode=checkid_setup&amp;amp;key=a@b.c&amp;amp;openid.claimed_id=http%3A%2F%2Fspecs.openid.net%2Fauth%2F2.0%2Fidentifier_select&amp;amp;openid.ns=http%3A%2F%2Fspecs.openid.net%2Fauth%2F2.0&amp;amp;&amp;amp;ref_=nav_em_hd_clc_signin | 477 | 14 | 1 | 24 | 0 | 1 | 1 | 9 | 0 | ⋯ | 1 | 1 | 1 |  0 |   -1 |       0 | 1 | 1 | 0 | phishing   |\n",
       "\n"
      ],
      "text/plain": [
       "      url                                                                                                                                                                                                                                                                                                                                                                                                                                                                                          \n",
       "1     http://www.crestonwood.com/router.php                                                                                                                                                                                                                                                                                                                                                                                                                                                        \n",
       "2     http://shadetreetechnology.com/V4/validation/a111aedc8ae390eabcfa130e041a10a4                                                                                                                                                                                                                                                                                                                                                                                                                \n",
       "3     https://support-appleld.com.secureupdate.duilawyeryork.com/ap/89e6a3b4b063b8d/?cmd=_update&dispatch=89e6a3b4b063b8d1b&locale=_                                                                                                                                                                                                                                                                                                                                                               \n",
       "⋮     ⋮                                                                                                                                                                                                                                                                                                                                                                                                                                                                                            \n",
       "11429 http://www.mypublicdomainpictures.com/                                                                                                                                                                                                                                                                                                                                                                                                                                                       \n",
       "11430 http://174.139.46.123/ap/signin?openid.pape.max_auth_age=0&amp;openid.return_to=https%3A%2F%2Fwww.amazon.co.jp%2F%3Fref_%3Dnav_em_hd_re_signin&amp;openid.identity=http%3A%2F%2Fspecs.openid.net%2Fauth%2F2.0%2Fidentifier_select&amp;openid.assoc_handle=jpflex&amp;openid.mode=checkid_setup&amp;key=a@b.c&amp;openid.claimed_id=http%3A%2F%2Fspecs.openid.net%2Fauth%2F2.0%2Fidentifier_select&amp;openid.ns=http%3A%2F%2Fspecs.openid.net%2Fauth%2F2.0&amp;&amp;ref_=nav_em_hd_clc_signin\n",
       "      length_url length_hostname ip nb_dots nb_hyphens nb_at nb_qm nb_and nb_or\n",
       "1      37        19              0  3       0          0     0     0      0    \n",
       "2      77        23              1  1       0          0     0     0      0    \n",
       "3     126        50              1  4       1          0     1     2      0    \n",
       "⋮     ⋮          ⋮               ⋮  ⋮       ⋮          ⋮     ⋮     ⋮      ⋮    \n",
       "11429  38        30              0   2      0          0     0     0      0    \n",
       "11430 477        14              1  24      0          1     1     9      0    \n",
       "      ⋯ domain_in_title domain_with_copyright whois_registered_domain\n",
       "1     ⋯ 0               1                     0                      \n",
       "2     ⋯ 1               0                     0                      \n",
       "3     ⋯ 1               0                     0                      \n",
       "⋮     ⋱ ⋮               ⋮                     ⋮                      \n",
       "11429 ⋯ 1               0                     0                      \n",
       "11430 ⋯ 1               1                     1                      \n",
       "      domain_registration_length domain_age web_traffic dns_record google_index\n",
       "1     45                           -1             0     1          1           \n",
       "2     77                         5767             0     0          1           \n",
       "3     14                         4004       5828815     0          1           \n",
       "⋮     ⋮                          ⋮          ⋮           ⋮          ⋮           \n",
       "11429 85                         2836       2455493     0          0           \n",
       "11430  0                           -1             0     1          1           \n",
       "      page_rank status    \n",
       "1     4         legitimate\n",
       "2     2         phishing  \n",
       "3     0         phishing  \n",
       "⋮     ⋮         ⋮         \n",
       "11429 4         legitimate\n",
       "11430 0         phishing  "
      ]
     },
     "metadata": {},
     "output_type": "display_data"
    }
   ],
   "source": [
    "options(repr.matrix.max.rows = 5)\n",
    "phishing_data <- read_csv(\"data/dataset_phishing.csv\")\n",
    "phishing_data"
   ]
  },
  {
   "cell_type": "markdown",
   "id": "57820a26-97d7-44b4-99bc-007b42cd1a9e",
   "metadata": {
    "tags": []
   },
   "source": [
    "### Cleaning and Wrangling the Data into a tidy format"
   ]
  },
  {
   "cell_type": "markdown",
   "id": "f29d3805-e7de-4748-8cce-2ae28b9929a9",
   "metadata": {},
   "source": [
    "The data we have found has satisfied all the rules of being clean:\n",
    "- Each row is a single observation.\n",
    "- Each column is a single variable.\n",
    "- Each value is a single cell (entry in the data frame is not shared)\n",
    "\n",
    "Therefore, anything we do to the data, such as pivoting wider and pivoting longer, would make the data less clean. Additionally, as the data only comes in one table, we do NOT need to merge the dataset with other ones.\n",
    "\n",
    "However, we will ***select the important columns*** and ***separate the dataset into a training set and a testing set***."
   ]
  },
  {
   "cell_type": "code",
   "execution_count": 5,
   "id": "cfe895fd-adbf-4552-ad67-302906115da4",
   "metadata": {},
   "outputs": [
    {
     "data": {
      "text/html": [
       "<table class=\"dataframe\">\n",
       "<caption>A tibble: 8572 × 31</caption>\n",
       "<thead>\n",
       "\t<tr><th scope=col>url</th><th scope=col>length_url</th><th scope=col>length_hostname</th><th scope=col>nb_dots</th><th scope=col>nb_hyphens</th><th scope=col>nb_at</th><th scope=col>nb_qm</th><th scope=col>nb_and</th><th scope=col>nb_or</th><th scope=col>nb_eq</th><th scope=col>⋯</th><th scope=col>https_token</th><th scope=col>ratio_digits_url</th><th scope=col>ratio_digits_host</th><th scope=col>nb_subdomains</th><th scope=col>longest_word_host</th><th scope=col>longest_word_path</th><th scope=col>avg_words_raw</th><th scope=col>avg_word_host</th><th scope=col>domain_registration_length</th><th scope=col>status</th></tr>\n",
       "\t<tr><th scope=col>&lt;chr&gt;</th><th scope=col>&lt;dbl&gt;</th><th scope=col>&lt;dbl&gt;</th><th scope=col>&lt;dbl&gt;</th><th scope=col>&lt;dbl&gt;</th><th scope=col>&lt;dbl&gt;</th><th scope=col>&lt;dbl&gt;</th><th scope=col>&lt;dbl&gt;</th><th scope=col>&lt;dbl&gt;</th><th scope=col>&lt;dbl&gt;</th><th scope=col>⋯</th><th scope=col>&lt;dbl&gt;</th><th scope=col>&lt;dbl&gt;</th><th scope=col>&lt;dbl&gt;</th><th scope=col>&lt;dbl&gt;</th><th scope=col>&lt;dbl&gt;</th><th scope=col>&lt;dbl&gt;</th><th scope=col>&lt;dbl&gt;</th><th scope=col>&lt;dbl&gt;</th><th scope=col>&lt;dbl&gt;</th><th scope=col>&lt;chr&gt;</th></tr>\n",
       "</thead>\n",
       "<tbody>\n",
       "\t<tr><td>http://www.crestonwood.com/router.php                  </td><td>37</td><td>19</td><td>3</td><td>0</td><td>0</td><td>0</td><td>0</td><td>0</td><td>0</td><td>⋯</td><td>1</td><td>0</td><td>0</td><td>3</td><td>11</td><td> 6</td><td>5.750000</td><td>7</td><td> 45</td><td>legitimate</td></tr>\n",
       "\t<tr><td>http://www.iracing.com/tracks/gateway-motorsports-park/</td><td>55</td><td>15</td><td>2</td><td>2</td><td>0</td><td>0</td><td>0</td><td>0</td><td>0</td><td>⋯</td><td>1</td><td>0</td><td>0</td><td>2</td><td> 7</td><td>11</td><td>6.333333</td><td>5</td><td>224</td><td>legitimate</td></tr>\n",
       "\t<tr><td>http://www.mutuo.it                                    </td><td>19</td><td>12</td><td>2</td><td>0</td><td>0</td><td>0</td><td>0</td><td>0</td><td>0</td><td>⋯</td><td>1</td><td>0</td><td>0</td><td>2</td><td> 5</td><td> 0</td><td>4.000000</td><td>4</td><td>170</td><td>legitimate</td></tr>\n",
       "\t<tr><td>⋮</td><td>⋮</td><td>⋮</td><td>⋮</td><td>⋮</td><td>⋮</td><td>⋮</td><td>⋮</td><td>⋮</td><td>⋮</td><td>⋱</td><td>⋮</td><td>⋮</td><td>⋮</td><td>⋮</td><td>⋮</td><td>⋮</td><td>⋮</td><td>⋮</td><td>⋮</td><td>⋮</td></tr>\n",
       "\t<tr><td>http://www.budgetbots.com/server.php/Server%20update/index.php?email=USER@DOMAIN.com                                                                                                                                                                                                                                                                                                                                                                                                         </td><td> 84</td><td>18</td><td> 5</td><td>0</td><td>1</td><td>1</td><td>0</td><td>0</td><td>1</td><td>⋯</td><td>1</td><td>0.02380952</td><td>0.0000000</td><td>3</td><td>10</td><td> 8</td><td>5.166667</td><td>6.50</td><td>211</td><td>phishing</td></tr>\n",
       "\t<tr><td>http://174.139.46.123/ap/signin?openid.pape.max_auth_age=0&amp;amp;openid.return_to=https%3A%2F%2Fwww.amazon.co.jp%2F%3Fref_%3Dnav_em_hd_re_signin&amp;amp;openid.identity=http%3A%2F%2Fspecs.openid.net%2Fauth%2F2.0%2Fidentifier_select&amp;amp;openid.assoc_handle=jpflex&amp;amp;openid.mode=checkid_setup&amp;amp;key=a@b.c&amp;amp;openid.claimed_id=http%3A%2F%2Fspecs.openid.net%2Fauth%2F2.0%2Fidentifier_select&amp;amp;openid.ns=http%3A%2F%2Fspecs.openid.net%2Fauth%2F2.0&amp;amp;&amp;amp;ref_=nav_em_hd_clc_signin</td><td>477</td><td>14</td><td>24</td><td>0</td><td>1</td><td>1</td><td>9</td><td>0</td><td>9</td><td>⋯</td><td>1</td><td>0.08595388</td><td>0.7857143</td><td>3</td><td> 3</td><td>12</td><td>4.377778</td><td>2.75</td><td><span style=white-space:pre-wrap>  0</span></td><td>phishing</td></tr>\n",
       "</tbody>\n",
       "</table>\n"
      ],
      "text/latex": [
       "A tibble: 8572 × 31\n",
       "\\begin{tabular}{lllllllllllllllllllll}\n",
       " url & length\\_url & length\\_hostname & nb\\_dots & nb\\_hyphens & nb\\_at & nb\\_qm & nb\\_and & nb\\_or & nb\\_eq & ⋯ & https\\_token & ratio\\_digits\\_url & ratio\\_digits\\_host & nb\\_subdomains & longest\\_word\\_host & longest\\_word\\_path & avg\\_words\\_raw & avg\\_word\\_host & domain\\_registration\\_length & status\\\\\n",
       " <chr> & <dbl> & <dbl> & <dbl> & <dbl> & <dbl> & <dbl> & <dbl> & <dbl> & <dbl> & ⋯ & <dbl> & <dbl> & <dbl> & <dbl> & <dbl> & <dbl> & <dbl> & <dbl> & <dbl> & <chr>\\\\\n",
       "\\hline\n",
       "\t http://www.crestonwood.com/router.php                   & 37 & 19 & 3 & 0 & 0 & 0 & 0 & 0 & 0 & ⋯ & 1 & 0 & 0 & 3 & 11 &  6 & 5.750000 & 7 &  45 & legitimate\\\\\n",
       "\t http://www.iracing.com/tracks/gateway-motorsports-park/ & 55 & 15 & 2 & 2 & 0 & 0 & 0 & 0 & 0 & ⋯ & 1 & 0 & 0 & 2 &  7 & 11 & 6.333333 & 5 & 224 & legitimate\\\\\n",
       "\t http://www.mutuo.it                                     & 19 & 12 & 2 & 0 & 0 & 0 & 0 & 0 & 0 & ⋯ & 1 & 0 & 0 & 2 &  5 &  0 & 4.000000 & 4 & 170 & legitimate\\\\\n",
       "\t ⋮ & ⋮ & ⋮ & ⋮ & ⋮ & ⋮ & ⋮ & ⋮ & ⋮ & ⋮ & ⋱ & ⋮ & ⋮ & ⋮ & ⋮ & ⋮ & ⋮ & ⋮ & ⋮ & ⋮ & ⋮\\\\\n",
       "\t http://www.budgetbots.com/server.php/Server\\%20update/index.php?email=USER@DOMAIN.com                                                                                                                                                                                                                                                                                                                                                                                                          &  84 & 18 &  5 & 0 & 1 & 1 & 0 & 0 & 1 & ⋯ & 1 & 0.02380952 & 0.0000000 & 3 & 10 &  8 & 5.166667 & 6.50 & 211 & phishing\\\\\n",
       "\t http://174.139.46.123/ap/signin?openid.pape.max\\_auth\\_age=0\\&amp;openid.return\\_to=https\\%3A\\%2F\\%2Fwww.amazon.co.jp\\%2F\\%3Fref\\_\\%3Dnav\\_em\\_hd\\_re\\_signin\\&amp;openid.identity=http\\%3A\\%2F\\%2Fspecs.openid.net\\%2Fauth\\%2F2.0\\%2Fidentifier\\_select\\&amp;openid.assoc\\_handle=jpflex\\&amp;openid.mode=checkid\\_setup\\&amp;key=a@b.c\\&amp;openid.claimed\\_id=http\\%3A\\%2F\\%2Fspecs.openid.net\\%2Fauth\\%2F2.0\\%2Fidentifier\\_select\\&amp;openid.ns=http\\%3A\\%2F\\%2Fspecs.openid.net\\%2Fauth\\%2F2.0\\&amp;\\&amp;ref\\_=nav\\_em\\_hd\\_clc\\_signin & 477 & 14 & 24 & 0 & 1 & 1 & 9 & 0 & 9 & ⋯ & 1 & 0.08595388 & 0.7857143 & 3 &  3 & 12 & 4.377778 & 2.75 &   0 & phishing\\\\\n",
       "\\end{tabular}\n"
      ],
      "text/markdown": [
       "\n",
       "A tibble: 8572 × 31\n",
       "\n",
       "| url &lt;chr&gt; | length_url &lt;dbl&gt; | length_hostname &lt;dbl&gt; | nb_dots &lt;dbl&gt; | nb_hyphens &lt;dbl&gt; | nb_at &lt;dbl&gt; | nb_qm &lt;dbl&gt; | nb_and &lt;dbl&gt; | nb_or &lt;dbl&gt; | nb_eq &lt;dbl&gt; | ⋯ ⋯ | https_token &lt;dbl&gt; | ratio_digits_url &lt;dbl&gt; | ratio_digits_host &lt;dbl&gt; | nb_subdomains &lt;dbl&gt; | longest_word_host &lt;dbl&gt; | longest_word_path &lt;dbl&gt; | avg_words_raw &lt;dbl&gt; | avg_word_host &lt;dbl&gt; | domain_registration_length &lt;dbl&gt; | status &lt;chr&gt; |\n",
       "|---|---|---|---|---|---|---|---|---|---|---|---|---|---|---|---|---|---|---|---|---|\n",
       "| http://www.crestonwood.com/router.php                   | 37 | 19 | 3 | 0 | 0 | 0 | 0 | 0 | 0 | ⋯ | 1 | 0 | 0 | 3 | 11 |  6 | 5.750000 | 7 |  45 | legitimate |\n",
       "| http://www.iracing.com/tracks/gateway-motorsports-park/ | 55 | 15 | 2 | 2 | 0 | 0 | 0 | 0 | 0 | ⋯ | 1 | 0 | 0 | 2 |  7 | 11 | 6.333333 | 5 | 224 | legitimate |\n",
       "| http://www.mutuo.it                                     | 19 | 12 | 2 | 0 | 0 | 0 | 0 | 0 | 0 | ⋯ | 1 | 0 | 0 | 2 |  5 |  0 | 4.000000 | 4 | 170 | legitimate |\n",
       "| ⋮ | ⋮ | ⋮ | ⋮ | ⋮ | ⋮ | ⋮ | ⋮ | ⋮ | ⋮ | ⋱ | ⋮ | ⋮ | ⋮ | ⋮ | ⋮ | ⋮ | ⋮ | ⋮ | ⋮ | ⋮ |\n",
       "| http://www.budgetbots.com/server.php/Server%20update/index.php?email=USER@DOMAIN.com                                                                                                                                                                                                                                                                                                                                                                                                          |  84 | 18 |  5 | 0 | 1 | 1 | 0 | 0 | 1 | ⋯ | 1 | 0.02380952 | 0.0000000 | 3 | 10 |  8 | 5.166667 | 6.50 | 211 | phishing |\n",
       "| http://174.139.46.123/ap/signin?openid.pape.max_auth_age=0&amp;amp;openid.return_to=https%3A%2F%2Fwww.amazon.co.jp%2F%3Fref_%3Dnav_em_hd_re_signin&amp;amp;openid.identity=http%3A%2F%2Fspecs.openid.net%2Fauth%2F2.0%2Fidentifier_select&amp;amp;openid.assoc_handle=jpflex&amp;amp;openid.mode=checkid_setup&amp;amp;key=a@b.c&amp;amp;openid.claimed_id=http%3A%2F%2Fspecs.openid.net%2Fauth%2F2.0%2Fidentifier_select&amp;amp;openid.ns=http%3A%2F%2Fspecs.openid.net%2Fauth%2F2.0&amp;amp;&amp;amp;ref_=nav_em_hd_clc_signin | 477 | 14 | 24 | 0 | 1 | 1 | 9 | 0 | 9 | ⋯ | 1 | 0.08595388 | 0.7857143 | 3 |  3 | 12 | 4.377778 | 2.75 |   0 | phishing |\n",
       "\n"
      ],
      "text/plain": [
       "     url                                                                                                                                                                                                                                                                                                                                                                                                                                                                                          \n",
       "1    http://www.crestonwood.com/router.php                                                                                                                                                                                                                                                                                                                                                                                                                                                        \n",
       "2    http://www.iracing.com/tracks/gateway-motorsports-park/                                                                                                                                                                                                                                                                                                                                                                                                                                      \n",
       "3    http://www.mutuo.it                                                                                                                                                                                                                                                                                                                                                                                                                                                                          \n",
       "⋮    ⋮                                                                                                                                                                                                                                                                                                                                                                                                                                                                                            \n",
       "8571 http://www.budgetbots.com/server.php/Server%20update/index.php?email=USER@DOMAIN.com                                                                                                                                                                                                                                                                                                                                                                                                         \n",
       "8572 http://174.139.46.123/ap/signin?openid.pape.max_auth_age=0&amp;openid.return_to=https%3A%2F%2Fwww.amazon.co.jp%2F%3Fref_%3Dnav_em_hd_re_signin&amp;openid.identity=http%3A%2F%2Fspecs.openid.net%2Fauth%2F2.0%2Fidentifier_select&amp;openid.assoc_handle=jpflex&amp;openid.mode=checkid_setup&amp;key=a@b.c&amp;openid.claimed_id=http%3A%2F%2Fspecs.openid.net%2Fauth%2F2.0%2Fidentifier_select&amp;openid.ns=http%3A%2F%2Fspecs.openid.net%2Fauth%2F2.0&amp;&amp;ref_=nav_em_hd_clc_signin\n",
       "     length_url length_hostname nb_dots nb_hyphens nb_at nb_qm nb_and nb_or\n",
       "1    37         19              3       0          0     0     0      0    \n",
       "2    55         15              2       2          0     0     0      0    \n",
       "3    19         12              2       0          0     0     0      0    \n",
       "⋮    ⋮          ⋮               ⋮       ⋮          ⋮     ⋮     ⋮      ⋮    \n",
       "8571  84        18               5      0          1     1     0      0    \n",
       "8572 477        14              24      0          1     1     9      0    \n",
       "     nb_eq ⋯ https_token ratio_digits_url ratio_digits_host nb_subdomains\n",
       "1    0     ⋯ 1           0                0                 3            \n",
       "2    0     ⋯ 1           0                0                 2            \n",
       "3    0     ⋯ 1           0                0                 2            \n",
       "⋮    ⋮     ⋱ ⋮           ⋮                ⋮                 ⋮            \n",
       "8571 1     ⋯ 1           0.02380952       0.0000000         3            \n",
       "8572 9     ⋯ 1           0.08595388       0.7857143         3            \n",
       "     longest_word_host longest_word_path avg_words_raw avg_word_host\n",
       "1    11                 6                5.750000      7            \n",
       "2     7                11                6.333333      5            \n",
       "3     5                 0                4.000000      4            \n",
       "⋮    ⋮                 ⋮                 ⋮             ⋮            \n",
       "8571 10                 8                5.166667      6.50         \n",
       "8572  3                12                4.377778      2.75         \n",
       "     domain_registration_length status    \n",
       "1     45                        legitimate\n",
       "2    224                        legitimate\n",
       "3    170                        legitimate\n",
       "⋮    ⋮                          ⋮         \n",
       "8571 211                        phishing  \n",
       "8572   0                        phishing  "
      ]
     },
     "metadata": {},
     "output_type": "display_data"
    },
    {
     "data": {
      "text/html": [
       "<table class=\"dataframe\">\n",
       "<caption>A tibble: 2858 × 31</caption>\n",
       "<thead>\n",
       "\t<tr><th scope=col>url</th><th scope=col>length_url</th><th scope=col>length_hostname</th><th scope=col>nb_dots</th><th scope=col>nb_hyphens</th><th scope=col>nb_at</th><th scope=col>nb_qm</th><th scope=col>nb_and</th><th scope=col>nb_or</th><th scope=col>nb_eq</th><th scope=col>⋯</th><th scope=col>https_token</th><th scope=col>ratio_digits_url</th><th scope=col>ratio_digits_host</th><th scope=col>nb_subdomains</th><th scope=col>longest_word_host</th><th scope=col>longest_word_path</th><th scope=col>avg_words_raw</th><th scope=col>avg_word_host</th><th scope=col>domain_registration_length</th><th scope=col>status</th></tr>\n",
       "\t<tr><th scope=col>&lt;chr&gt;</th><th scope=col>&lt;dbl&gt;</th><th scope=col>&lt;dbl&gt;</th><th scope=col>&lt;dbl&gt;</th><th scope=col>&lt;dbl&gt;</th><th scope=col>&lt;dbl&gt;</th><th scope=col>&lt;dbl&gt;</th><th scope=col>&lt;dbl&gt;</th><th scope=col>&lt;dbl&gt;</th><th scope=col>&lt;dbl&gt;</th><th scope=col>⋯</th><th scope=col>&lt;dbl&gt;</th><th scope=col>&lt;dbl&gt;</th><th scope=col>&lt;dbl&gt;</th><th scope=col>&lt;dbl&gt;</th><th scope=col>&lt;dbl&gt;</th><th scope=col>&lt;dbl&gt;</th><th scope=col>&lt;dbl&gt;</th><th scope=col>&lt;dbl&gt;</th><th scope=col>&lt;dbl&gt;</th><th scope=col>&lt;chr&gt;</th></tr>\n",
       "</thead>\n",
       "<tbody>\n",
       "\t<tr><td>http://rgipt.ac.in                                                                 </td><td>18</td><td>11</td><td>2</td><td>0</td><td>0</td><td>0</td><td>0</td><td>0</td><td>0</td><td>⋯</td><td>1</td><td>0.00000000</td><td>0</td><td>2</td><td> 5</td><td> 0</td><td>5.000000</td><td> 5.0</td><td> 62</td><td>legitimate</td></tr>\n",
       "\t<tr><td>https://technofizi.net/top-best-mp3-downloader-app-for-android-free-music-download/</td><td>83</td><td>14</td><td>1</td><td>9</td><td>0</td><td>0</td><td>0</td><td>0</td><td>0</td><td>⋯</td><td>0</td><td>0.01204819</td><td>0</td><td>1</td><td>10</td><td>10</td><td>5.454545</td><td>10.0</td><td>320</td><td>legitimate</td></tr>\n",
       "\t<tr><td>https://blog.hubspot.com/marketing/email-open-click-rate-benchmark                 </td><td>66</td><td>16</td><td>2</td><td>4</td><td>0</td><td>0</td><td>0</td><td>0</td><td>0</td><td>⋯</td><td>0</td><td>0.00000000</td><td>0</td><td>2</td><td> 7</td><td> 9</td><td>5.875000</td><td> 5.5</td><td>926</td><td>legitimate</td></tr>\n",
       "\t<tr><td>⋮</td><td>⋮</td><td>⋮</td><td>⋮</td><td>⋮</td><td>⋮</td><td>⋮</td><td>⋮</td><td>⋮</td><td>⋮</td><td>⋱</td><td>⋮</td><td>⋮</td><td>⋮</td><td>⋮</td><td>⋮</td><td>⋮</td><td>⋮</td><td>⋮</td><td>⋮</td><td>⋮</td></tr>\n",
       "\t<tr><td>http://www.siteglimpse.com/automationalley.com</td><td>46</td><td>19</td><td>3</td><td>0</td><td>0</td><td>0</td><td>0</td><td>0</td><td>0</td><td>⋯</td><td>1</td><td>0</td><td>0</td><td>3</td><td>11</td><td>15</td><td> 8.0</td><td> 7.0</td><td>187</td><td>legitimate</td></tr>\n",
       "\t<tr><td>http://www.mypublicdomainpictures.com/        </td><td>38</td><td>30</td><td>2</td><td>0</td><td>0</td><td>0</td><td>0</td><td>0</td><td>0</td><td>⋯</td><td>1</td><td>0</td><td>0</td><td>2</td><td>22</td><td> 0</td><td>12.5</td><td>12.5</td><td> 85</td><td>legitimate</td></tr>\n",
       "</tbody>\n",
       "</table>\n"
      ],
      "text/latex": [
       "A tibble: 2858 × 31\n",
       "\\begin{tabular}{lllllllllllllllllllll}\n",
       " url & length\\_url & length\\_hostname & nb\\_dots & nb\\_hyphens & nb\\_at & nb\\_qm & nb\\_and & nb\\_or & nb\\_eq & ⋯ & https\\_token & ratio\\_digits\\_url & ratio\\_digits\\_host & nb\\_subdomains & longest\\_word\\_host & longest\\_word\\_path & avg\\_words\\_raw & avg\\_word\\_host & domain\\_registration\\_length & status\\\\\n",
       " <chr> & <dbl> & <dbl> & <dbl> & <dbl> & <dbl> & <dbl> & <dbl> & <dbl> & <dbl> & ⋯ & <dbl> & <dbl> & <dbl> & <dbl> & <dbl> & <dbl> & <dbl> & <dbl> & <dbl> & <chr>\\\\\n",
       "\\hline\n",
       "\t http://rgipt.ac.in                                                                  & 18 & 11 & 2 & 0 & 0 & 0 & 0 & 0 & 0 & ⋯ & 1 & 0.00000000 & 0 & 2 &  5 &  0 & 5.000000 &  5.0 &  62 & legitimate\\\\\n",
       "\t https://technofizi.net/top-best-mp3-downloader-app-for-android-free-music-download/ & 83 & 14 & 1 & 9 & 0 & 0 & 0 & 0 & 0 & ⋯ & 0 & 0.01204819 & 0 & 1 & 10 & 10 & 5.454545 & 10.0 & 320 & legitimate\\\\\n",
       "\t https://blog.hubspot.com/marketing/email-open-click-rate-benchmark                  & 66 & 16 & 2 & 4 & 0 & 0 & 0 & 0 & 0 & ⋯ & 0 & 0.00000000 & 0 & 2 &  7 &  9 & 5.875000 &  5.5 & 926 & legitimate\\\\\n",
       "\t ⋮ & ⋮ & ⋮ & ⋮ & ⋮ & ⋮ & ⋮ & ⋮ & ⋮ & ⋮ & ⋱ & ⋮ & ⋮ & ⋮ & ⋮ & ⋮ & ⋮ & ⋮ & ⋮ & ⋮ & ⋮\\\\\n",
       "\t http://www.siteglimpse.com/automationalley.com & 46 & 19 & 3 & 0 & 0 & 0 & 0 & 0 & 0 & ⋯ & 1 & 0 & 0 & 3 & 11 & 15 &  8.0 &  7.0 & 187 & legitimate\\\\\n",
       "\t http://www.mypublicdomainpictures.com/         & 38 & 30 & 2 & 0 & 0 & 0 & 0 & 0 & 0 & ⋯ & 1 & 0 & 0 & 2 & 22 &  0 & 12.5 & 12.5 &  85 & legitimate\\\\\n",
       "\\end{tabular}\n"
      ],
      "text/markdown": [
       "\n",
       "A tibble: 2858 × 31\n",
       "\n",
       "| url &lt;chr&gt; | length_url &lt;dbl&gt; | length_hostname &lt;dbl&gt; | nb_dots &lt;dbl&gt; | nb_hyphens &lt;dbl&gt; | nb_at &lt;dbl&gt; | nb_qm &lt;dbl&gt; | nb_and &lt;dbl&gt; | nb_or &lt;dbl&gt; | nb_eq &lt;dbl&gt; | ⋯ ⋯ | https_token &lt;dbl&gt; | ratio_digits_url &lt;dbl&gt; | ratio_digits_host &lt;dbl&gt; | nb_subdomains &lt;dbl&gt; | longest_word_host &lt;dbl&gt; | longest_word_path &lt;dbl&gt; | avg_words_raw &lt;dbl&gt; | avg_word_host &lt;dbl&gt; | domain_registration_length &lt;dbl&gt; | status &lt;chr&gt; |\n",
       "|---|---|---|---|---|---|---|---|---|---|---|---|---|---|---|---|---|---|---|---|---|\n",
       "| http://rgipt.ac.in                                                                  | 18 | 11 | 2 | 0 | 0 | 0 | 0 | 0 | 0 | ⋯ | 1 | 0.00000000 | 0 | 2 |  5 |  0 | 5.000000 |  5.0 |  62 | legitimate |\n",
       "| https://technofizi.net/top-best-mp3-downloader-app-for-android-free-music-download/ | 83 | 14 | 1 | 9 | 0 | 0 | 0 | 0 | 0 | ⋯ | 0 | 0.01204819 | 0 | 1 | 10 | 10 | 5.454545 | 10.0 | 320 | legitimate |\n",
       "| https://blog.hubspot.com/marketing/email-open-click-rate-benchmark                  | 66 | 16 | 2 | 4 | 0 | 0 | 0 | 0 | 0 | ⋯ | 0 | 0.00000000 | 0 | 2 |  7 |  9 | 5.875000 |  5.5 | 926 | legitimate |\n",
       "| ⋮ | ⋮ | ⋮ | ⋮ | ⋮ | ⋮ | ⋮ | ⋮ | ⋮ | ⋮ | ⋱ | ⋮ | ⋮ | ⋮ | ⋮ | ⋮ | ⋮ | ⋮ | ⋮ | ⋮ | ⋮ |\n",
       "| http://www.siteglimpse.com/automationalley.com | 46 | 19 | 3 | 0 | 0 | 0 | 0 | 0 | 0 | ⋯ | 1 | 0 | 0 | 3 | 11 | 15 |  8.0 |  7.0 | 187 | legitimate |\n",
       "| http://www.mypublicdomainpictures.com/         | 38 | 30 | 2 | 0 | 0 | 0 | 0 | 0 | 0 | ⋯ | 1 | 0 | 0 | 2 | 22 |  0 | 12.5 | 12.5 |  85 | legitimate |\n",
       "\n"
      ],
      "text/plain": [
       "     url                                                                                \n",
       "1    http://rgipt.ac.in                                                                 \n",
       "2    https://technofizi.net/top-best-mp3-downloader-app-for-android-free-music-download/\n",
       "3    https://blog.hubspot.com/marketing/email-open-click-rate-benchmark                 \n",
       "⋮    ⋮                                                                                  \n",
       "2857 http://www.siteglimpse.com/automationalley.com                                     \n",
       "2858 http://www.mypublicdomainpictures.com/                                             \n",
       "     length_url length_hostname nb_dots nb_hyphens nb_at nb_qm nb_and nb_or\n",
       "1    18         11              2       0          0     0     0      0    \n",
       "2    83         14              1       9          0     0     0      0    \n",
       "3    66         16              2       4          0     0     0      0    \n",
       "⋮    ⋮          ⋮               ⋮       ⋮          ⋮     ⋮     ⋮      ⋮    \n",
       "2857 46         19              3       0          0     0     0      0    \n",
       "2858 38         30              2       0          0     0     0      0    \n",
       "     nb_eq ⋯ https_token ratio_digits_url ratio_digits_host nb_subdomains\n",
       "1    0     ⋯ 1           0.00000000       0                 2            \n",
       "2    0     ⋯ 0           0.01204819       0                 1            \n",
       "3    0     ⋯ 0           0.00000000       0                 2            \n",
       "⋮    ⋮     ⋱ ⋮           ⋮                ⋮                 ⋮            \n",
       "2857 0     ⋯ 1           0                0                 3            \n",
       "2858 0     ⋯ 1           0                0                 2            \n",
       "     longest_word_host longest_word_path avg_words_raw avg_word_host\n",
       "1     5                 0                5.000000       5.0         \n",
       "2    10                10                5.454545      10.0         \n",
       "3     7                 9                5.875000       5.5         \n",
       "⋮    ⋮                 ⋮                 ⋮             ⋮            \n",
       "2857 11                15                 8.0           7.0         \n",
       "2858 22                 0                12.5          12.5         \n",
       "     domain_registration_length status    \n",
       "1     62                        legitimate\n",
       "2    320                        legitimate\n",
       "3    926                        legitimate\n",
       "⋮    ⋮                          ⋮         \n",
       "2857 187                        legitimate\n",
       "2858  85                        legitimate"
      ]
     },
     "metadata": {},
     "output_type": "display_data"
    }
   ],
   "source": [
    "phishing_imp <- phishing_data |>\n",
    "                select (url, length_url, length_hostname, nb_dots, nb_hyphens, nb_at, nb_qm, nb_and, nb_or, nb_eq, nb_underscore, nb_tilde,\n",
    "                        nb_percent, nb_slash, nb_star, nb_colon, nb_comma, nb_semicolumn, nb_dollar, nb_space, http_in_path, https_token, \n",
    "                        ratio_digits_url, ratio_digits_host, nb_subdomains,longest_word_host, longest_word_path, avg_words_raw, avg_word_host, \n",
    "                        domain_registration_length, status)\n",
    "\n",
    "phishing_split <- initial_split(phishing_imp, prop = 3/4, strata = status)\n",
    "phishing_train <- training(phishing_split)\n",
    "phishing_test <- testing(phishing_split)\n",
    "phishing_train\n",
    "phishing_test"
   ]
  },
  {
   "cell_type": "markdown",
   "id": "0afefd83-414c-4b8d-920e-1651ae5e2f2a",
   "metadata": {
    "tags": []
   },
   "source": [
    "### Data Summary"
   ]
  },
  {
   "cell_type": "code",
   "execution_count": 30,
   "id": "1f19bd59-4a4d-44ec-8cdb-5afd78c8ef3b",
   "metadata": {},
   "outputs": [
    {
     "data": {
      "text/html": [
       "<table class=\"dataframe\">\n",
       "<caption>A data.frame: 2 × 3</caption>\n",
       "<thead>\n",
       "\t<tr><th scope=col>status</th><th scope=col>n</th><th scope=col>mean_of_all_predictors</th></tr>\n",
       "\t<tr><th scope=col>&lt;chr&gt;</th><th scope=col>&lt;int&gt;</th><th scope=col>&lt;dbl&gt;</th></tr>\n",
       "</thead>\n",
       "<tbody>\n",
       "\t<tr><td>legitimate</td><td>4286</td><td>725.9518</td></tr>\n",
       "\t<tr><td>phishing  </td><td>4286</td><td>522.9230</td></tr>\n",
       "</tbody>\n",
       "</table>\n"
      ],
      "text/latex": [
       "A data.frame: 2 × 3\n",
       "\\begin{tabular}{lll}\n",
       " status & n & mean\\_of\\_all\\_predictors\\\\\n",
       " <chr> & <int> & <dbl>\\\\\n",
       "\\hline\n",
       "\t legitimate & 4286 & 725.9518\\\\\n",
       "\t phishing   & 4286 & 522.9230\\\\\n",
       "\\end{tabular}\n"
      ],
      "text/markdown": [
       "\n",
       "A data.frame: 2 × 3\n",
       "\n",
       "| status &lt;chr&gt; | n &lt;int&gt; | mean_of_all_predictors &lt;dbl&gt; |\n",
       "|---|---|---|\n",
       "| legitimate | 4286 | 725.9518 |\n",
       "| phishing   | 4286 | 522.9230 |\n",
       "\n"
      ],
      "text/plain": [
       "  status     n    mean_of_all_predictors\n",
       "1 legitimate 4286 725.9518              \n",
       "2 phishing   4286 522.9230              "
      ]
     },
     "metadata": {},
     "output_type": "display_data"
    }
   ],
   "source": [
    "phishing_table_1 <- phishing_train |>\n",
    "group_by (status) |>\n",
    "summarize (n=n())\n",
    "\n",
    "phishing_table_2 <- phishing_train |>\n",
    "group_by(status) |>\n",
    "summarize (mean_of_all_predictors = mean(length_url + length_hostname + nb_dots + nb_hyphens + nb_at + nb_qm + nb_and + nb_or + \n",
    "                                         nb_eq + nb_underscore + nb_tilde + nb_percent + nb_slash + nb_star + nb_colon + \n",
    "                                         nb_comma + nb_semicolumn + nb_dollar + nb_space + http_in_path + https_token + \n",
    "                                         ratio_digits_url + ratio_digits_host + nb_subdomains + longest_word_host + \n",
    "                                         longest_word_path + avg_words_raw + avg_word_host + domain_registration_length, \n",
    "                                         na.rm = TRUE))\n",
    "\n",
    "phishing_table <- merge(x = phishing_table_1, y = phishing_table_2, by = \"status\")\n",
    "phishing_table"
   ]
  },
  {
   "cell_type": "markdown",
   "id": "82db9904-02ca-4d2a-a08f-f1f8a342a6fe",
   "metadata": {},
   "source": [
    "### Data Visualization"
   ]
  },
  {
   "cell_type": "code",
   "execution_count": 69,
   "id": "28120025-9183-47c2-8e8c-aa3f690b0545",
   "metadata": {},
   "outputs": [
    {
     "data": {
      "image/png": "[encoded data removed]",
      "text/plain": [
       "plot without title"
      ]
     },
     "metadata": {
      "image/png": {
       "height": 180,
       "width": 180
      }
     },
     "output_type": "display_data"
    },
    {
     "data": {
      "image/png": "[encoded data removed]",
      "text/plain": [
       "plot without title"
      ]
     },
     "metadata": {
      "image/png": {
       "height": 180,
       "width": 180
      }
     },
     "output_type": "display_data"
    },
    {
     "data": {
      "image/png": "[encoded data removed]",
      "text/plain": [
       "plot without title"
      ]
     },
     "metadata": {
      "image/png": {
       "height": 180,
       "width": 180
      }
     },
     "output_type": "display_data"
    },
    {
     "data": {
      "image/png": "[encoded data removed]",
      "text/plain": [
       "plot without title"
      ]
     },
     "metadata": {
      "image/png": {
       "height": 180,
       "width": 180
      }
     },
     "output_type": "display_data"
    },
    {
     "data": {
      "image/png": "[encoded data removed]",
      "text/plain": [
       "plot without title"
      ]
     },
     "metadata": {
      "image/png": {
       "height": 180,
       "width": 180
      }
     },
     "output_type": "display_data"
    },
    {
     "data": {
      "image/png": "[encoded data removed]",
      "text/plain": [
       "plot without title"
      ]
     },
     "metadata": {
      "image/png": {
       "height": 180,
       "width": 180
      }
     },
     "output_type": "display_data"
    },
    {
     "data": {
      "image/png": "[encoded data removed]",
      "text/plain": [
       "plot without title"
      ]
     },
     "metadata": {
      "image/png": {
       "height": 180,
       "width": 180
      }
     },
     "output_type": "display_data"
    },
    {
     "data": {
      "image/png": "[encoded data removed]",
      "text/plain": [
       "plot without title"
      ]
     },
     "metadata": {
      "image/png": {
       "height": 180,
       "width": 180
      }
     },
     "output_type": "display_data"
    },
    {
     "data": {
      "image/png": "[encoded data removed]",
      "text/plain": [
       "plot without title"
      ]
     },
     "metadata": {
      "image/png": {
       "height": 180,
       "width": 180
      }
     },
     "output_type": "display_data"
    },
    {
     "data": {
      "image/png": "[encoded data removed]",
      "text/plain": [
       "plot without title"
      ]
     },
     "metadata": {
      "image/png": {
       "height": 180,
       "width": 180
      }
     },
     "output_type": "display_data"
    },
    {
     "data": {
      "image/png": "[encoded data removed]",
      "text/plain": [
       "plot without title"
      ]
     },
     "metadata": {
      "image/png": {
       "height": 180,
       "width": 180
      }
     },
     "output_type": "display_data"
    },
    {
     "data": {
      "image/png": "[encoded data removed]",
      "text/plain": [
       "plot without title"
      ]
     },
     "metadata": {
      "image/png": {
       "height": 180,
       "width": 180
      }
     },
     "output_type": "display_data"
    },
    {
     "data": {
      "image/png": "[encoded data removed]",
      "text/plain": [
       "plot without title"
      ]
     },
     "metadata": {
      "image/png": {
       "height": 180,
       "width": 180
      }
     },
     "output_type": "display_data"
    },
    {
     "data": {
      "image/png": "[encoded data removed]",
      "text/plain": [
       "plot without title"
      ]
     },
     "metadata": {
      "image/png": {
       "height": 180,
       "width": 180
      }
     },
     "output_type": "display_data"
    },
    {
     "data": {
      "image/png": "[encoded data removed]",
      "text/plain": [
       "plot without title"
      ]
     },
     "metadata": {
      "image/png": {
       "height": 180,
       "width": 180
      }
     },
     "output_type": "display_data"
    },
    {
     "data": {
      "image/png": "[encoded data removed]",
      "text/plain": [
       "plot without title"
      ]
     },
     "metadata": {
      "image/png": {
       "height": 180,
       "width": 180
      }
     },
     "output_type": "display_data"
    },
    {
     "data": {
      "image/png": "[encoded data removed]",
      "text/plain": [
       "plot without title"
      ]
     },
     "metadata": {
      "image/png": {
       "height": 180,
       "width": 180
      }
     },
     "output_type": "display_data"
    },
    {
     "data": {
      "image/png": "[encoded data removed]",
      "text/plain": [
       "plot without title"
      ]
     },
     "metadata": {
      "image/png": {
       "height": 180,
       "width": 180
      }
     },
     "output_type": "display_data"
    },
    {
     "data": {
      "image/png": "[encoded data removed]",
      "text/plain": [
       "plot without title"
      ]
     },
     "metadata": {
      "image/png": {
       "height": 180,
       "width": 180
      }
     },
     "output_type": "display_data"
    },
    {
     "data": {
      "image/png": "[encoded data removed]",
      "text/plain": [
       "plot without title"
      ]
     },
     "metadata": {
      "image/png": {
       "height": 180,
       "width": 180
      }
     },
     "output_type": "display_data"
    },
    {
     "data": {
      "image/png": "[encoded data removed]",
      "text/plain": [
       "plot without title"
      ]
     },
     "metadata": {
      "image/png": {
       "height": 180,
       "width": 180
      }
     },
     "output_type": "display_data"
    },
    {
     "data": {
      "image/png": "[encoded data removed]",
      "text/plain": [
       "plot without title"
      ]
     },
     "metadata": {
      "image/png": {
       "height": 180,
       "width": 180
      }
     },
     "output_type": "display_data"
    },
    {
     "data": {
      "image/png": "[encoded data removed]",
      "text/plain": [
       "plot without title"
      ]
     },
     "metadata": {
      "image/png": {
       "height": 180,
       "width": 180
      }
     },
     "output_type": "display_data"
    },
    {
     "data": {
      "image/png": "[encoded data removed]",
      "text/plain": [
       "plot without title"
      ]
     },
     "metadata": {
      "image/png": {
       "height": 180,
       "width": 180
      }
     },
     "output_type": "display_data"
    },
    {
     "data": {
      "image/png": "[encoded data removed]",
      "text/plain": [
       "plot without title"
      ]
     },
     "metadata": {
      "image/png": {
       "height": 180,
       "width": 180
      }
     },
     "output_type": "display_data"
    },
    {
     "data": {
      "image/png": "[encoded data removed]",
      "text/plain": [
       "plot without title"
      ]
     },
     "metadata": {
      "image/png": {
       "height": 180,
       "width": 180
      }
     },
     "output_type": "display_data"
    },
    {
     "data": {
      "image/png": "[encoded data removed]",
      "text/plain": [
       "plot without title"
      ]
     },
     "metadata": {
      "image/png": {
       "height": 180,
       "width": 180
      }
     },
     "output_type": "display_data"
    },
    {
     "data": {
      "image/png": "[encoded data removed]",
      "text/plain": [
       "plot without title"
      ]
     },
     "metadata": {
      "image/png": {
       "height": 180,
       "width": 180
      }
     },
     "output_type": "display_data"
    },
    {
     "data": {
      "image/png": "[encoded data removed]",
      "text/plain": [
       "plot without title"
      ]
     },
     "metadata": {
      "image/png": {
       "height": 180,
       "width": 180
      }
     },
     "output_type": "display_data"
    }
   ],
   "source": [
    "options (repr.plot.width = 3, repr.plot.height = 3)\n",
    "\n",
    "phishing_plot_1 <- phishing_train |>\n",
    "ggplot (aes ( x = status, y = length_url)) +\n",
    "geom_bar(stat = \"identity\") +\n",
    "xlab(\"Status\") +\n",
    "ylab(\"Length Of Url\")\n",
    "phishing_plot_1\n",
    "\n",
    "phishing_plot_2 <- phishing_train |>\n",
    "ggplot (aes ( x = status, y = length_hostname)) +\n",
    "geom_bar(stat = \"identity\") +\n",
    "xlab(\"Status\") +\n",
    "ylab(\"Length Of host name\")\n",
    "phishing_plot_2\n",
    "\n",
    "phishing_plot_3 <- phishing_train |>\n",
    "ggplot (aes ( x = status, y = nb_dots)) +\n",
    "geom_bar(stat = \"identity\") +\n",
    "xlab(\"Status\") +\n",
    "ylab(\"Number of Dots\")\n",
    "phishing_plot_3\n",
    "\n",
    "phishing_plot_4 <- phishing_train |>\n",
    "ggplot (aes ( x = status, y = nb_hyphens)) +\n",
    "geom_bar(stat = \"identity\") +\n",
    "xlab(\"Status\") +\n",
    "ylab(\"Number of hyphens\")\n",
    "phishing_plot_4\n",
    "\n",
    "phishing_plot_5 <- phishing_train |>\n",
    "ggplot (aes ( x = status, y = nb_at)) +\n",
    "geom_bar(stat = \"identity\") +\n",
    "xlab(\"Status\") +\n",
    "ylab(\"Number of @\")\n",
    "phishing_plot_5\n",
    "\n",
    "phishing_plot_6 <- phishing_train |>\n",
    "ggplot (aes ( x = status, y = nb_qm)) +\n",
    "geom_bar(stat = \"identity\") +\n",
    "xlab(\"Status\") +\n",
    "ylab(\"Number of ?\")\n",
    "phishing_plot_6\n",
    "\n",
    "phishing_plot_7 <- phishing_train |>\n",
    "ggplot (aes ( x = status, y = nb_and)) +\n",
    "geom_bar(stat = \"identity\") +\n",
    "xlab(\"Status\") +\n",
    "ylab(\"Number of &\")\n",
    "phishing_plot_7\n",
    "\n",
    "phishing_plot_8 <- phishing_train |>\n",
    "ggplot (aes ( x = status, y = nb_or)) +\n",
    "geom_bar(stat = \"identity\") +\n",
    "xlab(\"Status\") +\n",
    "ylab(\"Number of |\")\n",
    "phishing_plot_8\n",
    "\n",
    "phishing_plot_9 <- phishing_train |>\n",
    "ggplot (aes ( x = status, y = nb_eq)) +\n",
    "geom_bar(stat = \"identity\") +\n",
    "xlab(\"Status\") +\n",
    "ylab(\"Number of =\")\n",
    "phishing_plot_9\n",
    "\n",
    "phishing_plot_10 <- phishing_train |>\n",
    "ggplot (aes ( x = status, y = nb_underscore)) +\n",
    "geom_bar(stat = \"identity\") +\n",
    "xlab(\"Status\") +\n",
    "ylab(\"Number of _\")\n",
    "phishing_plot_10\n",
    "\n",
    "phishing_plot_11 <- phishing_train |>\n",
    "ggplot (aes ( x = status, y = nb_tilde)) +\n",
    "geom_bar(stat = \"identity\") +\n",
    "xlab(\"Status\") +\n",
    "ylab(\"Number of ~\")\n",
    "phishing_plot_11\n",
    "\n",
    "phishing_plot_12 <- phishing_train |>\n",
    "ggplot (aes ( x = status, y = nb_percent)) +\n",
    "geom_bar(stat = \"identity\") +\n",
    "xlab(\"Status\") +\n",
    "ylab(\"Number of %\")\n",
    "phishing_plot_12\n",
    "\n",
    "phishing_plot_13 <- phishing_train |>\n",
    "ggplot (aes ( x = status, y = nb_slash)) +\n",
    "geom_bar(stat = \"identity\") +\n",
    "xlab(\"Status\") +\n",
    "ylab(\"Number of /\")\n",
    "phishing_plot_13\n",
    "\n",
    "phishing_plot_14 <- phishing_train |>\n",
    "ggplot (aes ( x = status, y = nb_star)) +\n",
    "geom_bar(stat = \"identity\") +\n",
    "xlab(\"Status\") +\n",
    "ylab(\"Number of *\")\n",
    "phishing_plot_14\n",
    "\n",
    "phishing_plot_15 <- phishing_train |>\n",
    "ggplot (aes ( x = status, y = nb_colon)) +\n",
    "geom_bar(stat = \"identity\") +\n",
    "xlab(\"Status\") +\n",
    "ylab(\"Number of :\")\n",
    "phishing_plot_15\n",
    "\n",
    "phishing_plot_16 <- phishing_train |>\n",
    "ggplot (aes ( x = status, y = nb_comma)) +\n",
    "geom_bar(stat = \"identity\") +\n",
    "xlab(\"Status\") +\n",
    "ylab(\"Number of ,\")\n",
    "phishing_plot_16\n",
    "\n",
    "phishing_plot_17 <- phishing_train |>\n",
    "ggplot (aes ( x = status, y = nb_semicolumn)) +\n",
    "geom_bar(stat = \"identity\") +\n",
    "xlab(\"Status\") +\n",
    "ylab(\"Number of ;\")\n",
    "phishing_plot_17\n",
    "\n",
    "phishing_plot_18 <- phishing_train |>\n",
    "ggplot (aes ( x = status, y = nb_dollar)) +\n",
    "geom_bar(stat = \"identity\") +\n",
    "xlab(\"Status\") +\n",
    "ylab(\"Number of $\")\n",
    "phishing_plot_18\n",
    "\n",
    "phishing_plot_19 <- phishing_train |>\n",
    "ggplot (aes ( x = status, y = nb_space)) +\n",
    "geom_bar(stat = \"identity\") +\n",
    "xlab(\"Status\") +\n",
    "ylab(\"Number of spaces\")\n",
    "phishing_plot_19\n",
    "\n",
    "phishing_plot_20 <- phishing_train |>\n",
    "ggplot (aes ( x = status, y = http_in_path)) +\n",
    "geom_bar(stat = \"identity\") +\n",
    "xlab(\"Status\") +\n",
    "ylab(\"HTTP in path\")\n",
    "phishing_plot_20\n",
    "\n",
    "phishing_plot_21 <- phishing_train |>\n",
    "ggplot (aes ( x = status, y = https_token)) +\n",
    "geom_bar(stat = \"identity\") +\n",
    "xlab(\"Status\") +\n",
    "ylab(\"HTTPS token\")\n",
    "phishing_plot_21\n",
    "\n",
    "phishing_plot_22 <- phishing_train |>\n",
    "ggplot (aes ( x = status, y = ratio_digits_url)) +\n",
    "geom_bar(stat = \"identity\") +\n",
    "xlab(\"Status\") +\n",
    "ylab(\"Ratio of digits in url\")\n",
    "phishing_plot_22\n",
    "\n",
    "phishing_plot_23 <- phishing_train |>\n",
    "ggplot (aes ( x = status, y = ratio_digits_host)) +\n",
    "geom_bar(stat = \"identity\") +\n",
    "xlab(\"Status\") +\n",
    "ylab(\"Ratio of digits in host\")\n",
    "phishing_plot_23\n",
    "\n",
    "phishing_plot_24 <- phishing_train |>\n",
    "ggplot (aes ( x = status, y = nb_subdomains)) +\n",
    "geom_bar(stat = \"identity\") +\n",
    "xlab(\"Status\") +\n",
    "ylab(\"Number of sub domains\")\n",
    "phishing_plot_24\n",
    "\n",
    "phishing_plot_25 <- phishing_train |>\n",
    "ggplot (aes ( x = status, y = longest_word_host)) +\n",
    "geom_bar(stat = \"identity\") +\n",
    "xlab(\"Status\") +\n",
    "ylab(\"Longest word in host\")\n",
    "phishing_plot_25\n",
    "\n",
    "phishing_plot_26 <- phishing_train |>\n",
    "ggplot (aes ( x = status, y = longest_word_path)) +\n",
    "geom_bar(stat = \"identity\") +\n",
    "xlab(\"Status\") +\n",
    "ylab(\"Longest word in path\")\n",
    "phishing_plot_26\n",
    "\n",
    "phishing_plot_27 <- phishing_train |>\n",
    "ggplot (aes ( x = status, y = avg_words_raw)) +\n",
    "geom_bar(stat = \"identity\") +\n",
    "xlab(\"Status\") +\n",
    "ylab(\"Average words raw\")\n",
    "phishing_plot_27\n",
    "\n",
    "phishing_plot_28 <- phishing_train |>\n",
    "ggplot (aes ( x = status, y = avg_word_host)) +\n",
    "geom_bar(stat = \"identity\") +\n",
    "xlab(\"Status\") +\n",
    "ylab(\"Average words Host\")\n",
    "phishing_plot_28\n",
    "\n",
    "phishing_plot_29 <- phishing_train |>\n",
    "ggplot (aes ( x = status, y = domain_registration_length)) +\n",
    "geom_bar(stat = \"identity\") +\n",
    "xlab(\"Status\") +\n",
    "ylab(\"Domain Registration Length\")\n",
    "phishing_plot_29"
   ]
  },
  {
   "cell_type": "markdown",
   "id": "ddb4c013-0dba-437b-83a9-15a9f5fd40fd",
   "metadata": {},
   "source": [
    "## Methods"
   ]
  },
  {
   "cell_type": "markdown",
   "id": "b3fc7fc1-1088-4b78-97b5-f9a20a543daf",
   "metadata": {},
   "source": [
    "### How we will conduct data analysis"
   ]
  },
  {
   "cell_type": "markdown",
   "id": "be8452bb-c462-47a9-adf4-c1d6f6d5c556",
   "metadata": {},
   "source": [
    "To answer the question: *\"What attributes are the most important in classifying whether an URL is phishing or legitimate?\"* we will be classifying the URLs using the K-nearest neighbours classification technique. To use this type of classification, we have chosen a list of relevant predictors which predict ***status*** (whether it is phishing or legitimate), and we will use **cross-validation** to get an optimal value of K.\n",
    "\n",
    "Relevant Predictors:\n",
    "- Length of the URL (length_url)\n",
    "- Length of the hostname (length_hostname)\n",
    "- Number of dots (nb_dots)\n",
    "- Number of hyphens (nb_hyphens)\n",
    "- Number of @ (nb_at)\n",
    "- Number of ? (nb_qm)\n",
    "- Number of & (nb_and)\n",
    "- Number of | (nb_or)\n",
    "- Number of = (nb_eq)\n",
    "- Number of _ (nb_underscore)\n",
    "- Number of ~ (nb_tilde)\n",
    "- Number of % (nb_percent)\n",
    "- Number of / (nb_slash)\n",
    "- Number of * (nb_star)\n",
    "- Number of : (nb_colon)\n",
    "- Number of , (nb_comma)\n",
    "- Number of ; (nb_semicolumn)\n",
    "- Number of $ (nb_dollar)\n",
    "- Number of spaces (nb_space)\n",
    "- HTTP in path (http_in_path)\n",
    "- HTTPS token (https_token)\n",
    "- Ratio of digits in URL (ratio_digits_url)\n",
    "- Ratio of digits in host (ratio_digits_host)\n",
    "- Number of subdomains (nb_subdomains)\n",
    "- Longest word in host (longest_word_host)\n",
    "- Longest word in path (longest_word_path)\n",
    "- Average words Raw (avg_words_raw)\n",
    "- Average word host (avg_word_host)\n",
    "- Domain Registration Length (domain_registration_length)\n",
    "\n",
    "Then, after, classifying the URLs, we will go back to the predictors we have been using and find out which ones are the most crucial in the classification. We will do this by testing the accuracy of the model whilst adding and removing predictors. Additionally, we will be using a variety of tools described below."
   ]
  },
  {
   "cell_type": "markdown",
   "id": "27da66f7-8016-4514-8995-6e6d02d61bb4",
   "metadata": {},
   "source": [
    "### How we will visualize the results"
   ]
  },
  {
   "cell_type": "markdown",
   "id": "1923ef7e-8d88-4fec-907f-93b73e366d3b",
   "metadata": {},
   "source": [
    "To visualize which attributes will be most helpful in predicting whether a URL is phishing or legitimate, we will be using the following visualizations on the predictors:\n",
    "- Correlation matrix  - allows us to see the correlation coefficients between variables. This will enable us to see patterns in the data, allowing us to see which attributes are the best predictors of the legitimacy of the URL.\n",
    "- Bell curves - show predictors' mean and standard deviations and how they relate to URLs. We can compare the mean and standard deviation of a predictor for a legitimate URL and a predictor for a phishing URL. The best predictors to use are the predictors that differ the most between legitimate and phishing.\n",
    "- Bar graphs - showing the model accuracy estimate with the removal of each predictor."
   ]
  },
  {
   "cell_type": "markdown",
   "id": "1896e6ee-5530-4655-be3d-8e87bb5e7d47",
   "metadata": {},
   "source": [
    "## Expected Outcomes and Significance"
   ]
  },
  {
   "cell_type": "markdown",
   "id": "8a5a9061-9c1f-4c46-b873-39dc4f8d3de3",
   "metadata": {},
   "source": [
    "We expect to find specific attributes that stick out from the rest. These attributes probably include HTTPS tokens and the amount of non-alphanumeric characters in the URL. These findings will allow us to reduce the number of predictors used to classify phishing/legitimate URLs, meaning that we can decrease the number of computations when trying to find bad actors stealing one's information. This will probably lead to future questions like: <p style=\"color:red\">TODO</p>"
   ]
  },
  {
   "cell_type": "code",
   "execution_count": null,
   "id": "78a05d10-0249-4de4-af7a-e5be5e59d03e",
   "metadata": {},
   "outputs": [],
   "source": []
  }
 ],
 "metadata": {
  "kernelspec": {
   "display_name": "R",
   "language": "R",
   "name": "ir"
  },
  "language_info": {
   "codemirror_mode": "r",
   "file_extension": ".r",
   "mimetype": "text/x-r-source",
   "name": "R",
   "pygments_lexer": "r",
   "version": "4.1.3"
  }
 },
 "nbformat": 4,
 "nbformat_minor": 5
}
