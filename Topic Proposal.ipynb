{
 "cells": [
  {
   "cell_type": "markdown",
   "id": "140c8607-eeb7-4fba-9c94-e1b8e543ed9c",
   "metadata": {},
   "source": [
    "# Phishing URL Detection"
   ]
  },
  {
   "cell_type": "markdown",
   "id": "6e224a38-0610-4c4a-ba3f-7639b254f701",
   "metadata": {},
   "source": [
    "## Introduction"
   ]
  },
  {
   "cell_type": "markdown",
   "id": "80ac367a-e870-4ac3-bed5-20ad847c029c",
   "metadata": {},
   "source": [
    "### Relevant Background Info"
   ]
  },
  {
   "cell_type": "markdown",
   "id": "f40d7141-f9af-451e-82d1-13f42f225c7e",
   "metadata": {},
   "source": [
    "Phishing is a cybercrime that baits unknowing victims into clicking on URLs. This is done by acting like an authentic institution while contacting the victim through emails, texts, or other social media. Phishing assaults nowadays are advanced and progressively more troublesome to spot; additionally, as we rely more on our online profiles, phishing emails that take our sensitive information become more and more dangerous. Not only are phishing assaults dangerous to individuals, but they are also dangerous to huge corporations. For instance, one of the most extraordinary Phishing attacks includes the Colonial Pipeline scam, where over 3.4 billion euros were scammed out of the company. The attack was constructed by a simple email which gained access to passwords and planted malicious software onto the company network system. This caused the company to shut down and the oil prices to skyrocket. The seriousness and dangers of phishing can lead to extreme damage and have tragic consequences, so more sophisticated methods of systems are required to prevent phishing. To counteract the dangers of phishing, our group will classify URLs as 'phishing' or 'legitimate' to warn victims before the attackers steal their sensitive information."
   ]
  },
  {
   "cell_type": "markdown",
   "id": "b1a8ce1c-5b93-4139-bf49-1cb706641960",
   "metadata": {},
   "source": [
    "### Predictive Question"
   ]
  },
  {
   "cell_type": "markdown",
   "id": "bb51bfb0-2c3c-42e7-9bc1-69664459b494",
   "metadata": {},
   "source": [
    "How can we classify the legitimacy of the URL based on its attributes?"
   ]
  },
  {
   "cell_type": "markdown",
   "id": "f121c10a-bf56-4089-9992-3b50c6d49cd9",
   "metadata": {},
   "source": [
    "### Dataset"
   ]
  },
  {
   "cell_type": "markdown",
   "id": "164abd36-2112-430b-83c2-6212fef06f96",
   "metadata": {},
   "source": [
    "The dataset used in this project comes from: https://data.mendeley.com/datasets/c2gw7fy2j4/3/files/575316f4-ee1d-453e-a04f-7b950915b61b <br>\n",
    "The dataset is used by the article <i><a href=\"https://www.sciencedirect.com/science/article/pii/S0952197621001950#\">Towards benchmark datasets for machine learning based website phishing detection: An experimental study</a></i> which can be found on the <i><a href=\"https://www.sciencedirect.com/journal/engineering-applications-of-artificial-intelligence\">Engineering Applications of Artificial Intelligence journal</a></i>."
   ]
  },
  {
   "cell_type": "markdown",
   "id": "9a47830d-b1e5-46c1-afdd-936a86239b29",
   "metadata": {},
   "source": [
    "## Preliminary Exploratory Data Analysis"
   ]
  },
  {
   "cell_type": "markdown",
   "id": "d51d4301-72d1-4680-8b28-76915fdb05c7",
   "metadata": {},
   "source": [
    "Loading necessary libraries."
   ]
  },
  {
   "cell_type": "code",
   "execution_count": 2,
   "id": "b3f2ee8c-60ad-401e-b130-6e65347a2aa8",
   "metadata": {},
   "outputs": [
    {
     "name": "stderr",
     "output_type": "stream",
     "text": [
      "── \u001b[1mAttaching packages\u001b[22m ─────────────────────────────────────── tidyverse 1.3.1 ──\n",
      "\n",
      "\u001b[32m✔\u001b[39m \u001b[34mggplot2\u001b[39m 3.3.6     \u001b[32m✔\u001b[39m \u001b[34mpurrr  \u001b[39m 0.3.4\n",
      "\u001b[32m✔\u001b[39m \u001b[34mtibble \u001b[39m 3.1.7     \u001b[32m✔\u001b[39m \u001b[34mdplyr  \u001b[39m 1.0.9\n",
      "\u001b[32m✔\u001b[39m \u001b[34mtidyr  \u001b[39m 1.2.0     \u001b[32m✔\u001b[39m \u001b[34mstringr\u001b[39m 1.4.0\n",
      "\u001b[32m✔\u001b[39m \u001b[34mreadr  \u001b[39m 2.1.2     \u001b[32m✔\u001b[39m \u001b[34mforcats\u001b[39m 0.5.1\n",
      "\n",
      "── \u001b[1mConflicts\u001b[22m ────────────────────────────────────────── tidyverse_conflicts() ──\n",
      "\u001b[31m✖\u001b[39m \u001b[34mdplyr\u001b[39m::\u001b[32mfilter()\u001b[39m masks \u001b[34mstats\u001b[39m::filter()\n",
      "\u001b[31m✖\u001b[39m \u001b[34mdplyr\u001b[39m::\u001b[32mlag()\u001b[39m    masks \u001b[34mstats\u001b[39m::lag()\n",
      "\n",
      "── \u001b[1mAttaching packages\u001b[22m ────────────────────────────────────── tidymodels 1.0.0 ──\n",
      "\n",
      "\u001b[32m✔\u001b[39m \u001b[34mbroom       \u001b[39m 1.0.0     \u001b[32m✔\u001b[39m \u001b[34mrsample     \u001b[39m 1.0.0\n",
      "\u001b[32m✔\u001b[39m \u001b[34mdials       \u001b[39m 1.0.0     \u001b[32m✔\u001b[39m \u001b[34mtune        \u001b[39m 1.0.0\n",
      "\u001b[32m✔\u001b[39m \u001b[34minfer       \u001b[39m 1.0.2     \u001b[32m✔\u001b[39m \u001b[34mworkflows   \u001b[39m 1.0.0\n",
      "\u001b[32m✔\u001b[39m \u001b[34mmodeldata   \u001b[39m 1.0.0     \u001b[32m✔\u001b[39m \u001b[34mworkflowsets\u001b[39m 1.0.0\n",
      "\u001b[32m✔\u001b[39m \u001b[34mparsnip     \u001b[39m 1.0.0     \u001b[32m✔\u001b[39m \u001b[34myardstick   \u001b[39m 1.0.0\n",
      "\u001b[32m✔\u001b[39m \u001b[34mrecipes     \u001b[39m 1.0.1     \n",
      "\n",
      "── \u001b[1mConflicts\u001b[22m ───────────────────────────────────────── tidymodels_conflicts() ──\n",
      "\u001b[31m✖\u001b[39m \u001b[34mscales\u001b[39m::\u001b[32mdiscard()\u001b[39m masks \u001b[34mpurrr\u001b[39m::discard()\n",
      "\u001b[31m✖\u001b[39m \u001b[34mdplyr\u001b[39m::\u001b[32mfilter()\u001b[39m   masks \u001b[34mstats\u001b[39m::filter()\n",
      "\u001b[31m✖\u001b[39m \u001b[34mrecipes\u001b[39m::\u001b[32mfixed()\u001b[39m  masks \u001b[34mstringr\u001b[39m::fixed()\n",
      "\u001b[31m✖\u001b[39m \u001b[34mdplyr\u001b[39m::\u001b[32mlag()\u001b[39m      masks \u001b[34mstats\u001b[39m::lag()\n",
      "\u001b[31m✖\u001b[39m \u001b[34myardstick\u001b[39m::\u001b[32mspec()\u001b[39m masks \u001b[34mreadr\u001b[39m::spec()\n",
      "\u001b[31m✖\u001b[39m \u001b[34mrecipes\u001b[39m::\u001b[32mstep()\u001b[39m   masks \u001b[34mstats\u001b[39m::step()\n",
      "\u001b[34m•\u001b[39m Dig deeper into tidy modeling with R at \u001b[32mhttps://www.tmwr.org\u001b[39m\n",
      "\n"
     ]
    }
   ],
   "source": [
    "library(tidyverse)\n",
    "library(repr)\n",
    "library(tidymodels)"
   ]
  },
  {
   "cell_type": "markdown",
   "id": "0d299a50-2e43-4357-b523-a72f4667e18e",
   "metadata": {},
   "source": [
    "### Reading the Data"
   ]
  },
  {
   "cell_type": "markdown",
   "id": "9df1206c-5ec5-4bed-810e-688e691cfffc",
   "metadata": {},
   "source": [
    "As there is no host that allows us to read the dataset online, we have downloaded the data set, and will be reading it locally (in the Jupyter server).  The credibility of the data above, in the *Dataset* section of this proposal."
   ]
  },
  {
   "cell_type": "code",
   "execution_count": 3,
   "id": "4de257b6-23b1-493b-aef0-a06df11d5e5a",
   "metadata": {},
   "outputs": [
    {
     "name": "stderr",
     "output_type": "stream",
     "text": [
      "\u001b[1mRows: \u001b[22m\u001b[34m11430\u001b[39m \u001b[1mColumns: \u001b[22m\u001b[34m89\u001b[39m\n",
      "\u001b[36m──\u001b[39m \u001b[1mColumn specification\u001b[22m \u001b[36m────────────────────────────────────────────────────────\u001b[39m\n",
      "\u001b[1mDelimiter:\u001b[22m \",\"\n",
      "\u001b[31mchr\u001b[39m  (2): url, status\n",
      "\u001b[32mdbl\u001b[39m (87): length_url, length_hostname, ip, nb_dots, nb_hyphens, nb_at, nb_qm...\n",
      "\n",
      "\u001b[36mℹ\u001b[39m Use `spec()` to retrieve the full column specification for this data.\n",
      "\u001b[36mℹ\u001b[39m Specify the column types or set `show_col_types = FALSE` to quiet this message.\n"
     ]
    },
    {
     "data": {
      "text/html": [
       "<table class=\"dataframe\">\n",
       "<caption>A spec_tbl_df: 11430 × 89</caption>\n",
       "<thead>\n",
       "\t<tr><th scope=col>url</th><th scope=col>length_url</th><th scope=col>length_hostname</th><th scope=col>ip</th><th scope=col>nb_dots</th><th scope=col>nb_hyphens</th><th scope=col>nb_at</th><th scope=col>nb_qm</th><th scope=col>nb_and</th><th scope=col>nb_or</th><th scope=col>⋯</th><th scope=col>domain_in_title</th><th scope=col>domain_with_copyright</th><th scope=col>whois_registered_domain</th><th scope=col>domain_registration_length</th><th scope=col>domain_age</th><th scope=col>web_traffic</th><th scope=col>dns_record</th><th scope=col>google_index</th><th scope=col>page_rank</th><th scope=col>status</th></tr>\n",
       "\t<tr><th scope=col>&lt;chr&gt;</th><th scope=col>&lt;dbl&gt;</th><th scope=col>&lt;dbl&gt;</th><th scope=col>&lt;dbl&gt;</th><th scope=col>&lt;dbl&gt;</th><th scope=col>&lt;dbl&gt;</th><th scope=col>&lt;dbl&gt;</th><th scope=col>&lt;dbl&gt;</th><th scope=col>&lt;dbl&gt;</th><th scope=col>&lt;dbl&gt;</th><th scope=col>⋯</th><th scope=col>&lt;dbl&gt;</th><th scope=col>&lt;dbl&gt;</th><th scope=col>&lt;dbl&gt;</th><th scope=col>&lt;dbl&gt;</th><th scope=col>&lt;dbl&gt;</th><th scope=col>&lt;dbl&gt;</th><th scope=col>&lt;dbl&gt;</th><th scope=col>&lt;dbl&gt;</th><th scope=col>&lt;dbl&gt;</th><th scope=col>&lt;chr&gt;</th></tr>\n",
       "</thead>\n",
       "<tbody>\n",
       "\t<tr><td>http://www.crestonwood.com/router.php                                                                                         </td><td> 37</td><td>19</td><td>0</td><td>3</td><td>0</td><td>0</td><td>0</td><td>0</td><td>0</td><td>⋯</td><td>0</td><td>1</td><td>0</td><td>45</td><td>  -1</td><td>      0</td><td>1</td><td>1</td><td>4</td><td>legitimate</td></tr>\n",
       "\t<tr><td>http://shadetreetechnology.com/V4/validation/a111aedc8ae390eabcfa130e041a10a4                                                 </td><td> 77</td><td>23</td><td>1</td><td>1</td><td>0</td><td>0</td><td>0</td><td>0</td><td>0</td><td>⋯</td><td>1</td><td>0</td><td>0</td><td>77</td><td>5767</td><td>      0</td><td>0</td><td>1</td><td>2</td><td>phishing  </td></tr>\n",
       "\t<tr><td>https://support-appleld.com.secureupdate.duilawyeryork.com/ap/89e6a3b4b063b8d/?cmd=_update&amp;dispatch=89e6a3b4b063b8d1b&amp;locale=_</td><td>126</td><td>50</td><td>1</td><td>4</td><td>1</td><td>0</td><td>1</td><td>2</td><td>0</td><td>⋯</td><td>1</td><td>0</td><td>0</td><td>14</td><td>4004</td><td>5828815</td><td>0</td><td>1</td><td>0</td><td><span style=white-space:pre-wrap>phishing  </span></td></tr>\n",
       "\t<tr><td>⋮</td><td>⋮</td><td>⋮</td><td>⋮</td><td>⋮</td><td>⋮</td><td>⋮</td><td>⋮</td><td>⋮</td><td>⋮</td><td>⋱</td><td>⋮</td><td>⋮</td><td>⋮</td><td>⋮</td><td>⋮</td><td>⋮</td><td>⋮</td><td>⋮</td><td>⋮</td><td>⋮</td></tr>\n",
       "\t<tr><td>http://www.mypublicdomainpictures.com/                                                                                                                                                                                                                                                                                                                                                                                                                                                       </td><td> 38</td><td>30</td><td>0</td><td> 2</td><td>0</td><td>0</td><td>0</td><td>0</td><td>0</td><td>⋯</td><td>1</td><td>0</td><td>0</td><td>85</td><td>2836</td><td>2455493</td><td>0</td><td>0</td><td>4</td><td>legitimate</td></tr>\n",
       "\t<tr><td>http://174.139.46.123/ap/signin?openid.pape.max_auth_age=0&amp;amp;openid.return_to=https%3A%2F%2Fwww.amazon.co.jp%2F%3Fref_%3Dnav_em_hd_re_signin&amp;amp;openid.identity=http%3A%2F%2Fspecs.openid.net%2Fauth%2F2.0%2Fidentifier_select&amp;amp;openid.assoc_handle=jpflex&amp;amp;openid.mode=checkid_setup&amp;amp;key=a@b.c&amp;amp;openid.claimed_id=http%3A%2F%2Fspecs.openid.net%2Fauth%2F2.0%2Fidentifier_select&amp;amp;openid.ns=http%3A%2F%2Fspecs.openid.net%2Fauth%2F2.0&amp;amp;&amp;amp;ref_=nav_em_hd_clc_signin</td><td>477</td><td>14</td><td>1</td><td>24</td><td>0</td><td>1</td><td>1</td><td>9</td><td>0</td><td>⋯</td><td>1</td><td>1</td><td>1</td><td> 0</td><td><span style=white-space:pre-wrap>  -1</span></td><td><span style=white-space:pre-wrap>      0</span></td><td>1</td><td>1</td><td>0</td><td><span style=white-space:pre-wrap>phishing  </span></td></tr>\n",
       "</tbody>\n",
       "</table>\n"
      ],
      "text/latex": [
       "A spec\\_tbl\\_df: 11430 × 89\n",
       "\\begin{tabular}{lllllllllllllllllllll}\n",
       " url & length\\_url & length\\_hostname & ip & nb\\_dots & nb\\_hyphens & nb\\_at & nb\\_qm & nb\\_and & nb\\_or & ⋯ & domain\\_in\\_title & domain\\_with\\_copyright & whois\\_registered\\_domain & domain\\_registration\\_length & domain\\_age & web\\_traffic & dns\\_record & google\\_index & page\\_rank & status\\\\\n",
       " <chr> & <dbl> & <dbl> & <dbl> & <dbl> & <dbl> & <dbl> & <dbl> & <dbl> & <dbl> & ⋯ & <dbl> & <dbl> & <dbl> & <dbl> & <dbl> & <dbl> & <dbl> & <dbl> & <dbl> & <chr>\\\\\n",
       "\\hline\n",
       "\t http://www.crestonwood.com/router.php                                                                                          &  37 & 19 & 0 & 3 & 0 & 0 & 0 & 0 & 0 & ⋯ & 0 & 1 & 0 & 45 &   -1 &       0 & 1 & 1 & 4 & legitimate\\\\\n",
       "\t http://shadetreetechnology.com/V4/validation/a111aedc8ae390eabcfa130e041a10a4                                                  &  77 & 23 & 1 & 1 & 0 & 0 & 0 & 0 & 0 & ⋯ & 1 & 0 & 0 & 77 & 5767 &       0 & 0 & 1 & 2 & phishing  \\\\\n",
       "\t https://support-appleld.com.secureupdate.duilawyeryork.com/ap/89e6a3b4b063b8d/?cmd=\\_update\\&dispatch=89e6a3b4b063b8d1b\\&locale=\\_ & 126 & 50 & 1 & 4 & 1 & 0 & 1 & 2 & 0 & ⋯ & 1 & 0 & 0 & 14 & 4004 & 5828815 & 0 & 1 & 0 & phishing  \\\\\n",
       "\t ⋮ & ⋮ & ⋮ & ⋮ & ⋮ & ⋮ & ⋮ & ⋮ & ⋮ & ⋮ & ⋱ & ⋮ & ⋮ & ⋮ & ⋮ & ⋮ & ⋮ & ⋮ & ⋮ & ⋮ & ⋮\\\\\n",
       "\t http://www.mypublicdomainpictures.com/                                                                                                                                                                                                                                                                                                                                                                                                                                                        &  38 & 30 & 0 &  2 & 0 & 0 & 0 & 0 & 0 & ⋯ & 1 & 0 & 0 & 85 & 2836 & 2455493 & 0 & 0 & 4 & legitimate\\\\\n",
       "\t http://174.139.46.123/ap/signin?openid.pape.max\\_auth\\_age=0\\&amp;openid.return\\_to=https\\%3A\\%2F\\%2Fwww.amazon.co.jp\\%2F\\%3Fref\\_\\%3Dnav\\_em\\_hd\\_re\\_signin\\&amp;openid.identity=http\\%3A\\%2F\\%2Fspecs.openid.net\\%2Fauth\\%2F2.0\\%2Fidentifier\\_select\\&amp;openid.assoc\\_handle=jpflex\\&amp;openid.mode=checkid\\_setup\\&amp;key=a@b.c\\&amp;openid.claimed\\_id=http\\%3A\\%2F\\%2Fspecs.openid.net\\%2Fauth\\%2F2.0\\%2Fidentifier\\_select\\&amp;openid.ns=http\\%3A\\%2F\\%2Fspecs.openid.net\\%2Fauth\\%2F2.0\\&amp;\\&amp;ref\\_=nav\\_em\\_hd\\_clc\\_signin & 477 & 14 & 1 & 24 & 0 & 1 & 1 & 9 & 0 & ⋯ & 1 & 1 & 1 &  0 &   -1 &       0 & 1 & 1 & 0 & phishing  \\\\\n",
       "\\end{tabular}\n"
      ],
      "text/markdown": [
       "\n",
       "A spec_tbl_df: 11430 × 89\n",
       "\n",
       "| url &lt;chr&gt; | length_url &lt;dbl&gt; | length_hostname &lt;dbl&gt; | ip &lt;dbl&gt; | nb_dots &lt;dbl&gt; | nb_hyphens &lt;dbl&gt; | nb_at &lt;dbl&gt; | nb_qm &lt;dbl&gt; | nb_and &lt;dbl&gt; | nb_or &lt;dbl&gt; | ⋯ ⋯ | domain_in_title &lt;dbl&gt; | domain_with_copyright &lt;dbl&gt; | whois_registered_domain &lt;dbl&gt; | domain_registration_length &lt;dbl&gt; | domain_age &lt;dbl&gt; | web_traffic &lt;dbl&gt; | dns_record &lt;dbl&gt; | google_index &lt;dbl&gt; | page_rank &lt;dbl&gt; | status &lt;chr&gt; |\n",
       "|---|---|---|---|---|---|---|---|---|---|---|---|---|---|---|---|---|---|---|---|---|\n",
       "| http://www.crestonwood.com/router.php                                                                                          |  37 | 19 | 0 | 3 | 0 | 0 | 0 | 0 | 0 | ⋯ | 0 | 1 | 0 | 45 |   -1 |       0 | 1 | 1 | 4 | legitimate |\n",
       "| http://shadetreetechnology.com/V4/validation/a111aedc8ae390eabcfa130e041a10a4                                                  |  77 | 23 | 1 | 1 | 0 | 0 | 0 | 0 | 0 | ⋯ | 1 | 0 | 0 | 77 | 5767 |       0 | 0 | 1 | 2 | phishing   |\n",
       "| https://support-appleld.com.secureupdate.duilawyeryork.com/ap/89e6a3b4b063b8d/?cmd=_update&amp;dispatch=89e6a3b4b063b8d1b&amp;locale=_ | 126 | 50 | 1 | 4 | 1 | 0 | 1 | 2 | 0 | ⋯ | 1 | 0 | 0 | 14 | 4004 | 5828815 | 0 | 1 | 0 | phishing   |\n",
       "| ⋮ | ⋮ | ⋮ | ⋮ | ⋮ | ⋮ | ⋮ | ⋮ | ⋮ | ⋮ | ⋱ | ⋮ | ⋮ | ⋮ | ⋮ | ⋮ | ⋮ | ⋮ | ⋮ | ⋮ | ⋮ |\n",
       "| http://www.mypublicdomainpictures.com/                                                                                                                                                                                                                                                                                                                                                                                                                                                        |  38 | 30 | 0 |  2 | 0 | 0 | 0 | 0 | 0 | ⋯ | 1 | 0 | 0 | 85 | 2836 | 2455493 | 0 | 0 | 4 | legitimate |\n",
       "| http://174.139.46.123/ap/signin?openid.pape.max_auth_age=0&amp;amp;openid.return_to=https%3A%2F%2Fwww.amazon.co.jp%2F%3Fref_%3Dnav_em_hd_re_signin&amp;amp;openid.identity=http%3A%2F%2Fspecs.openid.net%2Fauth%2F2.0%2Fidentifier_select&amp;amp;openid.assoc_handle=jpflex&amp;amp;openid.mode=checkid_setup&amp;amp;key=a@b.c&amp;amp;openid.claimed_id=http%3A%2F%2Fspecs.openid.net%2Fauth%2F2.0%2Fidentifier_select&amp;amp;openid.ns=http%3A%2F%2Fspecs.openid.net%2Fauth%2F2.0&amp;amp;&amp;amp;ref_=nav_em_hd_clc_signin | 477 | 14 | 1 | 24 | 0 | 1 | 1 | 9 | 0 | ⋯ | 1 | 1 | 1 |  0 |   -1 |       0 | 1 | 1 | 0 | phishing   |\n",
       "\n"
      ],
      "text/plain": [
       "      url                                                                                                                                                                                                                                                                                                                                                                                                                                                                                          \n",
       "1     http://www.crestonwood.com/router.php                                                                                                                                                                                                                                                                                                                                                                                                                                                        \n",
       "2     http://shadetreetechnology.com/V4/validation/a111aedc8ae390eabcfa130e041a10a4                                                                                                                                                                                                                                                                                                                                                                                                                \n",
       "3     https://support-appleld.com.secureupdate.duilawyeryork.com/ap/89e6a3b4b063b8d/?cmd=_update&dispatch=89e6a3b4b063b8d1b&locale=_                                                                                                                                                                                                                                                                                                                                                               \n",
       "⋮     ⋮                                                                                                                                                                                                                                                                                                                                                                                                                                                                                            \n",
       "11429 http://www.mypublicdomainpictures.com/                                                                                                                                                                                                                                                                                                                                                                                                                                                       \n",
       "11430 http://174.139.46.123/ap/signin?openid.pape.max_auth_age=0&amp;openid.return_to=https%3A%2F%2Fwww.amazon.co.jp%2F%3Fref_%3Dnav_em_hd_re_signin&amp;openid.identity=http%3A%2F%2Fspecs.openid.net%2Fauth%2F2.0%2Fidentifier_select&amp;openid.assoc_handle=jpflex&amp;openid.mode=checkid_setup&amp;key=a@b.c&amp;openid.claimed_id=http%3A%2F%2Fspecs.openid.net%2Fauth%2F2.0%2Fidentifier_select&amp;openid.ns=http%3A%2F%2Fspecs.openid.net%2Fauth%2F2.0&amp;&amp;ref_=nav_em_hd_clc_signin\n",
       "      length_url length_hostname ip nb_dots nb_hyphens nb_at nb_qm nb_and nb_or\n",
       "1      37        19              0  3       0          0     0     0      0    \n",
       "2      77        23              1  1       0          0     0     0      0    \n",
       "3     126        50              1  4       1          0     1     2      0    \n",
       "⋮     ⋮          ⋮               ⋮  ⋮       ⋮          ⋮     ⋮     ⋮      ⋮    \n",
       "11429  38        30              0   2      0          0     0     0      0    \n",
       "11430 477        14              1  24      0          1     1     9      0    \n",
       "      ⋯ domain_in_title domain_with_copyright whois_registered_domain\n",
       "1     ⋯ 0               1                     0                      \n",
       "2     ⋯ 1               0                     0                      \n",
       "3     ⋯ 1               0                     0                      \n",
       "⋮     ⋱ ⋮               ⋮                     ⋮                      \n",
       "11429 ⋯ 1               0                     0                      \n",
       "11430 ⋯ 1               1                     1                      \n",
       "      domain_registration_length domain_age web_traffic dns_record google_index\n",
       "1     45                           -1             0     1          1           \n",
       "2     77                         5767             0     0          1           \n",
       "3     14                         4004       5828815     0          1           \n",
       "⋮     ⋮                          ⋮          ⋮           ⋮          ⋮           \n",
       "11429 85                         2836       2455493     0          0           \n",
       "11430  0                           -1             0     1          1           \n",
       "      page_rank status    \n",
       "1     4         legitimate\n",
       "2     2         phishing  \n",
       "3     0         phishing  \n",
       "⋮     ⋮         ⋮         \n",
       "11429 4         legitimate\n",
       "11430 0         phishing  "
      ]
     },
     "metadata": {},
     "output_type": "display_data"
    }
   ],
   "source": [
    "options(repr.matrix.max.rows = 5)\n",
    "phishing_data <- read_csv(\"data/dataset_phishing.csv\")\n",
    "phishing_data"
   ]
  },
  {
   "cell_type": "markdown",
   "id": "57820a26-97d7-44b4-99bc-007b42cd1a9e",
   "metadata": {
    "tags": []
   },
   "source": [
    "### Cleaning and Wrangling the Data into a tidy format"
   ]
  },
  {
   "cell_type": "markdown",
   "id": "f29d3805-e7de-4748-8cce-2ae28b9929a9",
   "metadata": {},
   "source": [
    "The data we have found has satisfied all the rules of being clean:\n",
    "- Each row is a single observation.\n",
    "- Each column is a single variable.\n",
    "- Each value is a single cell (entry in data frame is not shared)\n",
    "\n",
    "Therefore, anything we do to the data such as pivotting wider, and pivotting longer would make the data less clean. Additionally, as the data only comes in one table, we do NOT need to merge the dataset with other ones.\n",
    "\n",
    "However, what we will do is ***selecting the important columns*** and ***separating the dataset into a training set and a testing set***."
   ]
  },
  {
   "cell_type": "code",
   "execution_count": 24,
   "id": "cfe895fd-adbf-4552-ad67-302906115da4",
   "metadata": {},
   "outputs": [
    {
     "data": {
      "text/html": [
       "<table class=\"dataframe\">\n",
       "<caption>A tibble: 8572 × 36</caption>\n",
       "<thead>\n",
       "\t<tr><th scope=col>url</th><th scope=col>length_url</th><th scope=col>length_hostname</th><th scope=col>nb_dots</th><th scope=col>nb_hyphens</th><th scope=col>nb_at</th><th scope=col>nb_qm</th><th scope=col>nb_and</th><th scope=col>nb_or</th><th scope=col>nb_eq</th><th scope=col>⋯</th><th scope=col>ratio_digits_host</th><th scope=col>tld_in_path</th><th scope=col>tld_in_subdomain</th><th scope=col>nb_subdomains</th><th scope=col>longest_word_host</th><th scope=col>longest_word_path</th><th scope=col>avg_words_raw</th><th scope=col>avg_word_host</th><th scope=col>domain_registration_length</th><th scope=col>status</th></tr>\n",
       "\t<tr><th scope=col>&lt;chr&gt;</th><th scope=col>&lt;dbl&gt;</th><th scope=col>&lt;dbl&gt;</th><th scope=col>&lt;dbl&gt;</th><th scope=col>&lt;dbl&gt;</th><th scope=col>&lt;dbl&gt;</th><th scope=col>&lt;dbl&gt;</th><th scope=col>&lt;dbl&gt;</th><th scope=col>&lt;dbl&gt;</th><th scope=col>&lt;dbl&gt;</th><th scope=col>⋯</th><th scope=col>&lt;dbl&gt;</th><th scope=col>&lt;dbl&gt;</th><th scope=col>&lt;dbl&gt;</th><th scope=col>&lt;dbl&gt;</th><th scope=col>&lt;dbl&gt;</th><th scope=col>&lt;dbl&gt;</th><th scope=col>&lt;dbl&gt;</th><th scope=col>&lt;dbl&gt;</th><th scope=col>&lt;dbl&gt;</th><th scope=col>&lt;chr&gt;</th></tr>\n",
       "</thead>\n",
       "<tbody>\n",
       "\t<tr><td>http://www.crestonwood.com/router.php                  </td><td>37</td><td>19</td><td>3</td><td>0</td><td>0</td><td>0</td><td>0</td><td>0</td><td>0</td><td>⋯</td><td>0</td><td>0</td><td>0</td><td>3</td><td>11</td><td> 6</td><td>5.750000</td><td>7</td><td> 45</td><td>legitimate</td></tr>\n",
       "\t<tr><td>http://rgipt.ac.in                                     </td><td>18</td><td>11</td><td>2</td><td>0</td><td>0</td><td>0</td><td>0</td><td>0</td><td>0</td><td>⋯</td><td>0</td><td>0</td><td>0</td><td>2</td><td> 5</td><td> 0</td><td>5.000000</td><td>5</td><td> 62</td><td>legitimate</td></tr>\n",
       "\t<tr><td>http://www.iracing.com/tracks/gateway-motorsports-park/</td><td>55</td><td>15</td><td>2</td><td>2</td><td>0</td><td>0</td><td>0</td><td>0</td><td>0</td><td>⋯</td><td>0</td><td>0</td><td>0</td><td>2</td><td> 7</td><td>11</td><td>6.333333</td><td>5</td><td>224</td><td>legitimate</td></tr>\n",
       "\t<tr><td>⋮</td><td>⋮</td><td>⋮</td><td>⋮</td><td>⋮</td><td>⋮</td><td>⋮</td><td>⋮</td><td>⋮</td><td>⋮</td><td>⋱</td><td>⋮</td><td>⋮</td><td>⋮</td><td>⋮</td><td>⋮</td><td>⋮</td><td>⋮</td><td>⋮</td><td>⋮</td><td>⋮</td></tr>\n",
       "\t<tr><td>http://www.heinzreber.net/homeflash1.html                                                                            </td><td> 41</td><td>18</td><td>3</td><td>0</td><td>0</td><td>0</td><td>0</td><td>0</td><td>0</td><td>⋯</td><td>0</td><td>0</td><td>0</td><td>3</td><td>10</td><td>10</td><td>6.750000</td><td> 6.5</td><td>977</td><td>phishing</td></tr>\n",
       "\t<tr><td>http://www.peoplemakingplaces.com/includes/Support/En/log/signin/customer_center/customer-IDPP00C644/myaccount/signin</td><td>117</td><td>26</td><td>2</td><td>1</td><td>0</td><td>0</td><td>0</td><td>0</td><td>0</td><td>⋯</td><td>0</td><td>0</td><td>0</td><td>2</td><td>18</td><td>10</td><td>7.230769</td><td>10.5</td><td>134</td><td>phishing</td></tr>\n",
       "</tbody>\n",
       "</table>\n"
      ],
      "text/latex": [
       "A tibble: 8572 × 36\n",
       "\\begin{tabular}{lllllllllllllllllllll}\n",
       " url & length\\_url & length\\_hostname & nb\\_dots & nb\\_hyphens & nb\\_at & nb\\_qm & nb\\_and & nb\\_or & nb\\_eq & ⋯ & ratio\\_digits\\_host & tld\\_in\\_path & tld\\_in\\_subdomain & nb\\_subdomains & longest\\_word\\_host & longest\\_word\\_path & avg\\_words\\_raw & avg\\_word\\_host & domain\\_registration\\_length & status\\\\\n",
       " <chr> & <dbl> & <dbl> & <dbl> & <dbl> & <dbl> & <dbl> & <dbl> & <dbl> & <dbl> & ⋯ & <dbl> & <dbl> & <dbl> & <dbl> & <dbl> & <dbl> & <dbl> & <dbl> & <dbl> & <chr>\\\\\n",
       "\\hline\n",
       "\t http://www.crestonwood.com/router.php                   & 37 & 19 & 3 & 0 & 0 & 0 & 0 & 0 & 0 & ⋯ & 0 & 0 & 0 & 3 & 11 &  6 & 5.750000 & 7 &  45 & legitimate\\\\\n",
       "\t http://rgipt.ac.in                                      & 18 & 11 & 2 & 0 & 0 & 0 & 0 & 0 & 0 & ⋯ & 0 & 0 & 0 & 2 &  5 &  0 & 5.000000 & 5 &  62 & legitimate\\\\\n",
       "\t http://www.iracing.com/tracks/gateway-motorsports-park/ & 55 & 15 & 2 & 2 & 0 & 0 & 0 & 0 & 0 & ⋯ & 0 & 0 & 0 & 2 &  7 & 11 & 6.333333 & 5 & 224 & legitimate\\\\\n",
       "\t ⋮ & ⋮ & ⋮ & ⋮ & ⋮ & ⋮ & ⋮ & ⋮ & ⋮ & ⋮ & ⋱ & ⋮ & ⋮ & ⋮ & ⋮ & ⋮ & ⋮ & ⋮ & ⋮ & ⋮ & ⋮\\\\\n",
       "\t http://www.heinzreber.net/homeflash1.html                                                                             &  41 & 18 & 3 & 0 & 0 & 0 & 0 & 0 & 0 & ⋯ & 0 & 0 & 0 & 3 & 10 & 10 & 6.750000 &  6.5 & 977 & phishing\\\\\n",
       "\t http://www.peoplemakingplaces.com/includes/Support/En/log/signin/customer\\_center/customer-IDPP00C644/myaccount/signin & 117 & 26 & 2 & 1 & 0 & 0 & 0 & 0 & 0 & ⋯ & 0 & 0 & 0 & 2 & 18 & 10 & 7.230769 & 10.5 & 134 & phishing\\\\\n",
       "\\end{tabular}\n"
      ],
      "text/markdown": [
       "\n",
       "A tibble: 8572 × 36\n",
       "\n",
       "| url &lt;chr&gt; | length_url &lt;dbl&gt; | length_hostname &lt;dbl&gt; | nb_dots &lt;dbl&gt; | nb_hyphens &lt;dbl&gt; | nb_at &lt;dbl&gt; | nb_qm &lt;dbl&gt; | nb_and &lt;dbl&gt; | nb_or &lt;dbl&gt; | nb_eq &lt;dbl&gt; | ⋯ ⋯ | ratio_digits_host &lt;dbl&gt; | tld_in_path &lt;dbl&gt; | tld_in_subdomain &lt;dbl&gt; | nb_subdomains &lt;dbl&gt; | longest_word_host &lt;dbl&gt; | longest_word_path &lt;dbl&gt; | avg_words_raw &lt;dbl&gt; | avg_word_host &lt;dbl&gt; | domain_registration_length &lt;dbl&gt; | status &lt;chr&gt; |\n",
       "|---|---|---|---|---|---|---|---|---|---|---|---|---|---|---|---|---|---|---|---|---|\n",
       "| http://www.crestonwood.com/router.php                   | 37 | 19 | 3 | 0 | 0 | 0 | 0 | 0 | 0 | ⋯ | 0 | 0 | 0 | 3 | 11 |  6 | 5.750000 | 7 |  45 | legitimate |\n",
       "| http://rgipt.ac.in                                      | 18 | 11 | 2 | 0 | 0 | 0 | 0 | 0 | 0 | ⋯ | 0 | 0 | 0 | 2 |  5 |  0 | 5.000000 | 5 |  62 | legitimate |\n",
       "| http://www.iracing.com/tracks/gateway-motorsports-park/ | 55 | 15 | 2 | 2 | 0 | 0 | 0 | 0 | 0 | ⋯ | 0 | 0 | 0 | 2 |  7 | 11 | 6.333333 | 5 | 224 | legitimate |\n",
       "| ⋮ | ⋮ | ⋮ | ⋮ | ⋮ | ⋮ | ⋮ | ⋮ | ⋮ | ⋮ | ⋱ | ⋮ | ⋮ | ⋮ | ⋮ | ⋮ | ⋮ | ⋮ | ⋮ | ⋮ | ⋮ |\n",
       "| http://www.heinzreber.net/homeflash1.html                                                                             |  41 | 18 | 3 | 0 | 0 | 0 | 0 | 0 | 0 | ⋯ | 0 | 0 | 0 | 3 | 10 | 10 | 6.750000 |  6.5 | 977 | phishing |\n",
       "| http://www.peoplemakingplaces.com/includes/Support/En/log/signin/customer_center/customer-IDPP00C644/myaccount/signin | 117 | 26 | 2 | 1 | 0 | 0 | 0 | 0 | 0 | ⋯ | 0 | 0 | 0 | 2 | 18 | 10 | 7.230769 | 10.5 | 134 | phishing |\n",
       "\n"
      ],
      "text/plain": [
       "     url                                                                                                                  \n",
       "1    http://www.crestonwood.com/router.php                                                                                \n",
       "2    http://rgipt.ac.in                                                                                                   \n",
       "3    http://www.iracing.com/tracks/gateway-motorsports-park/                                                              \n",
       "⋮    ⋮                                                                                                                    \n",
       "8571 http://www.heinzreber.net/homeflash1.html                                                                            \n",
       "8572 http://www.peoplemakingplaces.com/includes/Support/En/log/signin/customer_center/customer-IDPP00C644/myaccount/signin\n",
       "     length_url length_hostname nb_dots nb_hyphens nb_at nb_qm nb_and nb_or\n",
       "1    37         19              3       0          0     0     0      0    \n",
       "2    18         11              2       0          0     0     0      0    \n",
       "3    55         15              2       2          0     0     0      0    \n",
       "⋮    ⋮          ⋮               ⋮       ⋮          ⋮     ⋮     ⋮      ⋮    \n",
       "8571  41        18              3       0          0     0     0      0    \n",
       "8572 117        26              2       1          0     0     0      0    \n",
       "     nb_eq ⋯ ratio_digits_host tld_in_path tld_in_subdomain nb_subdomains\n",
       "1    0     ⋯ 0                 0           0                3            \n",
       "2    0     ⋯ 0                 0           0                2            \n",
       "3    0     ⋯ 0                 0           0                2            \n",
       "⋮    ⋮     ⋱ ⋮                 ⋮           ⋮                ⋮            \n",
       "8571 0     ⋯ 0                 0           0                3            \n",
       "8572 0     ⋯ 0                 0           0                2            \n",
       "     longest_word_host longest_word_path avg_words_raw avg_word_host\n",
       "1    11                 6                5.750000      7            \n",
       "2     5                 0                5.000000      5            \n",
       "3     7                11                6.333333      5            \n",
       "⋮    ⋮                 ⋮                 ⋮             ⋮            \n",
       "8571 10                10                6.750000       6.5         \n",
       "8572 18                10                7.230769      10.5         \n",
       "     domain_registration_length status    \n",
       "1     45                        legitimate\n",
       "2     62                        legitimate\n",
       "3    224                        legitimate\n",
       "⋮    ⋮                          ⋮         \n",
       "8571 977                        phishing  \n",
       "8572 134                        phishing  "
      ]
     },
     "metadata": {},
     "output_type": "display_data"
    },
    {
     "data": {
      "text/html": [
       "<table class=\"dataframe\">\n",
       "<caption>A tibble: 2858 × 36</caption>\n",
       "<thead>\n",
       "\t<tr><th scope=col>url</th><th scope=col>length_url</th><th scope=col>length_hostname</th><th scope=col>nb_dots</th><th scope=col>nb_hyphens</th><th scope=col>nb_at</th><th scope=col>nb_qm</th><th scope=col>nb_and</th><th scope=col>nb_or</th><th scope=col>nb_eq</th><th scope=col>⋯</th><th scope=col>ratio_digits_host</th><th scope=col>tld_in_path</th><th scope=col>tld_in_subdomain</th><th scope=col>nb_subdomains</th><th scope=col>longest_word_host</th><th scope=col>longest_word_path</th><th scope=col>avg_words_raw</th><th scope=col>avg_word_host</th><th scope=col>domain_registration_length</th><th scope=col>status</th></tr>\n",
       "\t<tr><th scope=col>&lt;chr&gt;</th><th scope=col>&lt;dbl&gt;</th><th scope=col>&lt;dbl&gt;</th><th scope=col>&lt;dbl&gt;</th><th scope=col>&lt;dbl&gt;</th><th scope=col>&lt;dbl&gt;</th><th scope=col>&lt;dbl&gt;</th><th scope=col>&lt;dbl&gt;</th><th scope=col>&lt;dbl&gt;</th><th scope=col>&lt;dbl&gt;</th><th scope=col>⋯</th><th scope=col>&lt;dbl&gt;</th><th scope=col>&lt;dbl&gt;</th><th scope=col>&lt;dbl&gt;</th><th scope=col>&lt;dbl&gt;</th><th scope=col>&lt;dbl&gt;</th><th scope=col>&lt;dbl&gt;</th><th scope=col>&lt;dbl&gt;</th><th scope=col>&lt;dbl&gt;</th><th scope=col>&lt;dbl&gt;</th><th scope=col>&lt;chr&gt;</th></tr>\n",
       "</thead>\n",
       "<tbody>\n",
       "\t<tr><td>http://appleid.apple.com-app.es/                                                 </td><td>32</td><td>24</td><td>3</td><td>1</td><td>0</td><td>0</td><td>0</td><td>0</td><td>0</td><td>⋯</td><td>0</td><td>0</td><td>0</td><td>3</td><td> 7</td><td> 0</td><td> 4.5</td><td> 4.5</td><td>  0</td><td>phishing  </td></tr>\n",
       "\t<tr><td>http://www.shadetreetechnology.com/V4/validation/ba4b8bddd7958ecb8772c836c2969531</td><td>81</td><td>27</td><td>2</td><td>0</td><td>0</td><td>0</td><td>0</td><td>0</td><td>0</td><td>⋯</td><td>0</td><td>0</td><td>0</td><td>2</td><td>19</td><td>32</td><td>13.2</td><td>11.0</td><td> 76</td><td>phishing  </td></tr>\n",
       "\t<tr><td>https://www.missfiga.com/                                                        </td><td>25</td><td>16</td><td>2</td><td>0</td><td>0</td><td>0</td><td>0</td><td>0</td><td>0</td><td>⋯</td><td>0</td><td>0</td><td>0</td><td>2</td><td> 8</td><td> 0</td><td> 5.5</td><td> 5.5</td><td>880</td><td>legitimate</td></tr>\n",
       "\t<tr><td>⋮</td><td>⋮</td><td>⋮</td><td>⋮</td><td>⋮</td><td>⋮</td><td>⋮</td><td>⋮</td><td>⋮</td><td>⋮</td><td>⋱</td><td>⋮</td><td>⋮</td><td>⋮</td><td>⋮</td><td>⋮</td><td>⋮</td><td>⋮</td><td>⋮</td><td>⋮</td><td>⋮</td></tr>\n",
       "\t<tr><td>https://www.facebook.com/Interactive-Television-Pvt-Ltd-Group-M-100230523435650/photos/?ref=page_internal                                                                                                                                                                                                                                                                                                                                                                                    </td><td>105</td><td>16</td><td> 2</td><td>6</td><td>0</td><td>1</td><td>0</td><td>0</td><td>1</td><td>⋯</td><td>0.0000000</td><td>0</td><td>0</td><td>2</td><td>8</td><td>15</td><td>6.153846</td><td>5.50</td><td>2809</td><td>legitimate</td></tr>\n",
       "\t<tr><td>http://174.139.46.123/ap/signin?openid.pape.max_auth_age=0&amp;amp;openid.return_to=https%3A%2F%2Fwww.amazon.co.jp%2F%3Fref_%3Dnav_em_hd_re_signin&amp;amp;openid.identity=http%3A%2F%2Fspecs.openid.net%2Fauth%2F2.0%2Fidentifier_select&amp;amp;openid.assoc_handle=jpflex&amp;amp;openid.mode=checkid_setup&amp;amp;key=a@b.c&amp;amp;openid.claimed_id=http%3A%2F%2Fspecs.openid.net%2Fauth%2F2.0%2Fidentifier_select&amp;amp;openid.ns=http%3A%2F%2Fspecs.openid.net%2Fauth%2F2.0&amp;amp;&amp;amp;ref_=nav_em_hd_clc_signin</td><td>477</td><td>14</td><td>24</td><td>0</td><td>1</td><td>1</td><td>9</td><td>0</td><td>9</td><td>⋯</td><td>0.7857143</td><td>1</td><td>1</td><td>3</td><td>3</td><td>12</td><td>4.377778</td><td>2.75</td><td><span style=white-space:pre-wrap>   0</span></td><td><span style=white-space:pre-wrap>phishing  </span></td></tr>\n",
       "</tbody>\n",
       "</table>\n"
      ],
      "text/latex": [
       "A tibble: 2858 × 36\n",
       "\\begin{tabular}{lllllllllllllllllllll}\n",
       " url & length\\_url & length\\_hostname & nb\\_dots & nb\\_hyphens & nb\\_at & nb\\_qm & nb\\_and & nb\\_or & nb\\_eq & ⋯ & ratio\\_digits\\_host & tld\\_in\\_path & tld\\_in\\_subdomain & nb\\_subdomains & longest\\_word\\_host & longest\\_word\\_path & avg\\_words\\_raw & avg\\_word\\_host & domain\\_registration\\_length & status\\\\\n",
       " <chr> & <dbl> & <dbl> & <dbl> & <dbl> & <dbl> & <dbl> & <dbl> & <dbl> & <dbl> & ⋯ & <dbl> & <dbl> & <dbl> & <dbl> & <dbl> & <dbl> & <dbl> & <dbl> & <dbl> & <chr>\\\\\n",
       "\\hline\n",
       "\t http://appleid.apple.com-app.es/                                                  & 32 & 24 & 3 & 1 & 0 & 0 & 0 & 0 & 0 & ⋯ & 0 & 0 & 0 & 3 &  7 &  0 &  4.5 &  4.5 &   0 & phishing  \\\\\n",
       "\t http://www.shadetreetechnology.com/V4/validation/ba4b8bddd7958ecb8772c836c2969531 & 81 & 27 & 2 & 0 & 0 & 0 & 0 & 0 & 0 & ⋯ & 0 & 0 & 0 & 2 & 19 & 32 & 13.2 & 11.0 &  76 & phishing  \\\\\n",
       "\t https://www.missfiga.com/                                                         & 25 & 16 & 2 & 0 & 0 & 0 & 0 & 0 & 0 & ⋯ & 0 & 0 & 0 & 2 &  8 &  0 &  5.5 &  5.5 & 880 & legitimate\\\\\n",
       "\t ⋮ & ⋮ & ⋮ & ⋮ & ⋮ & ⋮ & ⋮ & ⋮ & ⋮ & ⋮ & ⋱ & ⋮ & ⋮ & ⋮ & ⋮ & ⋮ & ⋮ & ⋮ & ⋮ & ⋮ & ⋮\\\\\n",
       "\t https://www.facebook.com/Interactive-Television-Pvt-Ltd-Group-M-100230523435650/photos/?ref=page\\_internal                                                                                                                                                                                                                                                                                                                                                                                     & 105 & 16 &  2 & 6 & 0 & 1 & 0 & 0 & 1 & ⋯ & 0.0000000 & 0 & 0 & 2 & 8 & 15 & 6.153846 & 5.50 & 2809 & legitimate\\\\\n",
       "\t http://174.139.46.123/ap/signin?openid.pape.max\\_auth\\_age=0\\&amp;openid.return\\_to=https\\%3A\\%2F\\%2Fwww.amazon.co.jp\\%2F\\%3Fref\\_\\%3Dnav\\_em\\_hd\\_re\\_signin\\&amp;openid.identity=http\\%3A\\%2F\\%2Fspecs.openid.net\\%2Fauth\\%2F2.0\\%2Fidentifier\\_select\\&amp;openid.assoc\\_handle=jpflex\\&amp;openid.mode=checkid\\_setup\\&amp;key=a@b.c\\&amp;openid.claimed\\_id=http\\%3A\\%2F\\%2Fspecs.openid.net\\%2Fauth\\%2F2.0\\%2Fidentifier\\_select\\&amp;openid.ns=http\\%3A\\%2F\\%2Fspecs.openid.net\\%2Fauth\\%2F2.0\\&amp;\\&amp;ref\\_=nav\\_em\\_hd\\_clc\\_signin & 477 & 14 & 24 & 0 & 1 & 1 & 9 & 0 & 9 & ⋯ & 0.7857143 & 1 & 1 & 3 & 3 & 12 & 4.377778 & 2.75 &    0 & phishing  \\\\\n",
       "\\end{tabular}\n"
      ],
      "text/markdown": [
       "\n",
       "A tibble: 2858 × 36\n",
       "\n",
       "| url &lt;chr&gt; | length_url &lt;dbl&gt; | length_hostname &lt;dbl&gt; | nb_dots &lt;dbl&gt; | nb_hyphens &lt;dbl&gt; | nb_at &lt;dbl&gt; | nb_qm &lt;dbl&gt; | nb_and &lt;dbl&gt; | nb_or &lt;dbl&gt; | nb_eq &lt;dbl&gt; | ⋯ ⋯ | ratio_digits_host &lt;dbl&gt; | tld_in_path &lt;dbl&gt; | tld_in_subdomain &lt;dbl&gt; | nb_subdomains &lt;dbl&gt; | longest_word_host &lt;dbl&gt; | longest_word_path &lt;dbl&gt; | avg_words_raw &lt;dbl&gt; | avg_word_host &lt;dbl&gt; | domain_registration_length &lt;dbl&gt; | status &lt;chr&gt; |\n",
       "|---|---|---|---|---|---|---|---|---|---|---|---|---|---|---|---|---|---|---|---|---|\n",
       "| http://appleid.apple.com-app.es/                                                  | 32 | 24 | 3 | 1 | 0 | 0 | 0 | 0 | 0 | ⋯ | 0 | 0 | 0 | 3 |  7 |  0 |  4.5 |  4.5 |   0 | phishing   |\n",
       "| http://www.shadetreetechnology.com/V4/validation/ba4b8bddd7958ecb8772c836c2969531 | 81 | 27 | 2 | 0 | 0 | 0 | 0 | 0 | 0 | ⋯ | 0 | 0 | 0 | 2 | 19 | 32 | 13.2 | 11.0 |  76 | phishing   |\n",
       "| https://www.missfiga.com/                                                         | 25 | 16 | 2 | 0 | 0 | 0 | 0 | 0 | 0 | ⋯ | 0 | 0 | 0 | 2 |  8 |  0 |  5.5 |  5.5 | 880 | legitimate |\n",
       "| ⋮ | ⋮ | ⋮ | ⋮ | ⋮ | ⋮ | ⋮ | ⋮ | ⋮ | ⋮ | ⋱ | ⋮ | ⋮ | ⋮ | ⋮ | ⋮ | ⋮ | ⋮ | ⋮ | ⋮ | ⋮ |\n",
       "| https://www.facebook.com/Interactive-Television-Pvt-Ltd-Group-M-100230523435650/photos/?ref=page_internal                                                                                                                                                                                                                                                                                                                                                                                     | 105 | 16 |  2 | 6 | 0 | 1 | 0 | 0 | 1 | ⋯ | 0.0000000 | 0 | 0 | 2 | 8 | 15 | 6.153846 | 5.50 | 2809 | legitimate |\n",
       "| http://174.139.46.123/ap/signin?openid.pape.max_auth_age=0&amp;amp;openid.return_to=https%3A%2F%2Fwww.amazon.co.jp%2F%3Fref_%3Dnav_em_hd_re_signin&amp;amp;openid.identity=http%3A%2F%2Fspecs.openid.net%2Fauth%2F2.0%2Fidentifier_select&amp;amp;openid.assoc_handle=jpflex&amp;amp;openid.mode=checkid_setup&amp;amp;key=a@b.c&amp;amp;openid.claimed_id=http%3A%2F%2Fspecs.openid.net%2Fauth%2F2.0%2Fidentifier_select&amp;amp;openid.ns=http%3A%2F%2Fspecs.openid.net%2Fauth%2F2.0&amp;amp;&amp;amp;ref_=nav_em_hd_clc_signin | 477 | 14 | 24 | 0 | 1 | 1 | 9 | 0 | 9 | ⋯ | 0.7857143 | 1 | 1 | 3 | 3 | 12 | 4.377778 | 2.75 |    0 | phishing   |\n",
       "\n"
      ],
      "text/plain": [
       "     url                                                                                                                                                                                                                                                                                                                                                                                                                                                                                          \n",
       "1    http://appleid.apple.com-app.es/                                                                                                                                                                                                                                                                                                                                                                                                                                                             \n",
       "2    http://www.shadetreetechnology.com/V4/validation/ba4b8bddd7958ecb8772c836c2969531                                                                                                                                                                                                                                                                                                                                                                                                            \n",
       "3    https://www.missfiga.com/                                                                                                                                                                                                                                                                                                                                                                                                                                                                    \n",
       "⋮    ⋮                                                                                                                                                                                                                                                                                                                                                                                                                                                                                            \n",
       "2857 https://www.facebook.com/Interactive-Television-Pvt-Ltd-Group-M-100230523435650/photos/?ref=page_internal                                                                                                                                                                                                                                                                                                                                                                                    \n",
       "2858 http://174.139.46.123/ap/signin?openid.pape.max_auth_age=0&amp;openid.return_to=https%3A%2F%2Fwww.amazon.co.jp%2F%3Fref_%3Dnav_em_hd_re_signin&amp;openid.identity=http%3A%2F%2Fspecs.openid.net%2Fauth%2F2.0%2Fidentifier_select&amp;openid.assoc_handle=jpflex&amp;openid.mode=checkid_setup&amp;key=a@b.c&amp;openid.claimed_id=http%3A%2F%2Fspecs.openid.net%2Fauth%2F2.0%2Fidentifier_select&amp;openid.ns=http%3A%2F%2Fspecs.openid.net%2Fauth%2F2.0&amp;&amp;ref_=nav_em_hd_clc_signin\n",
       "     length_url length_hostname nb_dots nb_hyphens nb_at nb_qm nb_and nb_or\n",
       "1    32         24              3       1          0     0     0      0    \n",
       "2    81         27              2       0          0     0     0      0    \n",
       "3    25         16              2       0          0     0     0      0    \n",
       "⋮    ⋮          ⋮               ⋮       ⋮          ⋮     ⋮     ⋮      ⋮    \n",
       "2857 105        16               2      6          0     1     0      0    \n",
       "2858 477        14              24      0          1     1     9      0    \n",
       "     nb_eq ⋯ ratio_digits_host tld_in_path tld_in_subdomain nb_subdomains\n",
       "1    0     ⋯ 0                 0           0                3            \n",
       "2    0     ⋯ 0                 0           0                2            \n",
       "3    0     ⋯ 0                 0           0                2            \n",
       "⋮    ⋮     ⋱ ⋮                 ⋮           ⋮                ⋮            \n",
       "2857 1     ⋯ 0.0000000         0           0                2            \n",
       "2858 9     ⋯ 0.7857143         1           1                3            \n",
       "     longest_word_host longest_word_path avg_words_raw avg_word_host\n",
       "1     7                 0                 4.5           4.5         \n",
       "2    19                32                13.2          11.0         \n",
       "3     8                 0                 5.5           5.5         \n",
       "⋮    ⋮                 ⋮                 ⋮             ⋮            \n",
       "2857 8                 15                6.153846      5.50         \n",
       "2858 3                 12                4.377778      2.75         \n",
       "     domain_registration_length status    \n",
       "1      0                        phishing  \n",
       "2     76                        phishing  \n",
       "3    880                        legitimate\n",
       "⋮    ⋮                          ⋮         \n",
       "2857 2809                       legitimate\n",
       "2858    0                       phishing  "
      ]
     },
     "metadata": {},
     "output_type": "display_data"
    }
   ],
   "source": [
    "phishing_imp <- phishing_data |>\n",
    "select (url, length_url, length_hostname, nb_dots, nb_hyphens, nb_at, nb_qm, nb_and, nb_or, nb_eq, nb_underscore, nb_tilde,\n",
    "        nb_percent, nb_slash, nb_star, nb_colon, nb_comma, nb_semicolumn, nb_dollar, nb_space, nb_www, nb_com, nb_dslash, \n",
    "        http_in_path, https_token, ratio_digits_url, ratio_digits_host, tld_in_path, tld_in_subdomain, nb_subdomains,\n",
    "        longest_word_host, longest_word_path, avg_words_raw, avg_word_host, domain_registration_length, status)\n",
    "\n",
    "phishing_split <- initial_split(phishing_imp, prop = 3/4, strata = status)\n",
    "phishing_train <- training(phishing_split)\n",
    "phishing_test <- testing(phishing_split)\n",
    "phishing_train\n",
    "phishing_test"
   ]
  },
  {
   "cell_type": "markdown",
   "id": "0afefd83-414c-4b8d-920e-1651ae5e2f2a",
   "metadata": {
    "tags": []
   },
   "source": [
    "### Data Summary"
   ]
  },
  {
   "cell_type": "markdown",
   "id": "ae6d2e56-1b19-4992-9e5d-500b1eaff8bd",
   "metadata": {},
   "source": [
    "<p style=\"color:red;\">TODO</p>"
   ]
  },
  {
   "cell_type": "markdown",
   "id": "82db9904-02ca-4d2a-a08f-f1f8a342a6fe",
   "metadata": {},
   "source": [
    "### Data Visualization"
   ]
  },
  {
   "cell_type": "markdown",
   "id": "ab429f1f-18e8-4817-8a54-4915c59444ba",
   "metadata": {},
   "source": [
    "<p style=\"color:red;\">TODO</p>"
   ]
  },
  {
   "cell_type": "markdown",
   "id": "ddb4c013-0dba-437b-83a9-15a9f5fd40fd",
   "metadata": {},
   "source": [
    "## Methods"
   ]
  },
  {
   "cell_type": "markdown",
   "id": "b3fc7fc1-1088-4b78-97b5-f9a20a543daf",
   "metadata": {},
   "source": [
    "### How we will conduct data analysis"
   ]
  },
  {
   "cell_type": "markdown",
   "id": "be8452bb-c462-47a9-adf4-c1d6f6d5c556",
   "metadata": {},
   "source": [
    "<p style=\"color:red;\">TODO</p>"
   ]
  },
  {
   "cell_type": "markdown",
   "id": "27da66f7-8016-4514-8995-6e6d02d61bb4",
   "metadata": {},
   "source": [
    "### How we will visualize the results"
   ]
  },
  {
   "cell_type": "markdown",
   "id": "1923ef7e-8d88-4fec-907f-93b73e366d3b",
   "metadata": {},
   "source": [
    "<p style=\"color:red;\">TODO</p>"
   ]
  },
  {
   "cell_type": "markdown",
   "id": "1896e6ee-5530-4655-be3d-8e87bb5e7d47",
   "metadata": {},
   "source": [
    "## Expected Outcomes and Significance"
   ]
  },
  {
   "cell_type": "markdown",
   "id": "8a5a9061-9c1f-4c46-b873-39dc4f8d3de3",
   "metadata": {},
   "source": [
    "<p style=\"color:red;\">TODO</p>"
   ]
  }
 ],
 "metadata": {
  "kernelspec": {
   "display_name": "R",
   "language": "R",
   "name": "ir"
  },
  "language_info": {
   "codemirror_mode": "r",
   "file_extension": ".r",
   "mimetype": "text/x-r-source",
   "name": "R",
   "pygments_lexer": "r",
   "version": "4.1.3"
  }
 },
 "nbformat": 4,
 "nbformat_minor": 5
}
